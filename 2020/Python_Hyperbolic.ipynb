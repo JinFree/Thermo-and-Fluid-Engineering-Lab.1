{
  "nbformat": 4,
  "nbformat_minor": 0,
  "metadata": {
    "colab": {
      "name": "Python_Hyperbolic.ipynb",
      "provenance": [],
      "authorship_tag": "ABX9TyMS3yZv4OqMhPdy2p43jH+4",
      "include_colab_link": true
    },
    "kernelspec": {
      "name": "python3",
      "display_name": "Python 3"
    }
  },
  "cells": [
    {
      "cell_type": "markdown",
      "metadata": {
        "id": "view-in-github",
        "colab_type": "text"
      },
      "source": [
        "<a href=\"https://colab.research.google.com/github/JinFree/Thermo-and-Fluid-Engineering-Lab.1/blob/master/2020/Python_Hyperbolic.ipynb\" target=\"_parent\"><img src=\"https://colab.research.google.com/assets/colab-badge.svg\" alt=\"Open In Colab\"/></a>"
      ]
    },
    {
      "cell_type": "code",
      "metadata": {
        "id": "VCdoEH0Q9PUx",
        "colab_type": "code",
        "colab": {}
      },
      "source": [
        "import math\n",
        "import os\n",
        "import shutil\n",
        "import numpy as np"
      ],
      "execution_count": 0,
      "outputs": []
    },
    {
      "cell_type": "code",
      "metadata": {
        "id": "sTas5IYG9UB8",
        "colab_type": "code",
        "colab": {}
      },
      "source": [
        "class Hyperbolic:\n",
        "    PI = math.pi\n",
        "\n",
        "    def __init__(self):\n",
        "        self.scheme = 'Ex_Upwind'\n",
        "        print(\"Solve Explicit Upwind\")\n",
        "        self.Scheme_name = \"Explicit_Upwind\"\n",
        "\n",
        "    def Initialize(self):\n",
        "        self.dx = 5.0\n",
        "        self.dt = 0.02\n",
        "        self.end_t = 1.0\n",
        "        self.L = 400\n",
        "        self.alpha = 250.0\n",
        "\n",
        "    def CalDeltaT(self):\n",
        "        self.dt = self.CFL * self.dx / self.alpha\n",
        "\n",
        "    def Dir_Write(self):\n",
        "        self.dirname = \"Hyperbolic,{0},c={1}\".format(self.Scheme_name, self.CFL)\n",
        "        path = os.getcwd()\n",
        "        self.dirname = os.path.join(path, self.dirname)\n",
        "        if os.path.isdir(self.dirname):\n",
        "            shutil.rmtree(self.dirname)  # 디렉토리가 존재하면 삭제하고 다시 계산# return # 디렉토리가 존재하면 덮어쓰기 #\n",
        "        os.mkdir(self.dirname)\n",
        "        return\n",
        "\n",
        "    def Para_Write(self):\n",
        "        filename = \"{0}/{1}, c = {2}.csv.\".format(self.dirname, self.Scheme_name, self.CFL)\n",
        "        filename = \"%s%.6f\"%(filename, self.time)\n",
        "        file = open(filename, 'w')\n",
        "        file.write(\"X,Y,Z,Velocity\\n\")\n",
        "        for i in range(self.N):\n",
        "            data = \"%3.3f,%3.3f,%3.3f,%3.3f\\n\" % (float(i*self.dx), 0.0, 0.0, self.U[i])\n",
        "            file.write(data)\n",
        "        file.close()\n",
        "\n",
        "    def Initial_Condition(self):\n",
        "        for i in range(int(50.0/self.dx) , int(110.0/self.dx+1)):\n",
        "            self.U[i] = abs(100.0 * (math.sin(self.PI*(i*self.dx - 50.0)/60.0)))\n",
        "            self.Unew[i] = abs(100.0 * (math.sin(self.PI*(i*self.dx - 50.0)/60.0)))\n",
        "\n",
        "    def Boundary_Condition(self):\n",
        "        self.U[0] = 0.0\n",
        "        self.Unew[0] = 0.0\n",
        "        self.U[self.N-1] = 0.0\n",
        "        self.Unew[self.N-1] = 0.0\n",
        "\n",
        "    def Time_Marching(self):\n",
        "        self.U = self.Unew.copy()\n",
        "\n",
        "    def Ex_Upwind(self):\n",
        "        for i in range(1, self.N-1):\n",
        "            self.Unew[i] = self.U[i] - self.CFL * (self.U[i]-self.U[i-1])\n",
        "        \n",
        "\n",
        "    def Main(self):\n",
        "        self.Initialize()\n",
        "        CFL = [1.0, 0.5, 0.25]\n",
        "        for i in CFL:\n",
        "            self.time = 0.0\n",
        "            self.CFL = i\n",
        "            self.CalDeltaT()\n",
        "            self.N = int(float(self.L)/self.dx)\n",
        "            self.U = np.zeros(self.N)\n",
        "            self.Unew = np.zeros(self.N)\n",
        "            self.Initial_Condition()\n",
        "            self.Boundary_Condition()\n",
        "            self.iter = int(self.end_t/self.dt)\n",
        "            self.Dir_Write()\n",
        "            for j in range(self.iter+1):\n",
        "                if float(j) % (1.0 / self.CFL) == 0:\n",
        "                    self.Para_Write()\n",
        "                self.Ex_Upwind()\n",
        "                self.Time_Marching()\n",
        "                self.Boundary_Condition()\n",
        "                self.time += self.dt\n",
        "                print(\"\\rCFL = %3.3f, time = %.6f\" % (self.CFL, self.time), end=\"\")\n",
        "            print()"
      ],
      "execution_count": 0,
      "outputs": []
    },
    {
      "cell_type": "code",
      "metadata": {
        "id": "TiF4QDa1-D0E",
        "colab_type": "code",
        "colab": {
          "base_uri": "https://localhost:8080/",
          "height": 89
        },
        "outputId": "2593d50c-99d3-4e30-eacf-c731e6efbe67"
      },
      "source": [
        "PyCompute = Hyperbolic()\n",
        "PyCompute.Main()"
      ],
      "execution_count": 8,
      "outputs": [
        {
          "output_type": "stream",
          "text": [
            "Solve Explicit Upwind\n",
            "\rCFL = 1.000, time = 0.020000\rCFL = 1.000, time = 0.040000\rCFL = 1.000, time = 0.060000\rCFL = 1.000, time = 0.080000\rCFL = 1.000, time = 0.100000\rCFL = 1.000, time = 0.120000\rCFL = 1.000, time = 0.140000\rCFL = 1.000, time = 0.160000\rCFL = 1.000, time = 0.180000\rCFL = 1.000, time = 0.200000\rCFL = 1.000, time = 0.220000\rCFL = 1.000, time = 0.240000\rCFL = 1.000, time = 0.260000\rCFL = 1.000, time = 0.280000\rCFL = 1.000, time = 0.300000\rCFL = 1.000, time = 0.320000\rCFL = 1.000, time = 0.340000\rCFL = 1.000, time = 0.360000\rCFL = 1.000, time = 0.380000\rCFL = 1.000, time = 0.400000\rCFL = 1.000, time = 0.420000\rCFL = 1.000, time = 0.440000\rCFL = 1.000, time = 0.460000\rCFL = 1.000, time = 0.480000\rCFL = 1.000, time = 0.500000\rCFL = 1.000, time = 0.520000\rCFL = 1.000, time = 0.540000\rCFL = 1.000, time = 0.560000\rCFL = 1.000, time = 0.580000\rCFL = 1.000, time = 0.600000\rCFL = 1.000, time = 0.620000\rCFL = 1.000, time = 0.640000\rCFL = 1.000, time = 0.660000\rCFL = 1.000, time = 0.680000\rCFL = 1.000, time = 0.700000\rCFL = 1.000, time = 0.720000\rCFL = 1.000, time = 0.740000\rCFL = 1.000, time = 0.760000\rCFL = 1.000, time = 0.780000\rCFL = 1.000, time = 0.800000\rCFL = 1.000, time = 0.820000\rCFL = 1.000, time = 0.840000\rCFL = 1.000, time = 0.860000\rCFL = 1.000, time = 0.880000\rCFL = 1.000, time = 0.900000\rCFL = 1.000, time = 0.920000\rCFL = 1.000, time = 0.940000\rCFL = 1.000, time = 0.960000\rCFL = 1.000, time = 0.980000\rCFL = 1.000, time = 1.000000\rCFL = 1.000, time = 1.020000\n",
            "\rCFL = 0.500, time = 0.010000\rCFL = 0.500, time = 0.020000\rCFL = 0.500, time = 0.030000\rCFL = 0.500, time = 0.040000\rCFL = 0.500, time = 0.050000\rCFL = 0.500, time = 0.060000\rCFL = 0.500, time = 0.070000\rCFL = 0.500, time = 0.080000\rCFL = 0.500, time = 0.090000\rCFL = 0.500, time = 0.100000\rCFL = 0.500, time = 0.110000\rCFL = 0.500, time = 0.120000\rCFL = 0.500, time = 0.130000\rCFL = 0.500, time = 0.140000\rCFL = 0.500, time = 0.150000\rCFL = 0.500, time = 0.160000\rCFL = 0.500, time = 0.170000\rCFL = 0.500, time = 0.180000\rCFL = 0.500, time = 0.190000\rCFL = 0.500, time = 0.200000\rCFL = 0.500, time = 0.210000\rCFL = 0.500, time = 0.220000\rCFL = 0.500, time = 0.230000\rCFL = 0.500, time = 0.240000\rCFL = 0.500, time = 0.250000\rCFL = 0.500, time = 0.260000\rCFL = 0.500, time = 0.270000\rCFL = 0.500, time = 0.280000\rCFL = 0.500, time = 0.290000\rCFL = 0.500, time = 0.300000\rCFL = 0.500, time = 0.310000\rCFL = 0.500, time = 0.320000\rCFL = 0.500, time = 0.330000\rCFL = 0.500, time = 0.340000\rCFL = 0.500, time = 0.350000\rCFL = 0.500, time = 0.360000\rCFL = 0.500, time = 0.370000\rCFL = 0.500, time = 0.380000\rCFL = 0.500, time = 0.390000\rCFL = 0.500, time = 0.400000\rCFL = 0.500, time = 0.410000\rCFL = 0.500, time = 0.420000\rCFL = 0.500, time = 0.430000\rCFL = 0.500, time = 0.440000\rCFL = 0.500, time = 0.450000\rCFL = 0.500, time = 0.460000\rCFL = 0.500, time = 0.470000\rCFL = 0.500, time = 0.480000\rCFL = 0.500, time = 0.490000\rCFL = 0.500, time = 0.500000\rCFL = 0.500, time = 0.510000\rCFL = 0.500, time = 0.520000\rCFL = 0.500, time = 0.530000\rCFL = 0.500, time = 0.540000\rCFL = 0.500, time = 0.550000\rCFL = 0.500, time = 0.560000\rCFL = 0.500, time = 0.570000\rCFL = 0.500, time = 0.580000\rCFL = 0.500, time = 0.590000\rCFL = 0.500, time = 0.600000\rCFL = 0.500, time = 0.610000\rCFL = 0.500, time = 0.620000\rCFL = 0.500, time = 0.630000\rCFL = 0.500, time = 0.640000\rCFL = 0.500, time = 0.650000\rCFL = 0.500, time = 0.660000\rCFL = 0.500, time = 0.670000\rCFL = 0.500, time = 0.680000\rCFL = 0.500, time = 0.690000\rCFL = 0.500, time = 0.700000\rCFL = 0.500, time = 0.710000\rCFL = 0.500, time = 0.720000\rCFL = 0.500, time = 0.730000\rCFL = 0.500, time = 0.740000\rCFL = 0.500, time = 0.750000\rCFL = 0.500, time = 0.760000\rCFL = 0.500, time = 0.770000\rCFL = 0.500, time = 0.780000\rCFL = 0.500, time = 0.790000\rCFL = 0.500, time = 0.800000\rCFL = 0.500, time = 0.810000\rCFL = 0.500, time = 0.820000\rCFL = 0.500, time = 0.830000\rCFL = 0.500, time = 0.840000\rCFL = 0.500, time = 0.850000\rCFL = 0.500, time = 0.860000\rCFL = 0.500, time = 0.870000\rCFL = 0.500, time = 0.880000\rCFL = 0.500, time = 0.890000\rCFL = 0.500, time = 0.900000\rCFL = 0.500, time = 0.910000\rCFL = 0.500, time = 0.920000\rCFL = 0.500, time = 0.930000\rCFL = 0.500, time = 0.940000\rCFL = 0.500, time = 0.950000\rCFL = 0.500, time = 0.960000\rCFL = 0.500, time = 0.970000\rCFL = 0.500, time = 0.980000\rCFL = 0.500, time = 0.990000\rCFL = 0.500, time = 1.000000\rCFL = 0.500, time = 1.010000\n",
            "\rCFL = 0.250, time = 0.005000\rCFL = 0.250, time = 0.010000\rCFL = 0.250, time = 0.015000\rCFL = 0.250, time = 0.020000\rCFL = 0.250, time = 0.025000\rCFL = 0.250, time = 0.030000\rCFL = 0.250, time = 0.035000\rCFL = 0.250, time = 0.040000\rCFL = 0.250, time = 0.045000\rCFL = 0.250, time = 0.050000\rCFL = 0.250, time = 0.055000\rCFL = 0.250, time = 0.060000\rCFL = 0.250, time = 0.065000\rCFL = 0.250, time = 0.070000\rCFL = 0.250, time = 0.075000\rCFL = 0.250, time = 0.080000\rCFL = 0.250, time = 0.085000\rCFL = 0.250, time = 0.090000\rCFL = 0.250, time = 0.095000\rCFL = 0.250, time = 0.100000\rCFL = 0.250, time = 0.105000\rCFL = 0.250, time = 0.110000\rCFL = 0.250, time = 0.115000\rCFL = 0.250, time = 0.120000\rCFL = 0.250, time = 0.125000\rCFL = 0.250, time = 0.130000\rCFL = 0.250, time = 0.135000\rCFL = 0.250, time = 0.140000\rCFL = 0.250, time = 0.145000\rCFL = 0.250, time = 0.150000\rCFL = 0.250, time = 0.155000\rCFL = 0.250, time = 0.160000\rCFL = 0.250, time = 0.165000\rCFL = 0.250, time = 0.170000\rCFL = 0.250, time = 0.175000\rCFL = 0.250, time = 0.180000\rCFL = 0.250, time = 0.185000\rCFL = 0.250, time = 0.190000\rCFL = 0.250, time = 0.195000\rCFL = 0.250, time = 0.200000\rCFL = 0.250, time = 0.205000\rCFL = 0.250, time = 0.210000\rCFL = 0.250, time = 0.215000\rCFL = 0.250, time = 0.220000\rCFL = 0.250, time = 0.225000\rCFL = 0.250, time = 0.230000\rCFL = 0.250, time = 0.235000\rCFL = 0.250, time = 0.240000\rCFL = 0.250, time = 0.245000\rCFL = 0.250, time = 0.250000\rCFL = 0.250, time = 0.255000\rCFL = 0.250, time = 0.260000\rCFL = 0.250, time = 0.265000\rCFL = 0.250, time = 0.270000\rCFL = 0.250, time = 0.275000\rCFL = 0.250, time = 0.280000\rCFL = 0.250, time = 0.285000\rCFL = 0.250, time = 0.290000\rCFL = 0.250, time = 0.295000\rCFL = 0.250, time = 0.300000\rCFL = 0.250, time = 0.305000\rCFL = 0.250, time = 0.310000\rCFL = 0.250, time = 0.315000\rCFL = 0.250, time = 0.320000\rCFL = 0.250, time = 0.325000\rCFL = 0.250, time = 0.330000\rCFL = 0.250, time = 0.335000\rCFL = 0.250, time = 0.340000\rCFL = 0.250, time = 0.345000\rCFL = 0.250, time = 0.350000\rCFL = 0.250, time = 0.355000\rCFL = 0.250, time = 0.360000\rCFL = 0.250, time = 0.365000\rCFL = 0.250, time = 0.370000\rCFL = 0.250, time = 0.375000\rCFL = 0.250, time = 0.380000\rCFL = 0.250, time = 0.385000\rCFL = 0.250, time = 0.390000\rCFL = 0.250, time = 0.395000\rCFL = 0.250, time = 0.400000\rCFL = 0.250, time = 0.405000\rCFL = 0.250, time = 0.410000\rCFL = 0.250, time = 0.415000\rCFL = 0.250, time = 0.420000\rCFL = 0.250, time = 0.425000\rCFL = 0.250, time = 0.430000\rCFL = 0.250, time = 0.435000\rCFL = 0.250, time = 0.440000\rCFL = 0.250, time = 0.445000\rCFL = 0.250, time = 0.450000\rCFL = 0.250, time = 0.455000\rCFL = 0.250, time = 0.460000\rCFL = 0.250, time = 0.465000\rCFL = 0.250, time = 0.470000\rCFL = 0.250, time = 0.475000\rCFL = 0.250, time = 0.480000\rCFL = 0.250, time = 0.485000\rCFL = 0.250, time = 0.490000\rCFL = 0.250, time = 0.495000\rCFL = 0.250, time = 0.500000\rCFL = 0.250, time = 0.505000\rCFL = 0.250, time = 0.510000\rCFL = 0.250, time = 0.515000\rCFL = 0.250, time = 0.520000\rCFL = 0.250, time = 0.525000\rCFL = 0.250, time = 0.530000\rCFL = 0.250, time = 0.535000\rCFL = 0.250, time = 0.540000\rCFL = 0.250, time = 0.545000\rCFL = 0.250, time = 0.550000\rCFL = 0.250, time = 0.555000\rCFL = 0.250, time = 0.560000\rCFL = 0.250, time = 0.565000\rCFL = 0.250, time = 0.570000\rCFL = 0.250, time = 0.575000\rCFL = 0.250, time = 0.580000\rCFL = 0.250, time = 0.585000\rCFL = 0.250, time = 0.590000\rCFL = 0.250, time = 0.595000\rCFL = 0.250, time = 0.600000\rCFL = 0.250, time = 0.605000\rCFL = 0.250, time = 0.610000\rCFL = 0.250, time = 0.615000\rCFL = 0.250, time = 0.620000\rCFL = 0.250, time = 0.625000\rCFL = 0.250, time = 0.630000\rCFL = 0.250, time = 0.635000\rCFL = 0.250, time = 0.640000\rCFL = 0.250, time = 0.645000\rCFL = 0.250, time = 0.650000\rCFL = 0.250, time = 0.655000\rCFL = 0.250, time = 0.660000\rCFL = 0.250, time = 0.665000\rCFL = 0.250, time = 0.670000\rCFL = 0.250, time = 0.675000\rCFL = 0.250, time = 0.680000\rCFL = 0.250, time = 0.685000\rCFL = 0.250, time = 0.690000\rCFL = 0.250, time = 0.695000\rCFL = 0.250, time = 0.700000\rCFL = 0.250, time = 0.705000\rCFL = 0.250, time = 0.710000\rCFL = 0.250, time = 0.715000\rCFL = 0.250, time = 0.720000\rCFL = 0.250, time = 0.725000\rCFL = 0.250, time = 0.730000\rCFL = 0.250, time = 0.735000\rCFL = 0.250, time = 0.740000\rCFL = 0.250, time = 0.745000\rCFL = 0.250, time = 0.750000\rCFL = 0.250, time = 0.755000\rCFL = 0.250, time = 0.760000\rCFL = 0.250, time = 0.765000\rCFL = 0.250, time = 0.770000\rCFL = 0.250, time = 0.775000\rCFL = 0.250, time = 0.780000\rCFL = 0.250, time = 0.785000\rCFL = 0.250, time = 0.790000\rCFL = 0.250, time = 0.795000\rCFL = 0.250, time = 0.800000\rCFL = 0.250, time = 0.805000\rCFL = 0.250, time = 0.810000\rCFL = 0.250, time = 0.815000\rCFL = 0.250, time = 0.820000\rCFL = 0.250, time = 0.825000\rCFL = 0.250, time = 0.830000\rCFL = 0.250, time = 0.835000\rCFL = 0.250, time = 0.840000\rCFL = 0.250, time = 0.845000\rCFL = 0.250, time = 0.850000\rCFL = 0.250, time = 0.855000\rCFL = 0.250, time = 0.860000\rCFL = 0.250, time = 0.865000\rCFL = 0.250, time = 0.870000\rCFL = 0.250, time = 0.875000\rCFL = 0.250, time = 0.880000\rCFL = 0.250, time = 0.885000\rCFL = 0.250, time = 0.890000\rCFL = 0.250, time = 0.895000\rCFL = 0.250, time = 0.900000\rCFL = 0.250, time = 0.905000\rCFL = 0.250, time = 0.910000\rCFL = 0.250, time = 0.915000\rCFL = 0.250, time = 0.920000\rCFL = 0.250, time = 0.925000\rCFL = 0.250, time = 0.930000\rCFL = 0.250, time = 0.935000\rCFL = 0.250, time = 0.940000\rCFL = 0.250, time = 0.945000\rCFL = 0.250, time = 0.950000\rCFL = 0.250, time = 0.955000\rCFL = 0.250, time = 0.960000\rCFL = 0.250, time = 0.965000\rCFL = 0.250, time = 0.970000\rCFL = 0.250, time = 0.975000\rCFL = 0.250, time = 0.980000\rCFL = 0.250, time = 0.985000\rCFL = 0.250, time = 0.990000\rCFL = 0.250, time = 0.995000\rCFL = 0.250, time = 1.000000\rCFL = 0.250, time = 1.005000\n"
          ],
          "name": "stdout"
        }
      ]
    },
    {
      "cell_type": "code",
      "metadata": {
        "id": "qQq2LCOk-Flu",
        "colab_type": "code",
        "colab": {}
      },
      "source": [
        "!zip -r -qq Hyperbolic,Explicit_Upwind,c=1.0.zip Hyperbolic,Explicit_Upwind,c=1.0\n",
        "!zip -r -qq Hyperbolic,Explicit_Upwind,c=0.5.zip Hyperbolic,Explicit_Upwind,c=0.5\n",
        "!zip -r -qq Hyperbolic,Explicit_Upwind,c=0.25.zip Hyperbolic,Explicit_Upwind,c=0.25"
      ],
      "execution_count": 0,
      "outputs": []
    },
    {
      "cell_type": "code",
      "metadata": {
        "id": "wHtvLdMD-u6B",
        "colab_type": "code",
        "colab": {}
      },
      "source": [
        ""
      ],
      "execution_count": 0,
      "outputs": []
    }
  ]
}