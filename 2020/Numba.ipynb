{
  "nbformat": 4,
  "nbformat_minor": 0,
  "metadata": {
    "colab": {
      "name": "Numba.ipynb",
      "provenance": [],
      "toc_visible": true,
      "include_colab_link": true
    },
    "kernelspec": {
      "name": "python3",
      "display_name": "Python 3"
    },
    "accelerator": "GPU"
  },
  "cells": [
    {
      "cell_type": "markdown",
      "metadata": {
        "id": "view-in-github",
        "colab_type": "text"
      },
      "source": [
        "<a href=\"https://colab.research.google.com/github/JinFree/Thermo-and-Fluid-Engineering-Lab.1/blob/master/2020/Numba.ipynb\" target=\"_parent\"><img src=\"https://colab.research.google.com/assets/colab-badge.svg\" alt=\"Open In Colab\"/></a>"
      ]
    },
    {
      "cell_type": "markdown",
      "metadata": {
        "colab_type": "text",
        "id": "xSP2r2U_hB9m"
      },
      "source": [
        "# Numba"
      ]
    },
    {
      "cell_type": "markdown",
      "metadata": {
        "id": "HKKxZTOch0Y5",
        "colab_type": "text"
      },
      "source": [
        "## First Steps with numba"
      ]
    },
    {
      "cell_type": "code",
      "metadata": {
        "id": "j0FcL04Ch4hg",
        "colab_type": "code",
        "colab": {}
      },
      "source": [
        "import numba\n",
        "print(numba.__version__)"
      ],
      "execution_count": 0,
      "outputs": []
    },
    {
      "cell_type": "markdown",
      "metadata": {
        "id": "NL6nEh9Nh3-K",
        "colab_type": "text"
      },
      "source": [
        "### Numba\n",
        "  "
      ]
    },
    {
      "cell_type": "markdown",
      "metadata": {
        "id": "e4PHiu53d6TI",
        "colab_type": "text"
      },
      "source": [
        "\n",
        "* numba는 Python 코드의 특정 부분을 컴파일할 수 있게 하며, 그를 통해 해당 부분이 C 언어로 컴파일된 코드와 같은 속도로 작동할 수 있게 한다.\n",
        "* numba는 함수 수순에서 작동한다.\n",
        "* 이 노트북은 numba의 간단한 사용법이 설명되어 있으며, 아래 깃헙 저장소에서 소개된 내용을 한국어로 번역한 것이다.\n",
        "  * https://github.com/numba/numba"
      ]
    },
    {
      "cell_type": "markdown",
      "metadata": {
        "id": "arBFugC0c-3m",
        "colab_type": "text"
      },
      "source": [
        "* 간단한 예제\n",
        " * Numpy array를 활용하여 Python으로 버블소트를 구현한 경우"
      ]
    },
    {
      "cell_type": "code",
      "metadata": {
        "id": "_XpCWTYkh9wl",
        "colab_type": "code",
        "colab": {}
      },
      "source": [
        "def bubblesort(X):\n",
        "    N = len(X)\n",
        "    for end in range(N, 1, -1):\n",
        "        for i in range(end - 1):\n",
        "            cur = X[i]\n",
        "            if cur > X[i + 1]:\n",
        "                tmp = X[i]\n",
        "                X[i] = X[i + 1]\n",
        "                X[i + 1] = tmp"
      ],
      "execution_count": 0,
      "outputs": []
    },
    {
      "cell_type": "markdown",
      "metadata": {
        "id": "aeKktCkRdSTO",
        "colab_type": "text"
      },
      "source": [
        "* 우선 Numpy array를 생성한 후 랜덤하게 섞는다."
      ]
    },
    {
      "cell_type": "code",
      "metadata": {
        "id": "F9G-DzDSdNNx",
        "colab_type": "code",
        "colab": {}
      },
      "source": [
        "import numpy as np\n",
        "\n",
        "original = np.arange(0.0, 10.0, 0.01, dtype='f4')\n",
        "shuffled = original.copy()\n",
        "np.random.shuffle(shuffled)"
      ],
      "execution_count": 0,
      "outputs": []
    },
    {
      "cell_type": "markdown",
      "metadata": {
        "id": "CD8kKFlKdW_7",
        "colab_type": "text"
      },
      "source": [
        "* 이후 위에서 구현한 정렬 함수를 사용한다."
      ]
    },
    {
      "cell_type": "code",
      "metadata": {
        "id": "5i1f0wa9deHW",
        "colab_type": "code",
        "colab": {}
      },
      "source": [
        "sorted = shuffled.copy()\n",
        "bubblesort(sorted)\n",
        "print(np.array_equal(sorted, original))"
      ],
      "execution_count": 0,
      "outputs": []
    },
    {
      "cell_type": "markdown",
      "metadata": {
        "id": "HBiX5t59dgm-",
        "colab_type": "text"
      },
      "source": [
        "* 이후 수행시간을 확인한다."
      ]
    },
    {
      "cell_type": "code",
      "metadata": {
        "id": "ch7M2Ssjdode",
        "colab_type": "code",
        "colab": {}
      },
      "source": [
        "sorted[:] = shuffled[:]\n",
        "%timeit sorted[:] = shuffled[:]; bubblesort(sorted)"
      ],
      "execution_count": 0,
      "outputs": []
    },
    {
      "cell_type": "code",
      "metadata": {
        "id": "nHN2FA7Edqpv",
        "colab_type": "code",
        "colab": {}
      },
      "source": [
        "%timeit sorted[:] = shuffled[:]"
      ],
      "execution_count": 0,
      "outputs": []
    },
    {
      "cell_type": "markdown",
      "metadata": {
        "id": "wYAkgQhndl3v",
        "colab_type": "text"
      },
      "source": [
        "### numba.jit을 활용한 함수의 컴파일\n"
      ]
    },
    {
      "cell_type": "markdown",
      "metadata": {
        "id": "0I-k_q_QeMPV",
        "colab_type": "text"
      },
      "source": [
        "\n",
        "* numba를 활용하는 방법을 소개한다.\n",
        "* numba.jit 데코레이터를 명시적으로 활용하는 방법이 있다.\n",
        "* 이를 활용한 후 속도 비교를 수행한다."
      ]
    },
    {
      "cell_type": "code",
      "metadata": {
        "id": "wN4elwKBeM5W",
        "colab_type": "code",
        "colab": {}
      },
      "source": [
        "print(numba.jit.__doc__)"
      ],
      "execution_count": 0,
      "outputs": []
    },
    {
      "cell_type": "code",
      "metadata": {
        "id": "UttcVC8PeUBt",
        "colab_type": "code",
        "colab": {}
      },
      "source": [
        "bubblesort_jit = numba.jit(\"void(f4[:])\")(bubblesort)"
      ],
      "execution_count": 0,
      "outputs": []
    },
    {
      "cell_type": "markdown",
      "metadata": {
        "id": "wqHyebqQeXhD",
        "colab_type": "text"
      },
      "source": [
        "* 위 코드를 수행하면, bubblesort_jit는 위에서 선언횐 bubblesort를 컴파일한 함수가 된다.\n",
        "* \"void(f4[:])\"는 Signature라 불리며 함수의 입력과 리턴을 의미한다.\n",
        "* f4[:]는 입력, void는 리턴을 의미한다."
      ]
    },
    {
      "cell_type": "markdown",
      "metadata": {
        "id": "eMgx0AlQe4oC",
        "colab_type": "text"
      },
      "source": [
        "* 작동하는지를 확인한다."
      ]
    },
    {
      "cell_type": "code",
      "metadata": {
        "id": "wmc3sbcSe1hC",
        "colab_type": "code",
        "colab": {}
      },
      "source": [
        "sorted[:] = shuffled[:] # reset to shuffled before sorting\n",
        "bubblesort_jit(sorted)\n",
        "print(np.array_equal(sorted, original))"
      ],
      "execution_count": 0,
      "outputs": []
    },
    {
      "cell_type": "markdown",
      "metadata": {
        "id": "XL6oCAP_e6bU",
        "colab_type": "text"
      },
      "source": [
        "* 이제 작동시간을 확인한다."
      ]
    },
    {
      "cell_type": "code",
      "metadata": {
        "id": "GlhAbTE5e8rU",
        "colab_type": "code",
        "colab": {}
      },
      "source": [
        "%timeit sorted[:] = shuffled[:]; bubblesort_jit(sorted)"
      ],
      "execution_count": 0,
      "outputs": []
    },
    {
      "cell_type": "code",
      "metadata": {
        "id": "PWsn0tsQfAvE",
        "colab_type": "code",
        "colab": {}
      },
      "source": [
        "%timeit sorted[:] = shuffled[:]; bubblesort(sorted)"
      ],
      "execution_count": 0,
      "outputs": []
    },
    {
      "cell_type": "markdown",
      "metadata": {
        "id": "v5tcwDZ6e_gW",
        "colab_type": "text"
      },
      "source": [
        "* 아래와 같은 방식으로도 함수를 컴파일할 수 있다."
      ]
    },
    {
      "cell_type": "code",
      "metadata": {
        "id": "t_-D4VPmfIN9",
        "colab_type": "code",
        "colab": {}
      },
      "source": [
        "@numba.jit(\"void(f4[:])\")\n",
        "def bubblesort_jit_function(X):\n",
        "    N = len(X)\n",
        "    for end in range(N, 1, -1):\n",
        "        for i in range(end - 1):\n",
        "            cur = X[i]\n",
        "            if cur > X[i + 1]:\n",
        "                tmp = X[i]\n",
        "                X[i] = X[i + 1]\n",
        "                X[i + 1] = tmp"
      ],
      "execution_count": 0,
      "outputs": []
    },
    {
      "cell_type": "code",
      "metadata": {
        "id": "5OKffVkHfMAJ",
        "colab_type": "code",
        "colab": {}
      },
      "source": [
        "sorted[:] = shuffled[:] # reset to shuffled before sorting\n",
        "bubblesort_jit_function(sorted)\n",
        "print(np.array_equal(sorted, original))"
      ],
      "execution_count": 0,
      "outputs": []
    },
    {
      "cell_type": "markdown",
      "metadata": {
        "id": "zr3Zp-AIfZTD",
        "colab_type": "text"
      },
      "source": [
        "### Signature\n",
        "* Python함수를 컴파일할 때 컴파일러는 함수의 입출력 자료형 정보를 받아야만 한다.\n",
        "* numba.jit을 통해 컴파일된 함수는 알맞은 입력 자료형에 대해서 정상작동한다. \n",
        " * 그렇지 않은 경우도 가능하나, 흔하지는 않다.\n",
        "* Signature에는 출력 자료형도 포함되며, 아래와 같은 형태를 가진다.\n",
        "* <출력 자료형>(<첫 번째 입력 자료형>, <두 번째 입력 자료형>, ...)"
      ]
    },
    {
      "cell_type": "markdown",
      "metadata": {
        "id": "Z0lc0yzigLob",
        "colab_type": "text"
      },
      "source": [
        "### Signature가 제공되지 않은 함수의 컴파일\n",
        "* numba 버전 0.12 이상에서는 numba.jit에 자료형에 대한 Signature가 제공되지 않아도 컴파일이 가능하다.\n",
        "* 기존에는 이를 numba.autojit로 제공했으나 최근 버전에서는 numba.jit에 포함되었다."
      ]
    },
    {
      "cell_type": "code",
      "metadata": {
        "id": "ti_LFkTYgsZh",
        "colab_type": "code",
        "colab": {}
      },
      "source": [
        "bubblesort_autojit = numba.jit(bubblesort)"
      ],
      "execution_count": 0,
      "outputs": []
    },
    {
      "cell_type": "code",
      "metadata": {
        "id": "5Z5hZjZtgtUR",
        "colab_type": "code",
        "colab": {}
      },
      "source": [
        "%timeit sorted[:] = shuffled[:]; bubblesort_autojit(sorted)"
      ],
      "execution_count": 0,
      "outputs": []
    },
    {
      "cell_type": "markdown",
      "metadata": {
        "id": "gEvIYmxvg5ny",
        "colab_type": "text"
      },
      "source": [
        "### 몇가지 추가 사항\n",
        "* 컴파일에는 시간이 필요하다. 작은 함수를 사용하는 경우에 많은 시간이 걸리지는 않을 것이다. 그러나 많은 기능이 있는 함수를 컴파일 할 때는 시간이 오래 걸릴 수 있다. numba는 가능한 한 컴파일을 빠르게 하기 위해 사용하지 않는 함수는 컴파일을 하지 않는다.\n",
        "* numba를 활용하는 컴파일보다 Python 네이티브 시스템이 더 빠른 경우가 있다. 이 경우에는 컴파일이 되지 않는다.\n",
        "* 기본적으로, 'cpu' 타겟은 'nopython' 모드로 컴파일한다. 이것이 실패하면 Python 네이티브 시스템으로 사용한다."
      ]
    },
    {
      "cell_type": "code",
      "metadata": {
        "id": "PdGmZmKUmFAe",
        "colab_type": "code",
        "colab": {}
      },
      "source": [
        "@numba.jit(\"void(i1[:])\")\n",
        "def test(value):\n",
        "    for i in range(len(value)):\n",
        "        value[i] = i % 100\n",
        "\n",
        "from decimal import Decimal\n",
        "@numba.jit(\"void(i1[:])\")\n",
        "def test2(value):\n",
        "    for i in range(len(value)):\n",
        "        value[i] = i % Decimal(100)\n",
        "\n",
        "res = np.zeros((10000,), dtype=\"i1\")"
      ],
      "execution_count": 0,
      "outputs": []
    },
    {
      "cell_type": "code",
      "metadata": {
        "id": "TobfjKQ4mG56",
        "colab_type": "code",
        "colab": {}
      },
      "source": [
        "%timeit test(res)"
      ],
      "execution_count": 0,
      "outputs": []
    },
    {
      "cell_type": "code",
      "metadata": {
        "id": "MeLwwlYpmPsl",
        "colab_type": "code",
        "colab": {}
      },
      "source": [
        "%timeit test2(res)"
      ],
      "execution_count": 0,
      "outputs": []
    },
    {
      "cell_type": "markdown",
      "metadata": {
        "id": "fPgMNc42mTQA",
        "colab_type": "text"
      },
      "source": [
        "* 'nopython'모드의 코드 컴파일이 실패하는 경우 피드백을 받는 방법은 아래와 같다.\n",
        "* nopython=True를 통해 강제적으로 nopython모드의 컴파일을 수행하게 함으로써 에러를 받아볼 수 있다."
      ]
    },
    {
      "cell_type": "markdown",
      "metadata": {
        "id": "k4b--S0KmyOy",
        "colab_type": "text"
      },
      "source": [
        "* 아래 코드는 정상적으로 numba.jit의 'nopython'모드 컴파일이 수행된다."
      ]
    },
    {
      "cell_type": "code",
      "metadata": {
        "id": "vYn6UNAQmp_q",
        "colab_type": "code",
        "colab": {}
      },
      "source": [
        "@numba.jit(\"void(i1[:])\", nopython=True)\n",
        "def test(value):\n",
        "    for i in range(len(value)):\n",
        "        value[i] = i % 100"
      ],
      "execution_count": 0,
      "outputs": []
    },
    {
      "cell_type": "markdown",
      "metadata": {
        "id": "m15nEG5Mm3cF",
        "colab_type": "text"
      },
      "source": [
        "* 반면에, 아래 코드는 Decimal사용으로 인해 'nopython'모드 컴파일 수행이 불가능하다.\n",
        " * 에러가 나오는 것이 정상이다."
      ]
    },
    {
      "cell_type": "code",
      "metadata": {
        "id": "uEFkAayUmtZy",
        "colab_type": "code",
        "colab": {}
      },
      "source": [
        "@numba.jit(\"void(i1[:])\", nopython=True)\n",
        "def test2(value):\n",
        "    for i in range(len(value)):\n",
        "        value[i] = i % Decimal(100)"
      ],
      "execution_count": 0,
      "outputs": []
    },
    {
      "cell_type": "markdown",
      "metadata": {
        "id": "-vwaeH98oJyZ",
        "colab_type": "text"
      },
      "source": [
        "## CPU를 활용하는 Numba 병렬 연산"
      ]
    },
    {
      "cell_type": "markdown",
      "metadata": {
        "id": "nk6r-2JkoYAS",
        "colab_type": "text"
      },
      "source": [
        "* 아래의 코드는 numpy의 ufunc를 numba를 활용하여 정의하는 코드이다.\n",
        "* 각 배열 요소에 대해 CPU의 모든 코어를 이용하여 연산을 수행한다."
      ]
    },
    {
      "cell_type": "code",
      "metadata": {
        "id": "gIidhAFjok-5",
        "colab_type": "code",
        "colab": {}
      },
      "source": [
        "import math\n",
        "import numba\n",
        "\n",
        "@numba.vectorize([numba.float32(numba.float32, numba.float32)], target='parallel')\n",
        "def func1(x, y):\n",
        "    return math.atan2(x, y)"
      ],
      "execution_count": 0,
      "outputs": []
    },
    {
      "cell_type": "markdown",
      "metadata": {
        "id": "NgR5LIRVpNUK",
        "colab_type": "text"
      },
      "source": [
        "* 위 방법으로 정의된 func1 함수는 아래와 같이 사용할 수 있다."
      ]
    },
    {
      "cell_type": "code",
      "metadata": {
        "id": "UMF8UonwpRXG",
        "colab_type": "code",
        "colab": {}
      },
      "source": [
        "import numpy\n",
        "\n",
        "x = numpy.arange(100000000, dtype=numpy.float32)\n",
        "y = numpy.arange(100000000, dtype=numpy.float32)\n",
        "\n",
        "z = func1(x, y)"
      ],
      "execution_count": 0,
      "outputs": []
    },
    {
      "cell_type": "markdown",
      "metadata": {
        "id": "58AUW7wqpW7M",
        "colab_type": "text"
      },
      "source": [
        "* atan2 함수는 numpy의 ubunc로 이미 구현되어 있으며 아래와 같은 방법으로 사용한다."
      ]
    },
    {
      "cell_type": "code",
      "metadata": {
        "id": "hFNWpTJvpbaE",
        "colab_type": "code",
        "colab": {}
      },
      "source": [
        "import numpy\n",
        "\n",
        "x = numpy.arange(100000000, dtype=numpy.float32)\n",
        "y = numpy.arange(100000000, dtype=numpy.float32)\n",
        "\n",
        "z = numpy.arctan2(x, y)"
      ],
      "execution_count": 0,
      "outputs": []
    },
    {
      "cell_type": "markdown",
      "metadata": {
        "id": "ytyiz2Mgpdtn",
        "colab_type": "text"
      },
      "source": [
        "* func1의 결과와 numpy.atan2의 경과는 동일할 것이며 이를 확인하는 온전한 코드는 아래와 같다."
      ]
    },
    {
      "cell_type": "code",
      "metadata": {
        "id": "OuKdQdQlpkyU",
        "colab_type": "code",
        "colab": {}
      },
      "source": [
        "import math\n",
        "\n",
        "import numpy\n",
        "from numba import vectorize, float32\n",
        "\n",
        "@vectorize([float32(float32, float32)], target='parallel')\n",
        "def func1(x, y):\n",
        "    return math.atan2(x, y)\n",
        "\n",
        "\n",
        "x = numpy.arange(100000000, dtype=numpy.float32)\n",
        "y = numpy.arange(100000000, dtype=numpy.float32)\n",
        "\n",
        "z1 = func1(x, y)\n",
        "z2 = numpy.arctan2(x, y)\n",
        "\n",
        "assert numpy.all(z1 == z2)"
      ],
      "execution_count": 0,
      "outputs": []
    },
    {
      "cell_type": "markdown",
      "metadata": {
        "id": "FyXgbWeRpjDl",
        "colab_type": "text"
      },
      "source": [
        "* %timeit을 통해 수행시간을 비교한다."
      ]
    },
    {
      "cell_type": "code",
      "metadata": {
        "id": "yb3UD0TWp1tF",
        "colab_type": "code",
        "colab": {}
      },
      "source": [
        "%timeit z1 = func1(x, y)"
      ],
      "execution_count": 0,
      "outputs": []
    },
    {
      "cell_type": "code",
      "metadata": {
        "id": "snISTju3p6dL",
        "colab_type": "code",
        "colab": {}
      },
      "source": [
        "%timeit z2 = numpy.arctan2(x, y)"
      ],
      "execution_count": 0,
      "outputs": []
    },
    {
      "cell_type": "markdown",
      "metadata": {
        "id": "RQJN-HD6PUQy",
        "colab_type": "text"
      },
      "source": [
        "## GPU를 활용하는 Numba 병렬 연산"
      ]
    },
    {
      "cell_type": "markdown",
      "metadata": {
        "id": "q1Y6ij0APXhs",
        "colab_type": "text"
      },
      "source": [
        "### CUDA C/C++ vs. Numba vs. pyCUDA"
      ]
    },
    {
      "cell_type": "markdown",
      "metadata": {
        "id": "RneYnK8TPkwU",
        "colab_type": "text"
      },
      "source": [
        "* CUDA C/C++\n",
        " * 가장 빠르고 확실한 CUDA 병렬가속화 방법\n",
        "\n",
        "* pyCUDA\n",
        " * CUDA C/C++ API를 활용할 수 있음\n",
        " * Python에서 CUDA를 활용할 수 있는 가장 성능이 좋은 활용방법\n",
        " * Python에서 C코드를 작성해야 하며, 코드를 많이 바꿔야만 함\n",
        "\n",
        "* Numba\n",
        " * pyCUDA보다 느릴 가능성 있음\n",
        " * CUDA C/C++ API를 (아직은) 활용할 수 없음\n",
        " * 여전히 Numpy보다는 고속화가 가능함\n",
        " * CPU 기반 병렬연산에도 활용할 수 있음\n",
        " * Python에서의 OpenACC라고 볼 수 있음"
      ]
    },
    {
      "cell_type": "markdown",
      "metadata": {
        "id": "ZPjdbjXPQLDK",
        "colab_type": "text"
      },
      "source": [
        "### ufuncs for the GPU"
      ]
    },
    {
      "cell_type": "markdown",
      "metadata": {
        "id": "VhAFtoyuQOgd",
        "colab_type": "text"
      },
      "source": [
        "* numba는 @vectorize 데코레이터를 활용하여 ufuncs의 병렬연산을 할 수 있음\n",
        "* @vectorize만 붙이면 CPU병렬화\n",
        "* @vectorize([explicit type signature], target='cuda')를 쓰면 GPU병렬화\n",
        " * GPU병렬화를 하는 경우 type signature를 맞게 작성해야만 함"
      ]
    },
    {
      "cell_type": "markdown",
      "metadata": {
        "id": "DulMLr-bTYzJ",
        "colab_type": "text"
      },
      "source": [
        "* Google Colab에서 Numba CUDA를 활용하기 위해서는 아래 셀을 통해 libdevice 및 libnvvm.so의 위치를 확인한 후 Python 환경에 등록해주어야만 함"
      ]
    },
    {
      "cell_type": "code",
      "metadata": {
        "id": "TVyEIlGaRIKk",
        "colab_type": "code",
        "colab": {}
      },
      "source": [
        "!find / -iname 'libdevice'\n",
        "!find / -iname 'libnvvm.so'"
      ],
      "execution_count": 0,
      "outputs": []
    },
    {
      "cell_type": "code",
      "metadata": {
        "id": "-vmOEiipRfO9",
        "colab_type": "code",
        "colab": {}
      },
      "source": [
        "import os\n",
        "os.environ['NUMBAPRO_LIBDEVICE'] = \"/usr/local/cuda-10.0/nvvm/libdevice\"\n",
        "os.environ['NUMBAPRO_NVVM'] = \"/usr/local/cuda-10.0/nvvm/lib64/libnvvm.so\""
      ],
      "execution_count": 0,
      "outputs": []
    },
    {
      "cell_type": "code",
      "metadata": {
        "id": "KmxDUG7PQohX",
        "colab_type": "code",
        "colab": {}
      },
      "source": [
        "import numpy as np\n",
        "from numba import vectorize\n",
        "\n",
        "a = np.array([1, 2, 3, 4])\n",
        "b = np.array([10, 20, 30, 40])\n",
        "\n",
        "@vectorize\n",
        "def add_ufunc_cpu(x, y):\n",
        "    return x + y # This scalar operation will be performed on each element\n",
        "\n",
        "@vectorize(['int64(int64, int64)'], target='cuda') # Type signature and target are required for the GPU\n",
        "def add_ufunc(x, y):\n",
        "    return x + y"
      ],
      "execution_count": 0,
      "outputs": []
    },
    {
      "cell_type": "code",
      "metadata": {
        "id": "gM0GP8r1Rowa",
        "colab_type": "code",
        "colab": {}
      },
      "source": [
        "print(add_ufunc_cpu(a, b)) # pass the whole array into the ufunc, it performs the operation on each element\n",
        "print(add_ufunc(a, b))"
      ],
      "execution_count": 0,
      "outputs": []
    },
    {
      "cell_type": "code",
      "metadata": {
        "id": "ewryuLUzRsKj",
        "colab_type": "code",
        "colab": {}
      },
      "source": [
        "%timeit np.add(a, b)   # NumPy on CPU"
      ],
      "execution_count": 0,
      "outputs": []
    },
    {
      "cell_type": "code",
      "metadata": {
        "id": "M-KUrtMiRzjx",
        "colab_type": "code",
        "colab": {}
      },
      "source": [
        "%timeit add_ufunc_cpu(a, b) # Numba on CPU"
      ],
      "execution_count": 0,
      "outputs": []
    },
    {
      "cell_type": "code",
      "metadata": {
        "id": "YT46VUX7Rxev",
        "colab_type": "code",
        "colab": {}
      },
      "source": [
        "%timeit add_ufunc(a, b) # Numba on GPU"
      ],
      "execution_count": 0,
      "outputs": []
    },
    {
      "cell_type": "markdown",
      "metadata": {
        "id": "vOeddG0zQm8P",
        "colab_type": "text"
      },
      "source": [
        "* GPU에서의 연산이 CPU보다 느림 이유는 아래의 네가지임\n",
        " * 입력 데이터가 충분히 크지 않음: GPU병렬화는 데이터가 클 수록 효과적임\n",
        " * 계산이 매우 간단함: CPU에서 수행하는 것이 GPU에 명령어와 데이터를 주고 받는것보다 더 빠를 수 있음\n",
        " * 데이터를 GPU로 보내고 받음: 함수의 실행 과정에서 CPU에 선언된 데이터를 GPU로 보내고, 함수의 결과 역시 GPU에서 CPU로 받아옴\n",
        " * 필요한 것 이상으로 data type이 큼: GPU 병렬화에 최적화된 data type은 float 32이며, 그보다 큰 데이터 형태는 GPU 병렬화에 장애물임"
      ]
    },
    {
      "cell_type": "markdown",
      "metadata": {
        "id": "xhcfhTHhSpGc",
        "colab_type": "text"
      },
      "source": [
        "* 위에 적힌 것을 상기하며, 아래의 코드 뭉치를 실험해볼 수 있음"
      ]
    },
    {
      "cell_type": "code",
      "metadata": {
        "id": "7qKKRZSGSug9",
        "colab_type": "code",
        "colab": {}
      },
      "source": [
        "import math # CUDA target으로 계산을 수행할 때, Numpy의 연산이 아닌 math의 scalar 연산을 사용해야만 함\n",
        "\n",
        "SQRT_2PI = np.float32((2*math.pi)**0.5)  # Precompute this constant as a float32.  Numba will inline it at compile time.\n",
        "\n",
        "@vectorize(['float32(float32, float32, float32)'], target='cuda')\n",
        "def gaussian_pdf(x, mean, sigma):\n",
        "    '''Compute the value of a Gaussian probability density function at x with given mean and sigma.'''\n",
        "    return math.exp(-0.5 * ((x - mean) / sigma)**2) / (sigma * SQRT_2PI)\n",
        "\n",
        "@vectorize\n",
        "def cpu_gaussian_pdf(x, mean, sigma):\n",
        "    '''Compute the value of a Gaussian probability density function at x with given mean and sigma.'''\n",
        "    return math.exp(-0.5 * ((x - mean) / sigma)**2) / (sigma * SQRT_2PI)\n",
        "\n",
        "import numpy as np\n",
        "# Evaluate the Gaussian a million times!\n",
        "x = np.random.uniform(-3, 3, size=1000000).astype(np.float32)\n",
        "mean = np.float32(0.0)\n",
        "sigma = np.float32(1.0)\n",
        "\n",
        "# Quick test on a single element just to make sure it works\n",
        "gaussian_pdf(x[0], 0.0, 1.0)\n",
        "\n",
        "import scipy.stats # for definition of gaussian distribution, so we can compare CPU to GPU time\n",
        "norm_pdf = scipy.stats.norm"
      ],
      "execution_count": 0,
      "outputs": []
    },
    {
      "cell_type": "code",
      "metadata": {
        "id": "cNWQqyYPS_Ab",
        "colab_type": "code",
        "colab": {}
      },
      "source": [
        "%timeit norm_pdf.pdf(x, loc=mean, scale=sigma)"
      ],
      "execution_count": 0,
      "outputs": []
    },
    {
      "cell_type": "code",
      "metadata": {
        "id": "IGYtTgaKS_7r",
        "colab_type": "code",
        "colab": {}
      },
      "source": [
        "%timeit gaussian_pdf(x, mean, sigma)"
      ],
      "execution_count": 0,
      "outputs": []
    },
    {
      "cell_type": "code",
      "metadata": {
        "id": "E8syMMMrTDMW",
        "colab_type": "code",
        "colab": {}
      },
      "source": [
        "%timeit cpu_gaussian_pdf(x, mean, sigma)"
      ],
      "execution_count": 0,
      "outputs": []
    },
    {
      "cell_type": "markdown",
      "metadata": {
        "id": "2fCblr4ITItW",
        "colab_type": "text"
      },
      "source": [
        "* 많이 빨라진 것을 알 수 있으나 더 가속화할 수 있음"
      ]
    },
    {
      "cell_type": "markdown",
      "metadata": {
        "id": "f_TQJOeXlakP",
        "colab_type": "text"
      },
      "source": [
        "### GPU에서 사용 가능한 Python 함수"
      ]
    },
    {
      "cell_type": "markdown",
      "metadata": {
        "id": "RIzCDcUjlew6",
        "colab_type": "text"
      },
      "source": [
        "* if / elif / else\n",
        "* while / for\n",
        "* Basic math operators\n",
        "* math 와 cmath 모듈에 있는 일부 함수\n",
        "* Tuples\n",
        "* [the Numba manual](http://numba.pydata.org/numba-doc/latest/cuda/cudapysupported.html)에서 자세한 것을 확인할 수 있음"
      ]
    },
    {
      "cell_type": "markdown",
      "metadata": {
        "id": "HnCoP4gbmCaH",
        "colab_type": "text"
      },
      "source": [
        "#### GPU 함수 실습"
      ]
    },
    {
      "cell_type": "code",
      "metadata": {
        "id": "-_188_okmJfN",
        "colab_type": "code",
        "colab": {}
      },
      "source": [
        "# This allows us to plot right here in the notebook\n",
        "%matplotlib inline\n",
        "\n",
        "# Hacking up a noisy pulse train\n",
        "import numpy as np\n",
        "from matplotlib import pyplot as plt\n",
        "\n",
        "n = 100000\n",
        "noise = np.random.normal(size=n) * 3\n",
        "pulses = np.maximum(np.sin(np.arange(n) / (n / 23)) - 0.3, 0.0)\n",
        "waveform = ((pulses * 300) + noise).astype(np.int16)\n",
        "plt.plot(waveform)"
      ],
      "execution_count": 0,
      "outputs": []
    },
    {
      "cell_type": "code",
      "metadata": {
        "id": "cJYFTuR6mPM7",
        "colab_type": "code",
        "colab": {}
      },
      "source": [
        "from numba import vectorize\n",
        "@vectorize(['int16(int16, int16)'], target='cuda')\n",
        "def zero_suppress(waveform_value, threshold):\n",
        "    if waveform_value < threshold:\n",
        "        result = 0\n",
        "    else:\n",
        "        result = waveform_value\n",
        "    return result"
      ],
      "execution_count": 0,
      "outputs": []
    },
    {
      "cell_type": "code",
      "metadata": {
        "id": "uxpKVUmdmWzw",
        "colab_type": "code",
        "colab": {}
      },
      "source": [
        "# This will throw an error until you successfully vectorize the `zero_suppress` function above.\n",
        "# The noise on the baseline should disappear when zero_suppress is implemented\n",
        "plt.plot(zero_suppress(waveform, 15))"
      ],
      "execution_count": 0,
      "outputs": []
    },
    {
      "cell_type": "markdown",
      "metadata": {
        "id": "844LQ-aIl-tp",
        "colab_type": "text"
      },
      "source": [
        "### GPU Memory 제어"
      ]
    },
    {
      "cell_type": "markdown",
      "metadata": {
        "id": "r669yy9CmgJK",
        "colab_type": "text"
      },
      "source": [
        "* CPU에서 사용하는 메모리와 GPU에서 사용하는 메모리는 서로 다름.\n",
        "* CPU메모리를 GPU메모리로 복사한 후 GPU 컴파일 된 함수에서 사용할 시 더 빠르게 연산을 수행할 수 있음"
      ]
    },
    {
      "cell_type": "code",
      "metadata": {
        "id": "oU2QAXkOmrwp",
        "colab_type": "code",
        "colab": {}
      },
      "source": [
        "@vectorize(['float32(float32, float32)'], target='cuda')\n",
        "def add_ufunc(x, y):\n",
        "    return x + y\n",
        "\n",
        "n = 100000\n",
        "x = np.arange(n).astype(np.float32)\n",
        "y = 2 * x"
      ],
      "execution_count": 0,
      "outputs": []
    },
    {
      "cell_type": "code",
      "metadata": {
        "id": "qb3gPvVQmvTD",
        "colab_type": "code",
        "colab": {}
      },
      "source": [
        "%timeit add_ufunc(x, y)  # Baseline performance with host arrays"
      ],
      "execution_count": 0,
      "outputs": []
    },
    {
      "cell_type": "markdown",
      "metadata": {
        "id": "IzZym2Qamwu1",
        "colab_type": "text"
      },
      "source": [
        "* 위에서는 CPU에서 메모리를 바로 GPU컴파일 된 함수에 넣었음.\n",
        "* 아래 예제에서는 CPU메모리를 GPU메모리로 복사한 수 함수에 입력함"
      ]
    },
    {
      "cell_type": "code",
      "metadata": {
        "id": "34WRDDfIm-vD",
        "colab_type": "code",
        "colab": {}
      },
      "source": [
        "from numba import cuda\n",
        "\n",
        "x_device = cuda.to_device(x)\n",
        "y_device = cuda.to_device(y)\n",
        "\n",
        "print(x_device)\n",
        "print(x_device.shape)\n",
        "print(x_device.dtype)"
      ],
      "execution_count": 0,
      "outputs": []
    },
    {
      "cell_type": "code",
      "metadata": {
        "id": "EKFtatfnnA6i",
        "colab_type": "code",
        "colab": {}
      },
      "source": [
        "%timeit add_ufunc(x_device, y_device)"
      ],
      "execution_count": 0,
      "outputs": []
    },
    {
      "cell_type": "markdown",
      "metadata": {
        "id": "7YTK-YMBnCLr",
        "colab_type": "text"
      },
      "source": [
        "* 똑같은 연산을 수행하는데 메모리를 미리 복사해두는지에 따라 절반 가까이 연산시간이 줄어드는 것을 확인할 수 있음"
      ]
    },
    {
      "cell_type": "markdown",
      "metadata": {
        "id": "N-kcmm03nNAE",
        "colab_type": "text"
      },
      "source": [
        "* 결과를 받기 위한 임의의 GPU메모리 어레이를 생성하는 방법은 아래와 같으며, 아래 방법을 통한 생성은 메모리 내부 값이 초기화되지 않음"
      ]
    },
    {
      "cell_type": "code",
      "metadata": {
        "id": "GSig_jR-nLkO",
        "colab_type": "code",
        "colab": {}
      },
      "source": [
        "out_device = cuda.device_array(shape=(n,), dtype=np.float32)  # does not initialize the contents, like np.empty()"
      ],
      "execution_count": 0,
      "outputs": []
    },
    {
      "cell_type": "markdown",
      "metadata": {
        "id": "-X89Og9SnbwS",
        "colab_type": "text"
      },
      "source": [
        "* 연산 수행 결과를 받을 메모리를 명시적으로 함수에 넘겨주는 경우 보다 빠르게 함수 수행이 가능해짐"
      ]
    },
    {
      "cell_type": "code",
      "metadata": {
        "id": "tZmDFVTbnYjj",
        "colab_type": "code",
        "colab": {}
      },
      "source": [
        "%timeit add_ufunc(x_device, y_device, out=out_device)"
      ],
      "execution_count": 0,
      "outputs": []
    },
    {
      "cell_type": "markdown",
      "metadata": {
        "id": "xHz6AiGDnmJW",
        "colab_type": "text"
      },
      "source": [
        "* GPU메모리를 CPU메모리로 복사하는 방법은 아래와 같음"
      ]
    },
    {
      "cell_type": "code",
      "metadata": {
        "id": "TdQL8fe3nqEk",
        "colab_type": "code",
        "colab": {}
      },
      "source": [
        "out_host = out_device.copy_to_host()\n",
        "print(out_host[:10])"
      ],
      "execution_count": 0,
      "outputs": []
    }
  ]
}