{
  "nbformat": 4,
  "nbformat_minor": 0,
  "metadata": {
    "colab": {
      "name": "Matplotlib.ipynb",
      "provenance": [],
      "authorship_tag": "ABX9TyMIwlSmuuG35jIK9k7pBXnp",
      "include_colab_link": true
    },
    "kernelspec": {
      "name": "python3",
      "display_name": "Python 3"
    }
  },
  "cells": [
    {
      "cell_type": "markdown",
      "metadata": {
        "id": "view-in-github",
        "colab_type": "text"
      },
      "source": [
        "<a href=\"https://colab.research.google.com/github/JinFree/Thermo-and-Fluid-Engineering-Lab.1/blob/master/2020/Matplotlib.ipynb\" target=\"_parent\"><img src=\"https://colab.research.google.com/assets/colab-badge.svg\" alt=\"Open In Colab\"/></a>"
      ]
    },
    {
      "cell_type": "markdown",
      "metadata": {
        "id": "0Q1bQocwJxbO",
        "colab_type": "text"
      },
      "source": [
        "# Matplotlib"
      ]
    },
    {
      "cell_type": "markdown",
      "metadata": {
        "id": "9nhQPmgrJylm",
        "colab_type": "text"
      },
      "source": [
        "## Matplotlib Import"
      ]
    },
    {
      "cell_type": "code",
      "metadata": {
        "id": "dTL7veCuJzo6",
        "colab_type": "code",
        "colab": {}
      },
      "source": [
        "import matplotlib as mpl\n",
        "import matplotlib.pyplot as plt"
      ],
      "execution_count": 0,
      "outputs": []
    },
    {
      "cell_type": "markdown",
      "metadata": {
        "id": "doUC0J76J0Zs",
        "colab_type": "text"
      },
      "source": [
        "* Style Setting"
      ]
    },
    {
      "cell_type": "code",
      "metadata": {
        "id": "BhiEADbUJ1JM",
        "colab_type": "code",
        "colab": {}
      },
      "source": [
        "plt.style.use('classic')"
      ],
      "execution_count": 0,
      "outputs": []
    },
    {
      "cell_type": "markdown",
      "metadata": {
        "id": "r-vLXyC-J2Ax",
        "colab_type": "text"
      },
      "source": [
        "* ipynb 상에서 출력을 보기 위한 명령행"
      ]
    },
    {
      "cell_type": "code",
      "metadata": {
        "id": "PaMFz3uCJ3qR",
        "colab_type": "code",
        "colab": {}
      },
      "source": [
        "%matplotlib inline"
      ],
      "execution_count": 0,
      "outputs": []
    },
    {
      "cell_type": "markdown",
      "metadata": {
        "id": "urK_dXLvJ5gd",
        "colab_type": "text"
      },
      "source": [
        "### 스크립트 내에서 Plotting"
      ]
    },
    {
      "cell_type": "code",
      "metadata": {
        "id": "E3LcB25EJ6Id",
        "colab_type": "code",
        "colab": {}
      },
      "source": [
        "import matplotlib.pyplot as plt\n",
        "import numpy as np\n",
        "\n",
        "x = np.linspace(0, 10, 100)\n",
        "\n",
        "plt.plot(x, np.sin(x))\n",
        "plt.plot(x, np.cos(x))\n",
        "\n",
        "plt.show()"
      ],
      "execution_count": 0,
      "outputs": []
    },
    {
      "cell_type": "code",
      "metadata": {
        "id": "3D8MTRYvJ6rM",
        "colab_type": "code",
        "colab": {}
      },
      "source": [
        "import numpy as np\n",
        "x = np.linspace(0, 10, 100)\n",
        "\n",
        "fig = plt.figure()\n",
        "plt.plot(x, np.sin(x), '-')\n",
        "plt.plot(x, np.cos(x), '--');"
      ],
      "execution_count": 0,
      "outputs": []
    },
    {
      "cell_type": "markdown",
      "metadata": {
        "id": "mLqKnTCGJ7zm",
        "colab_type": "text"
      },
      "source": [
        "### Figure를 File로 저장하는 방법\n",
        "* savefig()"
      ]
    },
    {
      "cell_type": "code",
      "metadata": {
        "id": "l6j4rrlIJ9o8",
        "colab_type": "code",
        "colab": {}
      },
      "source": [
        "fig.savefig('my_figure.png')"
      ],
      "execution_count": 0,
      "outputs": []
    },
    {
      "cell_type": "markdown",
      "metadata": {
        "id": "OObcOTbgJ87U",
        "colab_type": "text"
      },
      "source": [
        "* 위 코드 실행 시 \"파일\"탭을 통해 현 위치에 이미지파일이 생성된 것을 확인할 수 있음."
      ]
    },
    {
      "cell_type": "code",
      "metadata": {
        "id": "Rtfz6NlGJ-U1",
        "colab_type": "code",
        "colab": {}
      },
      "source": [
        "!ls -lh my_figure.png"
      ],
      "execution_count": 0,
      "outputs": []
    },
    {
      "cell_type": "markdown",
      "metadata": {
        "id": "i4pDo6OYJ_MR",
        "colab_type": "text"
      },
      "source": [
        "## Plot을 위한 Interface"
      ]
    },
    {
      "cell_type": "markdown",
      "metadata": {
        "id": "ezTevbR1KDTW",
        "colab_type": "text"
      },
      "source": [
        "### Matlab 스타일\n"
      ]
    },
    {
      "cell_type": "code",
      "metadata": {
        "id": "6kU96MEpKBjq",
        "colab_type": "code",
        "colab": {}
      },
      "source": [
        "plt.figure()  # create a plot figure\n",
        "\n",
        "# create the first of two panels and set current axis\n",
        "plt.subplot(2, 1, 1) # (rows, columns, panel number)\n",
        "plt.plot(x, np.sin(x))\n",
        "\n",
        "# create the second panel and set current axis\n",
        "plt.subplot(2, 1, 2)\n",
        "plt.plot(x, np.cos(x));"
      ],
      "execution_count": 0,
      "outputs": []
    },
    {
      "cell_type": "markdown",
      "metadata": {
        "id": "3EaoPaVQKCzj",
        "colab_type": "text"
      },
      "source": [
        "### Python 스타일"
      ]
    },
    {
      "cell_type": "code",
      "metadata": {
        "id": "s0xywe_mKFM5",
        "colab_type": "code",
        "colab": {}
      },
      "source": [
        "# First create a grid of plots\n",
        "# ax will be an array of two Axes objects\n",
        "fig, ax = plt.subplots(2)\n",
        "\n",
        "# Call plot() method on the appropriate object\n",
        "ax[0].plot(x, np.sin(x))\n",
        "ax[1].plot(x, np.cos(x));"
      ],
      "execution_count": 0,
      "outputs": []
    },
    {
      "cell_type": "markdown",
      "metadata": {
        "id": "Btr2AH_GKI8v",
        "colab_type": "text"
      },
      "source": [
        "# Line Plots"
      ]
    },
    {
      "cell_type": "markdown",
      "metadata": {
        "id": "mp_j9LmdKKzM",
        "colab_type": "text"
      },
      "source": [
        "* 기본적인 y = f(x) 형태의 함수를 출력하는 방법 실습"
      ]
    },
    {
      "cell_type": "code",
      "metadata": {
        "id": "W-KgK3u0KMMB",
        "colab_type": "code",
        "colab": {}
      },
      "source": [
        "%matplotlib inline\n",
        "import matplotlib.pyplot as plt\n",
        "plt.style.use('seaborn-whitegrid')\n",
        "import numpy as np"
      ],
      "execution_count": 0,
      "outputs": []
    },
    {
      "cell_type": "markdown",
      "metadata": {
        "id": "xyO1T04_KNFY",
        "colab_type": "text"
      },
      "source": [
        "* 모든 Matplotlib에서의 plot은 figure와 axex를 생성하는 것으로 plotting을 시작할 수 있음."
      ]
    },
    {
      "cell_type": "code",
      "metadata": {
        "id": "zrCzYL5tKOVX",
        "colab_type": "code",
        "colab": {}
      },
      "source": [
        "fig = plt.figure()\n",
        "ax = plt.axes()"
      ],
      "execution_count": 0,
      "outputs": []
    },
    {
      "cell_type": "code",
      "metadata": {
        "id": "P5grQAGfKO-y",
        "colab_type": "code",
        "colab": {}
      },
      "source": [
        "fig = plt.figure()\n",
        "ax = plt.axes()\n",
        "\n",
        "x = np.linspace(0, 10, 1000)\n",
        "ax.plot(x, np.sin(x));"
      ],
      "execution_count": 0,
      "outputs": []
    },
    {
      "cell_type": "code",
      "metadata": {
        "id": "IuqJKsdfKQsF",
        "colab_type": "code",
        "colab": {}
      },
      "source": [
        "plt.plot(x, np.sin(x));"
      ],
      "execution_count": 0,
      "outputs": []
    },
    {
      "cell_type": "markdown",
      "metadata": {
        "id": "rQK-ZI0mKRbk",
        "colab_type": "text"
      },
      "source": [
        "* 만약 하나의 figure로 여러개의 선을 그리고자 하는 경우 아래와 같이 사용할 수 있음"
      ]
    },
    {
      "cell_type": "code",
      "metadata": {
        "id": "APwYqMc3KSE_",
        "colab_type": "code",
        "colab": {}
      },
      "source": [
        "plt.plot(x, np.sin(x))\n",
        "plt.plot(x, np.cos(x));"
      ],
      "execution_count": 0,
      "outputs": []
    },
    {
      "cell_type": "markdown",
      "metadata": {
        "id": "ih-f2hnrKUFi",
        "colab_type": "text"
      },
      "source": [
        "## Plot 조정: 선 색과 선 스타일"
      ]
    },
    {
      "cell_type": "markdown",
      "metadata": {
        "id": "wHUMwkG5KVf6",
        "colab_type": "text"
      },
      "source": [
        "* 선의 색을 조정하는 다양한 방법은 아래와 같음"
      ]
    },
    {
      "cell_type": "code",
      "metadata": {
        "id": "eGtm3aWEKWNA",
        "colab_type": "code",
        "colab": {}
      },
      "source": [
        "plt.plot(x, np.sin(x - 0), color='blue')        # specify color by name\n",
        "plt.plot(x, np.sin(x - 1), color='g')           # short color code (rgbcmyk)\n",
        "plt.plot(x, np.sin(x - 2), color='0.75')        # Grayscale between 0 and 1\n",
        "plt.plot(x, np.sin(x - 3), color='#FFDD44')     # Hex code (RRGGBB from 00 to FF)\n",
        "plt.plot(x, np.sin(x - 4), color=(1.0,0.2,0.3)) # RGB tuple, values 0 to 1\n",
        "plt.plot(x, np.sin(x - 5), color='chartreuse'); # all HTML color names supported"
      ],
      "execution_count": 0,
      "outputs": []
    },
    {
      "cell_type": "markdown",
      "metadata": {
        "id": "eP1PD7uYKXKD",
        "colab_type": "text"
      },
      "source": [
        "* 선의 스타일을 조정하는 다양한 방법은 아래와 같음"
      ]
    },
    {
      "cell_type": "code",
      "metadata": {
        "id": "S7u-8iNOKXzR",
        "colab_type": "code",
        "colab": {}
      },
      "source": [
        "plt.plot(x, x + 0, linestyle='solid')\n",
        "plt.plot(x, x + 1, linestyle='dashed')\n",
        "plt.plot(x, x + 2, linestyle='dashdot')\n",
        "plt.plot(x, x + 3, linestyle='dotted');\n",
        "\n",
        "# For short, you can use the following codes:\n",
        "plt.plot(x, x + 4, linestyle='-')  # solid\n",
        "plt.plot(x, x + 5, linestyle='--') # dashed\n",
        "plt.plot(x, x + 6, linestyle='-.') # dashdot\n",
        "plt.plot(x, x + 7, linestyle=':');  # dotted"
      ],
      "execution_count": 0,
      "outputs": []
    },
    {
      "cell_type": "markdown",
      "metadata": {
        "id": "IUzv6RrfKYu8",
        "colab_type": "text"
      },
      "source": [
        "* 선의 색과 스타일 모두를 동시에 조정하는 방법은 아래와 같음"
      ]
    },
    {
      "cell_type": "code",
      "metadata": {
        "id": "xdpBR5OcKZWg",
        "colab_type": "code",
        "colab": {}
      },
      "source": [
        "plt.plot(x, x + 0, '-g')  # solid green\n",
        "plt.plot(x, x + 1, '--c') # dashed cyan\n",
        "plt.plot(x, x + 2, '-.k') # dashdot black\n",
        "plt.plot(x, x + 3, ':r');  # dotted red"
      ],
      "execution_count": 0,
      "outputs": []
    },
    {
      "cell_type": "markdown",
      "metadata": {
        "id": "OHSFdRtzKcDN",
        "colab_type": "text"
      },
      "source": [
        "## Plot에서 축 조절"
      ]
    },
    {
      "cell_type": "markdown",
      "metadata": {
        "id": "9Jn_vMpCKdRv",
        "colab_type": "text"
      },
      "source": [
        "* plot은 기본적으로 데이터가 존재하는 영역만큼만 딱 맞게 나오나, 해당 영역을 조절할 수 있음"
      ]
    },
    {
      "cell_type": "code",
      "metadata": {
        "id": "cYTms93rKd_e",
        "colab_type": "code",
        "colab": {}
      },
      "source": [
        "plt.plot(x, np.sin(x))\n",
        "\n",
        "plt.xlim(-1, 11)\n",
        "plt.ylim(-1.5, 1.5);"
      ],
      "execution_count": 0,
      "outputs": []
    },
    {
      "cell_type": "markdown",
      "metadata": {
        "id": "P5Q94D4EKeyx",
        "colab_type": "text"
      },
      "source": [
        "* 만약 plot axis를 거꾸로 보이고자 하는 경우 아래와 같이 사용할 수 있음."
      ]
    },
    {
      "cell_type": "code",
      "metadata": {
        "id": "0kirUVSOKfsd",
        "colab_type": "code",
        "colab": {}
      },
      "source": [
        "plt.plot(x, np.sin(x))\n",
        "\n",
        "plt.xlim(10, 0)\n",
        "plt.ylim(1.2, -1.2);"
      ],
      "execution_count": 0,
      "outputs": []
    },
    {
      "cell_type": "markdown",
      "metadata": {
        "id": "sDR5gM6eKgbC",
        "colab_type": "text"
      },
      "source": [
        "* xlim과 ylim을 사용하지 않고 아래와 같이 한 줄로도 표현할 수 있음"
      ]
    },
    {
      "cell_type": "code",
      "metadata": {
        "id": "X2PgiFzvKhK0",
        "colab_type": "code",
        "colab": {}
      },
      "source": [
        "plt.plot(x, np.sin(x))\n",
        "plt.axis([-1, 11, -1.5, 1.5]);"
      ],
      "execution_count": 0,
      "outputs": []
    },
    {
      "cell_type": "markdown",
      "metadata": {
        "id": "OaCf006QKh-_",
        "colab_type": "text"
      },
      "source": [
        "* 다시 데이터가 존재하는 영역만 표현하고자 하는 경우 아래와 같이 표현할 수 있음."
      ]
    },
    {
      "cell_type": "code",
      "metadata": {
        "id": "fUj5cvFHKjZq",
        "colab_type": "code",
        "colab": {}
      },
      "source": [
        "plt.plot(x, np.sin(x))\n",
        "plt.axis('tight');"
      ],
      "execution_count": 0,
      "outputs": []
    },
    {
      "cell_type": "markdown",
      "metadata": {
        "id": "FY3EIkjlKi0f",
        "colab_type": "text"
      },
      "source": [
        "* 데이터의 가로축과 세로축의 격자간격을 동일하게 보고자 하는 경우 아래와 같이 표현할 수 있음."
      ]
    },
    {
      "cell_type": "code",
      "metadata": {
        "id": "4qZWPoNWKkGN",
        "colab_type": "code",
        "colab": {}
      },
      "source": [
        "plt.plot(x, np.sin(x))\n",
        "plt.axis('equal');"
      ],
      "execution_count": 0,
      "outputs": []
    },
    {
      "cell_type": "markdown",
      "metadata": {
        "id": "GREDogErKk3k",
        "colab_type": "text"
      },
      "source": [
        "## Plot labeling"
      ]
    },
    {
      "cell_type": "markdown",
      "metadata": {
        "id": "IUjh9dtDKneo",
        "colab_type": "text"
      },
      "source": [
        "* Plot에 제목을 붙이고 각 축 별 이름을 붙이는 경우 아래와 같이 활용할 수 있음."
      ]
    },
    {
      "cell_type": "code",
      "metadata": {
        "id": "M2cMayeOKoJI",
        "colab_type": "code",
        "colab": {}
      },
      "source": [
        "plt.plot(x, np.sin(x))\n",
        "plt.title(\"A Sine Curve\")\n",
        "plt.xlabel(\"x\")\n",
        "plt.ylabel(\"sin(x)\");"
      ],
      "execution_count": 0,
      "outputs": []
    },
    {
      "cell_type": "markdown",
      "metadata": {
        "id": "zJLyXORKKo6-",
        "colab_type": "text"
      },
      "source": [
        "* Plot 내 개별 선에 제목을 붙이고 범례를 표현하고자 하는 경우 아래와 같이 할 수 있음"
      ]
    },
    {
      "cell_type": "code",
      "metadata": {
        "id": "DUxZIWP_Kpou",
        "colab_type": "code",
        "colab": {}
      },
      "source": [
        "plt.plot(x, np.sin(x), '-g', label='sin(x)')\n",
        "plt.plot(x, np.cos(x), ':b', label='cos(x)')\n",
        "plt.axis('equal')\n",
        "\n",
        "plt.legend();"
      ],
      "execution_count": 0,
      "outputs": []
    },
    {
      "cell_type": "markdown",
      "metadata": {
        "id": "5S3DhZ4PKzOF",
        "colab_type": "text"
      },
      "source": [
        "# Scatter plots"
      ]
    },
    {
      "cell_type": "code",
      "metadata": {
        "id": "ya42HbbKK2Hf",
        "colab_type": "code",
        "colab": {}
      },
      "source": [
        "%matplotlib inline\n",
        "import matplotlib.pyplot as plt\n",
        "plt.style.use('seaborn-whitegrid')\n",
        "import numpy as np"
      ],
      "execution_count": 0,
      "outputs": []
    },
    {
      "cell_type": "markdown",
      "metadata": {
        "id": "7FnJDne2K1Cs",
        "colab_type": "text"
      },
      "source": [
        "## plt.plot을 활용한 scatter plots"
      ]
    },
    {
      "cell_type": "code",
      "metadata": {
        "id": "laEW1oPIK2a1",
        "colab_type": "code",
        "colab": {}
      },
      "source": [
        "x = np.linspace(0, 10, 30)\n",
        "y = np.sin(x)\n",
        "\n",
        "plt.plot(x, y, 'o', color='black');"
      ],
      "execution_count": 0,
      "outputs": []
    },
    {
      "cell_type": "markdown",
      "metadata": {
        "id": "1TP-P1PpK6be",
        "colab_type": "text"
      },
      "source": [
        "* plot의 세 번째 인자를 통해 scatter plot과 line plot중 어떤 것을 할 것인지 정할 수 있음."
      ]
    },
    {
      "cell_type": "code",
      "metadata": {
        "id": "jCExUGlOK4yI",
        "colab_type": "code",
        "colab": {}
      },
      "source": [
        "rng = np.random.RandomState(0)\n",
        "for marker in ['o', '.', ',', 'x', '+', 'v', '^', '<', '>', 's', 'd']:\n",
        "    plt.plot(rng.rand(5), rng.rand(5), marker,\n",
        "             label=\"marker='{0}'\".format(marker))\n",
        "plt.legend(numpoints=1)\n",
        "plt.xlim(0, 1.8);"
      ],
      "execution_count": 0,
      "outputs": []
    },
    {
      "cell_type": "markdown",
      "metadata": {
        "id": "_3-LyIFpLDex",
        "colab_type": "text"
      },
      "source": [
        "* scatter plot과 line plot을 동시에 하는 방법은 아래와 같음"
      ]
    },
    {
      "cell_type": "code",
      "metadata": {
        "id": "0CrFKK2lK7jZ",
        "colab_type": "code",
        "colab": {}
      },
      "source": [
        "plt.plot(x, y, '-ok');"
      ],
      "execution_count": 0,
      "outputs": []
    },
    {
      "cell_type": "markdown",
      "metadata": {
        "id": "bDSoFgpHLE44",
        "colab_type": "text"
      },
      "source": [
        "* plot에 아래와 같이 다양한 설정 방법이 있음"
      ]
    },
    {
      "cell_type": "code",
      "metadata": {
        "id": "xYZJZlwzLHAM",
        "colab_type": "code",
        "colab": {}
      },
      "source": [
        "plt.plot(x, y, '-p', color='gray',\n",
        "         markersize=15, linewidth=4,\n",
        "         markerfacecolor='white',\n",
        "         markeredgecolor='gray',\n",
        "         markeredgewidth=2)\n",
        "plt.ylim(-1.2, 1.2);"
      ],
      "execution_count": 0,
      "outputs": []
    },
    {
      "cell_type": "markdown",
      "metadata": {
        "id": "JQVZJnc5LJCr",
        "colab_type": "text"
      },
      "source": [
        "## plt.scatter를 활용한 scatter plots"
      ]
    },
    {
      "cell_type": "code",
      "metadata": {
        "id": "k3nCoxA5LJ9g",
        "colab_type": "code",
        "colab": {}
      },
      "source": [
        "plt.scatter(x, y, marker='o');"
      ],
      "execution_count": 0,
      "outputs": []
    },
    {
      "cell_type": "markdown",
      "metadata": {
        "id": "a7aY49d6LK08",
        "colab_type": "text"
      },
      "source": [
        "* plt.plot와 다르게 plt.scatter는 각 점 별로 크기나 색상 등 다양한 설정을 할 수 있음"
      ]
    },
    {
      "cell_type": "code",
      "metadata": {
        "id": "QIfFra3PLLiA",
        "colab_type": "code",
        "colab": {}
      },
      "source": [
        "rng = np.random.RandomState(0)\n",
        "x = rng.randn(100)\n",
        "y = rng.randn(100)\n",
        "colors = rng.rand(100)\n",
        "sizes = 1000 * rng.rand(100)\n",
        "\n",
        "plt.scatter(x, y, c=colors, s=sizes, alpha=0.3,\n",
        "            cmap='viridis')\n",
        "plt.colorbar();  # show color scale"
      ],
      "execution_count": 0,
      "outputs": []
    },
    {
      "cell_type": "markdown",
      "metadata": {
        "id": "yvmAMHpLLTqF",
        "colab_type": "text"
      },
      "source": [
        "# Density and Contour Plots"
      ]
    },
    {
      "cell_type": "code",
      "metadata": {
        "id": "6_CYk-dRLN15",
        "colab_type": "code",
        "colab": {}
      },
      "source": [
        "%matplotlib inline\n",
        "import matplotlib.pyplot as plt\n",
        "plt.style.use('seaborn-white')\n",
        "import numpy as np"
      ],
      "execution_count": 0,
      "outputs": []
    },
    {
      "cell_type": "markdown",
      "metadata": {
        "id": "W8MUWFxkLVgB",
        "colab_type": "text"
      },
      "source": [
        "## 3차원 함수의 Visualize"
      ]
    },
    {
      "cell_type": "markdown",
      "metadata": {
        "id": "cnRy6WVLLYWW",
        "colab_type": "text"
      },
      "source": [
        "* z = f(x, y)의 등고선을 plotting을 해볼 것임."
      ]
    },
    {
      "cell_type": "code",
      "metadata": {
        "id": "S5-Xk_4fLVFU",
        "colab_type": "code",
        "colab": {}
      },
      "source": [
        "def f(x, y):\n",
        "    return np.sin(x) ** 10 + np.cos(10 + y * x) * np.cos(x)"
      ],
      "execution_count": 0,
      "outputs": []
    },
    {
      "cell_type": "code",
      "metadata": {
        "id": "r2cW8i3kLZkB",
        "colab_type": "code",
        "colab": {}
      },
      "source": [
        "x = np.linspace(0, 5, 50)\n",
        "y = np.linspace(0, 5, 40)\n",
        "\n",
        "X, Y = np.meshgrid(x, y)\n",
        "Z = f(X, Y)"
      ],
      "execution_count": 0,
      "outputs": []
    },
    {
      "cell_type": "code",
      "metadata": {
        "id": "_T5lCcXsLciM",
        "colab_type": "code",
        "colab": {}
      },
      "source": [
        "plt.contour(X, Y, Z, colors='black');"
      ],
      "execution_count": 0,
      "outputs": []
    },
    {
      "cell_type": "markdown",
      "metadata": {
        "id": "lh845CZ3Lg5n",
        "colab_type": "text"
      },
      "source": [
        "* 음수는 점선으로, 양수는 실선으로 표현됨.\n",
        "* cmap 인자를 통해 색을 바꿀 수 있음\n",
        "* 아래 코드를 통해 z값을 20 간격으로 등고선을 그릴 수 있음"
      ]
    },
    {
      "cell_type": "code",
      "metadata": {
        "id": "FTMgKoYNLd0Q",
        "colab_type": "code",
        "colab": {}
      },
      "source": [
        "plt.contour(X, Y, Z, 20, cmap='RdGy');"
      ],
      "execution_count": 0,
      "outputs": []
    },
    {
      "cell_type": "markdown",
      "metadata": {
        "id": "QBhFwVdQLoVH",
        "colab_type": "text"
      },
      "source": [
        "* plt.contourf()를 통해 등고선 사이에 색을 채울 수 있음\n",
        "* plt.colorbar()를 통해 값에 따른 색 범위를 볼 수 있음."
      ]
    },
    {
      "cell_type": "code",
      "metadata": {
        "id": "A3-wEUNzLh8Y",
        "colab_type": "code",
        "colab": {}
      },
      "source": [
        "plt.contourf(X, Y, Z, 20, cmap='RdGy')\n",
        "plt.colorbar();"
      ],
      "execution_count": 0,
      "outputs": []
    },
    {
      "cell_type": "markdown",
      "metadata": {
        "id": "OEeEjUxELrEa",
        "colab_type": "text"
      },
      "source": [
        "* plt.imshow()를 통해 보간되지 않은 격자 데이터의 값을 그릴 수 있음"
      ]
    },
    {
      "cell_type": "code",
      "metadata": {
        "id": "ZNMyB65-Li3h",
        "colab_type": "code",
        "colab": {}
      },
      "source": [
        "plt.imshow(Z, extent=[0, 5, 0, 5], origin='lower',\n",
        "           cmap='RdGy')\n",
        "plt.colorbar()\n",
        "plt.axis(aspect='image');"
      ],
      "execution_count": 0,
      "outputs": []
    },
    {
      "cell_type": "markdown",
      "metadata": {
        "id": "97JOKvKdLtG4",
        "colab_type": "text"
      },
      "source": [
        "* alpha를 활용하여 투명도를 조절할 수 있음.\n",
        "* plt.clabel을 통해 등고선에 값을 표현할 수 있음"
      ]
    },
    {
      "cell_type": "code",
      "metadata": {
        "id": "fkseqYXXLr0d",
        "colab_type": "code",
        "colab": {}
      },
      "source": [
        "contours = plt.contour(X, Y, Z, 3, colors='black')\n",
        "plt.clabel(contours, inline=True, fontsize=8)\n",
        "\n",
        "plt.imshow(Z, extent=[0, 5, 0, 5], origin='lower',\n",
        "           cmap='RdGy', alpha=0.5)\n",
        "plt.colorbar();"
      ],
      "execution_count": 0,
      "outputs": []
    },
    {
      "cell_type": "markdown",
      "metadata": {
        "id": "QxDXy3NgMAaY",
        "colab_type": "text"
      },
      "source": [
        "# 기타 참고 자료\n",
        "* https://jakevdp.github.io/PythonDataScienceHandbook/index.html"
      ]
    }
  ]
}