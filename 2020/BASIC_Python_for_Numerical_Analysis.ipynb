{
  "nbformat": 4,
  "nbformat_minor": 0,
  "metadata": {
    "colab": {
      "name": "BASIC_Python_for_Numerical_Analysis.ipynb",
      "provenance": [],
      "authorship_tag": "ABX9TyOR0H2kxIigcHqXR8ILkFBg",
      "include_colab_link": true
    },
    "kernelspec": {
      "name": "python3",
      "display_name": "Python 3"
    }
  },
  "cells": [
    {
      "cell_type": "markdown",
      "metadata": {
        "id": "view-in-github",
        "colab_type": "text"
      },
      "source": [
        "<a href=\"https://colab.research.google.com/github/JinFree/Thermo-and-Fluid-Engineering-Lab.1/blob/master/2020/BASIC_Python_for_Numerical_Analysis.ipynb\" target=\"_parent\"><img src=\"https://colab.research.google.com/assets/colab-badge.svg\" alt=\"Open In Colab\"/></a>"
      ]
    },
    {
      "cell_type": "markdown",
      "metadata": {
        "id": "C2GK8j0lFUcZ",
        "colab_type": "text"
      },
      "source": [
        "# Python을 활용한 수치해법"
      ]
    },
    {
      "cell_type": "markdown",
      "metadata": {
        "id": "6_gwK7GWFW3-",
        "colab_type": "text"
      },
      "source": [
        "## Python에서의 기본 데이터 형식"
      ]
    },
    {
      "cell_type": "markdown",
      "metadata": {
        "id": "DGqAmzmHFYWe",
        "colab_type": "text"
      },
      "source": [
        "* C언어와는 다르게, Python에서는 변수를 선언하면서 자료형을 명시할 필요가 없음.\n",
        "* 예를 들어, C언어에서 for문을 통해 등차수열의 합을 구하는 코드는 아래와 같음.\n",
        "```\n",
        "/* C Code */ \n",
        "int result = 0;\n",
        "for( int i = 1 ; i < 51 ; i++)\n",
        "{\n",
        "    result += i;\n",
        "}\n",
        "```\n"
      ]
    },
    {
      "cell_type": "markdown",
      "metadata": {
        "id": "M5o9KT-0Faow",
        "colab_type": "text"
      },
      "source": [
        "* Python에서 for문을 통해 등차수열의 합을 구하는 코드는 아래와 같음."
      ]
    },
    {
      "cell_type": "code",
      "metadata": {
        "id": "8hD6d6NnFHxq",
        "colab_type": "code",
        "colab": {}
      },
      "source": [
        "# Python Code\n",
        "result = 0\n",
        "for i in range(1, 51):\n",
        "    result += i"
      ],
      "execution_count": 0,
      "outputs": []
    },
    {
      "cell_type": "markdown",
      "metadata": {
        "id": "QDDsipjbFdbE",
        "colab_type": "text"
      },
      "source": [
        "* C언어에서는 변수를 선언하면서 자료형을 명시하기 때문에 한번 선언한 변수의 자료형을 바꿀 수 없음\n",
        "* 그러나 Python에서는 변수의 자료형을 바꾸는 것이 가능함"
      ]
    },
    {
      "cell_type": "code",
      "metadata": {
        "id": "NknF1SbhFUzn",
        "colab_type": "code",
        "colab": {}
      },
      "source": [
        "var_A = \"Python\"\n",
        "print(var_A, type(var_A))\n",
        "var_A = 22200114\n",
        "print(var_A, type(var_A))\n",
        "var_A /= 2020\n",
        "print(var_A, type(var_A))"
      ],
      "execution_count": 0,
      "outputs": []
    },
    {
      "cell_type": "markdown",
      "metadata": {
        "id": "BfIFQqqqFubt",
        "colab_type": "text"
      },
      "source": [
        "* 리스트\n",
        " * C++에서의 std::vector와 유사함\n",
        " * 단 C++에서의 std::vector는 vector 내에 들어가는 데이터 형을 지정해서 초기화하지만 Python에서는 하나의 리스트 내에 다양한 데이터 형을 넣을 수 있음"
      ]
    },
    {
      "cell_type": "code",
      "metadata": {
        "id": "I2LLDOC1FfeR",
        "colab_type": "code",
        "colab": {}
      },
      "source": [
        "list_A = list(range(10))\n",
        "print(list_A)"
      ],
      "execution_count": 0,
      "outputs": []
    },
    {
      "cell_type": "code",
      "metadata": {
        "id": "gyhEiWHXFvgw",
        "colab_type": "code",
        "colab": {}
      },
      "source": [
        "print(type(list_A))\n",
        "print(type(list_A[0]))"
      ],
      "execution_count": 0,
      "outputs": []
    },
    {
      "cell_type": "code",
      "metadata": {
        "id": "7jcgJer2FzFw",
        "colab_type": "code",
        "colab": {}
      },
      "source": [
        "list_B = [str(var_A) for var_A in list_A]\n",
        "print(list_B)\n",
        "print(type(list_B))\n",
        "print(type(list_B[0]))"
      ],
      "execution_count": 0,
      "outputs": []
    },
    {
      "cell_type": "code",
      "metadata": {
        "id": "X08gIGGfF0Ft",
        "colab_type": "code",
        "colab": {}
      },
      "source": [
        "list_C = [True, '2', 3.0, 4]\n",
        "print([type(var_C) for var_C in list_C])"
      ],
      "execution_count": 0,
      "outputs": []
    },
    {
      "cell_type": "markdown",
      "metadata": {
        "id": "Kfh8cVBiFx8U",
        "colab_type": "text"
      },
      "source": [
        "* Array\n",
        " * Python에서 제공하는 내부 데이터 형식을 고정하는 자료형"
      ]
    },
    {
      "cell_type": "code",
      "metadata": {
        "id": "Zzx4adyDF5_9",
        "colab_type": "code",
        "colab": {}
      },
      "source": [
        "import array\n",
        "list_A = list(range(10))\n",
        "array_A = array.array('i', list_A) # 여기서 i는 정수 자료형임을 의미\n",
        "print(array_A)"
      ],
      "execution_count": 0,
      "outputs": []
    }
  ]
}