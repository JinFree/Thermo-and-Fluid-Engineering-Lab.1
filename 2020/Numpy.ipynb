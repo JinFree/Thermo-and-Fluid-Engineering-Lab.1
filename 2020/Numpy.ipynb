{
  "nbformat": 4,
  "nbformat_minor": 0,
  "metadata": {
    "colab": {
      "name": "Numpy.ipynb",
      "provenance": [],
      "authorship_tag": "ABX9TyNX7JxefDd1RHqVDDC+XuGh",
      "include_colab_link": true
    },
    "kernelspec": {
      "name": "python3",
      "display_name": "Python 3"
    }
  },
  "cells": [
    {
      "cell_type": "markdown",
      "metadata": {
        "id": "view-in-github",
        "colab_type": "text"
      },
      "source": [
        "<a href=\"https://colab.research.google.com/github/JinFree/Thermo-and-Fluid-Engineering-Lab.1/blob/master/2020/Numpy.ipynb\" target=\"_parent\"><img src=\"https://colab.research.google.com/assets/colab-badge.svg\" alt=\"Open In Colab\"/></a>"
      ]
    },
    {
      "cell_type": "markdown",
      "metadata": {
        "id": "WHYFoTRUGZ-p",
        "colab_type": "text"
      },
      "source": [
        "#Numpy"
      ]
    },
    {
      "cell_type": "markdown",
      "metadata": {
        "id": "SzViLkzYHtDH",
        "colab_type": "text"
      },
      "source": [
        "* Python을 활용한 수치연산을 위한 라이브러리\n",
        " * Python에서 Numpy를 잘 활용하면 Matlab과 유사하게 사용할 수 있음."
      ]
    },
    {
      "cell_type": "code",
      "metadata": {
        "id": "LVgVzfK9GbGh",
        "colab_type": "code",
        "colab": {}
      },
      "source": [
        "import numpy as np\n",
        "np.array([1, 2, 3, 4, 5])"
      ],
      "execution_count": 0,
      "outputs": []
    },
    {
      "cell_type": "markdown",
      "metadata": {
        "id": "9p_ek44rHhfA",
        "colab_type": "text"
      },
      "source": [
        "##Numpy Array 기본"
      ]
    },
    {
      "cell_type": "markdown",
      "metadata": {
        "id": "c-Q1mo8yHzIg",
        "colab_type": "text"
      },
      "source": [
        "* Array 선언 방법 예시"
      ]
    },
    {
      "cell_type": "code",
      "metadata": {
        "id": "ne9mrxjAH0mG",
        "colab_type": "code",
        "colab": {}
      },
      "source": [
        "import numpy as np\n",
        "np.random.seed(4452)  # 재현성을 위한 랜덤 시드 설정\n",
        "\n",
        "x1 = np.random.randint(10, size=6)  # 1차원 Array\n",
        "x2 = np.random.randint(10, size=(3, 4))  # 2차원 Array\n",
        "x3 = np.random.randint(10, size=(3, 4, 5))  # 3차원 Array"
      ],
      "execution_count": 0,
      "outputs": []
    },
    {
      "cell_type": "markdown",
      "metadata": {
        "id": "D5qA8X_UGe4v",
        "colab_type": "text"
      },
      "source": [
        " * Python list와는 다르게 numpy array 내부의 데이터 형은 전부 동일함"
      ]
    },
    {
      "cell_type": "code",
      "metadata": {
        "id": "azKOCnXpGhQR",
        "colab_type": "code",
        "colab": {}
      },
      "source": [
        "np.array([3.14, 4, 2, 4])"
      ],
      "execution_count": 0,
      "outputs": []
    },
    {
      "cell_type": "markdown",
      "metadata": {
        "id": "W2ov8Mq_Gf3w",
        "colab_type": "text"
      },
      "source": [
        " * numpy array는 데이터의 형태를 명시적으로 지정할 수 있음"
      ]
    },
    {
      "cell_type": "code",
      "metadata": {
        "id": "lb83sIMDGiD0",
        "colab_type": "code",
        "colab": {}
      },
      "source": [
        "np.array([1, 2, 3, 4], dtype='float32')"
      ],
      "execution_count": 0,
      "outputs": []
    },
    {
      "cell_type": "markdown",
      "metadata": {
        "id": "5ZTM3ILaGi0C",
        "colab_type": "text"
      },
      "source": [
        " * numpy array는 명시적으로 다차원 데이터를 보관할 수 있음"
      ]
    },
    {
      "cell_type": "code",
      "metadata": {
        "id": "e6ctz3SAGj3S",
        "colab_type": "code",
        "colab": {}
      },
      "source": [
        "np.array([range(i, i + 3) for i in [2, 4, 6]])"
      ],
      "execution_count": 0,
      "outputs": []
    },
    {
      "cell_type": "markdown",
      "metadata": {
        "id": "K1SGM7YxGlGr",
        "colab_type": "text"
      },
      "source": [
        "  * Numpy array 생성 방법\n",
        " "
      ]
    },
    {
      "cell_type": "code",
      "metadata": {
        "id": "LlLIBtFqGmdd",
        "colab_type": "code",
        "colab": {}
      },
      "source": [
        "# 0으로 가득 찬 길이가 10인 정수 array 생성\n",
        "np.zeros(10, dtype=int)"
      ],
      "execution_count": 0,
      "outputs": []
    },
    {
      "cell_type": "code",
      "metadata": {
        "id": "5wyHRMfUGnPM",
        "colab_type": "code",
        "colab": {}
      },
      "source": [
        "# 1로 찬 3x5 실수 array 생성\n",
        "np.ones((3, 5), dtype=float)"
      ],
      "execution_count": 0,
      "outputs": []
    },
    {
      "cell_type": "code",
      "metadata": {
        "id": "XzXo-TkuGoE4",
        "colab_type": "code",
        "colab": {}
      },
      "source": [
        "# 3.14로 찬 3x5 array 생성\n",
        "np.full((3, 5), 3.14)"
      ],
      "execution_count": 0,
      "outputs": []
    },
    {
      "cell_type": "code",
      "metadata": {
        "id": "4kbJ94nFGo0u",
        "colab_type": "code",
        "colab": {}
      },
      "source": [
        "# array를 규칙에 맞춰서 생성\n",
        "# 0으로 시작해서 2 간격으로 20까지 (20 미포함)\n",
        "np.arange(0, 20, 2)"
      ],
      "execution_count": 0,
      "outputs": []
    },
    {
      "cell_type": "code",
      "metadata": {
        "id": "-zvJYFdwGpx8",
        "colab_type": "code",
        "colab": {}
      },
      "source": [
        "# 0에서 1사이에 균등하게 5개의 원소를 가진 array 생성\n",
        "np.linspace(0, 1, 5)"
      ],
      "execution_count": 0,
      "outputs": []
    },
    {
      "cell_type": "code",
      "metadata": {
        "id": "UWMVQlGTGqdm",
        "colab_type": "code",
        "colab": {}
      },
      "source": [
        "# 0에서 1 사이의 값을 랜덤하게 사용하여 3x3 array 생성\n",
        "np.random.random((3,3))"
      ],
      "execution_count": 0,
      "outputs": []
    },
    {
      "cell_type": "code",
      "metadata": {
        "id": "2ZK5MHvGGrHU",
        "colab_type": "code",
        "colab": {}
      },
      "source": [
        "# 평균이 0이고 분산이 1인 분포에서 랜덤하게 값을 추출하여 3x3 array 생성\n",
        "np.random.normal(0, 1, (3, 3))"
      ],
      "execution_count": 0,
      "outputs": []
    },
    {
      "cell_type": "code",
      "metadata": {
        "id": "K79uVOjoGr5T",
        "colab_type": "code",
        "colab": {}
      },
      "source": [
        "# [0. 10) 사이에서 랜덤하게 정수를 추출하여 3x3 array 생성\n",
        "np.random.randint(0, 10, (3, 3))"
      ],
      "execution_count": 0,
      "outputs": []
    },
    {
      "cell_type": "code",
      "metadata": {
        "id": "AbZbEm7mGs8V",
        "colab_type": "code",
        "colab": {}
      },
      "source": [
        "# 3x3 identity 행렬 생성\n",
        "np.eye(3)"
      ],
      "execution_count": 0,
      "outputs": []
    },
    {
      "cell_type": "markdown",
      "metadata": {
        "id": "MMdi2ezMGtxi",
        "colab_type": "text"
      },
      "source": [
        " * Numpy Data Types\n",
        "  * bool_: Boolean (True or False) stored as a byte\n",
        "  * int_: Default integer type (same as C long; normally either int64 or int32)\n",
        "  * intc: Identical to C int (normally int32 or int64)\n",
        "  * intp: Integer used for indexing (same as C ssize_t; normally either int32 or int64)\n",
        "  * int8: Byte (-128 to 127)\n",
        "  * int16: Integer (-32768 to 32767)\n",
        "  * int32: Integer (-2147483648 to 2147483647)\n",
        "  * int64: Integer (-9223372036854775808 to 9223372036854775807)\n",
        "  * uint8: Unsigned integer (0 to 255)\n",
        "  * uint16: Unsigned integer (0 to 65535)\n",
        "  * uint32: Unsigned integer (0 to 4294967295)\n",
        "  * uint64: Unsigned integer (0 to 18446744073709551615)\n",
        "  * float_: Shorthand for float64.\n",
        "  * float16: Half precision float: sign bit, 5 bits exponent, 10 bits mantissa\n",
        "  * float32: Single precision float: sign bit, 8 bits exponent, 23 bits mantissa\n",
        "  * float64: Double precision float: sign bit, 11 bits exponent, 52 bits mantissa\n",
        "  * complex_: Shorthand for complex128.\n",
        "  * complex64: Complex number, represented by two 32-bit floats\n",
        "  * complex128: Complex number, represented by two 64-bit floats"
      ]
    },
    {
      "cell_type": "markdown",
      "metadata": {
        "id": "-u4OVdUuHWoE",
        "colab_type": "text"
      },
      "source": [
        "* Array의 내부 변수 및 의미"
      ]
    },
    {
      "cell_type": "code",
      "metadata": {
        "id": "l0clil9jGuk5",
        "colab_type": "code",
        "colab": {}
      },
      "source": [
        "x3 = np.random.randint(10, size=(3, 4, 5))  # 3차원 Array\n",
        "print(\"x3 ndim: \", x3.ndim)\n",
        "print(\"x3 shape:\", x3.shape)\n",
        "print(\"x3 size: \", x3.size)\n",
        "print(\"dtype:\", x3.dtype)\n",
        "print(\"itemsize:\", x3.itemsize, \"bytes\")\n",
        "print(\"nbytes:\", x3.nbytes, \"bytes\")"
      ],
      "execution_count": 0,
      "outputs": []
    },
    {
      "cell_type": "markdown",
      "metadata": {
        "id": "T3hMRYubHe0t",
        "colab_type": "text"
      },
      "source": [
        "## Array Index"
      ]
    },
    {
      "cell_type": "code",
      "metadata": {
        "id": "zAKRv0qyHgM5",
        "colab_type": "code",
        "colab": {}
      },
      "source": [
        "import numpy as np\n",
        "np.random.seed(4452)  # 재현성을 위한 랜덤 시드 설정\n",
        "\n",
        "x1 = np.random.randint(10, size=6)  # 1차원 Array\n",
        "x2 = np.random.randint(10, size=(3, 4))  # 2차원 Array\n",
        "x3 = np.random.randint(10, size=(3, 4, 5))  # 3차원 Array"
      ],
      "execution_count": 0,
      "outputs": []
    },
    {
      "cell_type": "code",
      "metadata": {
        "id": "0Y4nOwrGH_6c",
        "colab_type": "code",
        "colab": {}
      },
      "source": [
        "print(x1)"
      ],
      "execution_count": 0,
      "outputs": []
    },
    {
      "cell_type": "code",
      "metadata": {
        "id": "dR3BLRNeIA-l",
        "colab_type": "code",
        "colab": {}
      },
      "source": [
        "x1[0]"
      ],
      "execution_count": 0,
      "outputs": []
    },
    {
      "cell_type": "code",
      "metadata": {
        "id": "j0iluRxrIBv7",
        "colab_type": "code",
        "colab": {}
      },
      "source": [
        "x1[4]"
      ],
      "execution_count": 0,
      "outputs": []
    },
    {
      "cell_type": "code",
      "metadata": {
        "id": "dN2rUYk_ICji",
        "colab_type": "code",
        "colab": {}
      },
      "source": [
        "x1[-1]"
      ],
      "execution_count": 0,
      "outputs": []
    },
    {
      "cell_type": "code",
      "metadata": {
        "id": "V4xPeoRcIDXJ",
        "colab_type": "code",
        "colab": {}
      },
      "source": [
        "x2"
      ],
      "execution_count": 0,
      "outputs": []
    },
    {
      "cell_type": "code",
      "metadata": {
        "id": "B0GyViN9IEuY",
        "colab_type": "code",
        "colab": {}
      },
      "source": [
        "x2[0,0]"
      ],
      "execution_count": 0,
      "outputs": []
    },
    {
      "cell_type": "code",
      "metadata": {
        "id": "ynt9a7jSIFmq",
        "colab_type": "code",
        "colab": {}
      },
      "source": [
        "x2[2]"
      ],
      "execution_count": 0,
      "outputs": []
    },
    {
      "cell_type": "code",
      "metadata": {
        "id": "Y-9S4jLEIGVn",
        "colab_type": "code",
        "colab": {}
      },
      "source": [
        "x2[2,0]"
      ],
      "execution_count": 0,
      "outputs": []
    },
    {
      "cell_type": "code",
      "metadata": {
        "id": "Q0EfMG23IHEW",
        "colab_type": "code",
        "colab": {}
      },
      "source": [
        "x2[2,-1]"
      ],
      "execution_count": 0,
      "outputs": []
    },
    {
      "cell_type": "code",
      "metadata": {
        "id": "Ad0Zm9HpIH9J",
        "colab_type": "code",
        "colab": {}
      },
      "source": [
        "x2[0,0]=12\n",
        "x2"
      ],
      "execution_count": 0,
      "outputs": []
    },
    {
      "cell_type": "code",
      "metadata": {
        "id": "cRX2n3F7II41",
        "colab_type": "code",
        "colab": {}
      },
      "source": [
        "x2[0,0]=3.14159\n",
        "x2"
      ],
      "execution_count": 0,
      "outputs": []
    },
    {
      "cell_type": "markdown",
      "metadata": {
        "id": "VLtGrg9EIM_7",
        "colab_type": "text"
      },
      "source": [
        "## Array Slice (1)\n"
      ]
    },
    {
      "cell_type": "markdown",
      "metadata": {
        "id": "eEAqbkNYIPQp",
        "colab_type": "text"
      },
      "source": [
        "* x[시작:끝:간격]\n",
        "* 1차원인 경우 아래와 같음"
      ]
    },
    {
      "cell_type": "code",
      "metadata": {
        "id": "aPh1DYrmIP9i",
        "colab_type": "code",
        "colab": {}
      },
      "source": [
        "x = np.arange(10)\n",
        "x"
      ],
      "execution_count": 0,
      "outputs": []
    },
    {
      "cell_type": "code",
      "metadata": {
        "id": "vO88nWh4IQpp",
        "colab_type": "code",
        "colab": {}
      },
      "source": [
        "x[:5]"
      ],
      "execution_count": 0,
      "outputs": []
    },
    {
      "cell_type": "code",
      "metadata": {
        "id": "HY9dkCfQIRZl",
        "colab_type": "code",
        "colab": {}
      },
      "source": [
        "x[5:]"
      ],
      "execution_count": 0,
      "outputs": []
    },
    {
      "cell_type": "code",
      "metadata": {
        "id": "ojdUB0AZISPP",
        "colab_type": "code",
        "colab": {}
      },
      "source": [
        "x[4:7]"
      ],
      "execution_count": 0,
      "outputs": []
    },
    {
      "cell_type": "code",
      "metadata": {
        "id": "X1c9I5dkIS52",
        "colab_type": "code",
        "colab": {}
      },
      "source": [
        "x[::2]"
      ],
      "execution_count": 0,
      "outputs": []
    },
    {
      "cell_type": "code",
      "metadata": {
        "id": "_9FsSlpqITk6",
        "colab_type": "code",
        "colab": {}
      },
      "source": [
        "x[1::2]"
      ],
      "execution_count": 0,
      "outputs": []
    },
    {
      "cell_type": "code",
      "metadata": {
        "id": "CVsz2nDMIUK3",
        "colab_type": "code",
        "colab": {}
      },
      "source": [
        "x[::-1]"
      ],
      "execution_count": 0,
      "outputs": []
    },
    {
      "cell_type": "code",
      "metadata": {
        "id": "ynwjghDCIUyo",
        "colab_type": "code",
        "colab": {}
      },
      "source": [
        "x[5::-2]"
      ],
      "execution_count": 0,
      "outputs": []
    },
    {
      "cell_type": "markdown",
      "metadata": {
        "id": "G5AdDKVzIVkl",
        "colab_type": "text"
      },
      "source": [
        "## Array Slice (2)"
      ]
    },
    {
      "cell_type": "markdown",
      "metadata": {
        "id": "K4theZv2IXYj",
        "colab_type": "text"
      },
      "source": [
        "* 다차원인 경우 아래와 같음"
      ]
    },
    {
      "cell_type": "code",
      "metadata": {
        "id": "N6jpTPr6IZEp",
        "colab_type": "code",
        "colab": {}
      },
      "source": [
        "x2"
      ],
      "execution_count": 0,
      "outputs": []
    },
    {
      "cell_type": "code",
      "metadata": {
        "id": "OVUHn2TzIZyS",
        "colab_type": "code",
        "colab": {}
      },
      "source": [
        "x2[:2,:3]"
      ],
      "execution_count": 0,
      "outputs": []
    },
    {
      "cell_type": "code",
      "metadata": {
        "id": "JFaGNQ1sIaZa",
        "colab_type": "code",
        "colab": {}
      },
      "source": [
        "x2[:3,::2]"
      ],
      "execution_count": 0,
      "outputs": []
    },
    {
      "cell_type": "code",
      "metadata": {
        "id": "EtuwYnctIbZ7",
        "colab_type": "code",
        "colab": {}
      },
      "source": [
        "x2[::-1,::-1]"
      ],
      "execution_count": 0,
      "outputs": []
    },
    {
      "cell_type": "markdown",
      "metadata": {
        "id": "tTe-tdykIgK9",
        "colab_type": "text"
      },
      "source": [
        "\n",
        "## Array Slice (3)"
      ]
    },
    {
      "cell_type": "markdown",
      "metadata": {
        "id": "SppTqPSvId9Z",
        "colab_type": "text"
      },
      "source": [
        "* 특정 열 혹은 행 값 접근"
      ]
    },
    {
      "cell_type": "code",
      "metadata": {
        "id": "ID8jMaWoIhGs",
        "colab_type": "code",
        "colab": {}
      },
      "source": [
        "x2[:,0]"
      ],
      "execution_count": 0,
      "outputs": []
    },
    {
      "cell_type": "code",
      "metadata": {
        "id": "Tj7fighnIhv0",
        "colab_type": "code",
        "colab": {}
      },
      "source": [
        "x2[0,:]"
      ],
      "execution_count": 0,
      "outputs": []
    },
    {
      "cell_type": "code",
      "metadata": {
        "id": "CspmEdxNIibN",
        "colab_type": "code",
        "colab": {}
      },
      "source": [
        "x2[0]"
      ],
      "execution_count": 0,
      "outputs": []
    },
    {
      "cell_type": "markdown",
      "metadata": {
        "id": "r9ApY8y3IqPm",
        "colab_type": "text"
      },
      "source": [
        "# Numpy Array 연산"
      ]
    },
    {
      "cell_type": "markdown",
      "metadata": {
        "id": "j8d9x9xXIrkW",
        "colab_type": "text"
      },
      "source": [
        "## 반복문 속도"
      ]
    },
    {
      "cell_type": "markdown",
      "metadata": {
        "id": "8M9lDXAfItKV",
        "colab_type": "text"
      },
      "source": [
        "* Python의 기본 연산은 느리게 작동함\n",
        "* C언어에서와 같이 반복문을 작성할 수는 있으나, 그 경우 연산 속도가 느림"
      ]
    },
    {
      "cell_type": "code",
      "metadata": {
        "id": "Z1FqciKGIubl",
        "colab_type": "code",
        "colab": {}
      },
      "source": [
        "import numpy as np\n",
        "np.random.seed(0)\n",
        "\n",
        "def compute_reciprocals(values):\n",
        "    output = np.empty(len(values))\n",
        "    for i in range(len(values)):\n",
        "        output[i] = 1.0 / values[i]\n",
        "    return output\n",
        "        \n",
        "values = np.random.randint(1, 10, size=5)\n",
        "compute_reciprocals(values)"
      ],
      "execution_count": 0,
      "outputs": []
    },
    {
      "cell_type": "markdown",
      "metadata": {
        "id": "2O5RAtZNIvhe",
        "colab_type": "text"
      },
      "source": [
        "* ```%timeit```을 통해 연산시간을 특정할 수 있음\n",
        "\n"
      ]
    },
    {
      "cell_type": "code",
      "metadata": {
        "id": "ViTw1wbuIxQq",
        "colab_type": "code",
        "colab": {}
      },
      "source": [
        "big_array = np.random.randint(1, 100, size=1000000)\n",
        "%timeit compute_reciprocals(big_array)"
      ],
      "execution_count": 0,
      "outputs": []
    },
    {
      "cell_type": "markdown",
      "metadata": {
        "id": "bRzSWIuQI3Qv",
        "colab_type": "text"
      },
      "source": [
        "## UFuncs"
      ]
    },
    {
      "cell_type": "markdown",
      "metadata": {
        "id": "EeXoPd0NI6gF",
        "colab_type": "text"
      },
      "source": [
        "* Numpy에서는 Vectorized operation을 지원함"
      ]
    },
    {
      "cell_type": "code",
      "metadata": {
        "id": "0QnlXw_FI7i5",
        "colab_type": "code",
        "colab": {}
      },
      "source": [
        "print(compute_reciprocals(values))\n",
        "print(1.0 / values)"
      ],
      "execution_count": 0,
      "outputs": []
    },
    {
      "cell_type": "code",
      "metadata": {
        "id": "89FrLQAxI8QA",
        "colab_type": "code",
        "colab": {}
      },
      "source": [
        "%timeit (1.0 / big_array)"
      ],
      "execution_count": 0,
      "outputs": []
    },
    {
      "cell_type": "code",
      "metadata": {
        "id": "MnxlfRxhI9ad",
        "colab_type": "code",
        "colab": {}
      },
      "source": [
        "x1 = np.arange(5) \n",
        "x2 = np.arange(1, 6)\n",
        "x3 = x1 / x2\n",
        "print(x1)\n",
        "print(x2)\n",
        "print(x3)"
      ],
      "execution_count": 0,
      "outputs": []
    },
    {
      "cell_type": "code",
      "metadata": {
        "id": "Ciosiy2KI-K4",
        "colab_type": "code",
        "colab": {}
      },
      "source": [
        "x = np.arange(9).reshape((3, 3))\n",
        "2 ** x"
      ],
      "execution_count": 0,
      "outputs": []
    },
    {
      "cell_type": "markdown",
      "metadata": {
        "id": "MBVQ6ZGVI-vs",
        "colab_type": "text"
      },
      "source": [
        "* Array 대수 연산"
      ]
    },
    {
      "cell_type": "code",
      "metadata": {
        "id": "yhc4kUe-JAS8",
        "colab_type": "code",
        "colab": {}
      },
      "source": [
        "x = np.arange(4)\n",
        "print(\"x     =\", x)\n",
        "print(\"x + 5 =\", x + 5)\n",
        "print(\"x - 5 =\", x - 5)\n",
        "print(\"x * 2 =\", x * 2)\n",
        "print(\"x / 2 =\", x / 2)\n",
        "print(\"x // 2 =\", x // 2)  # floor division\n",
        "print(\"-x     = \", -x)\n",
        "print(\"x ** 2 = \", x ** 2)\n",
        "print(\"x % 2  = \", x % 2)"
      ],
      "execution_count": 0,
      "outputs": []
    },
    {
      "cell_type": "code",
      "metadata": {
        "id": "sU5ZKKSYJB_V",
        "colab_type": "code",
        "colab": {}
      },
      "source": [
        "-(0.5*x + 1) ** 2"
      ],
      "execution_count": 0,
      "outputs": []
    },
    {
      "cell_type": "code",
      "metadata": {
        "id": "kLoSWpahJCsa",
        "colab_type": "code",
        "colab": {}
      },
      "source": [
        "np.add(x, 2)"
      ],
      "execution_count": 0,
      "outputs": []
    },
    {
      "cell_type": "markdown",
      "metadata": {
        "id": "fzwmi2jGJDpg",
        "colab_type": "text"
      },
      "source": [
        "* **Operator Equivalent ufunc**\n",
        " * ''' + '''\tnp.add\tAddition (e.g., 1 + 1 = 2)\n",
        " * ''' - '''\tnp.subtract\tSubtraction (e.g., 3 - 2 = 1)\n",
        " * ''' - '''\tnp.negative\tUnary negation (e.g., -2)\n",
        " * ''' * '''\tnp.multiply\tMultiplication (e.g., 2 * 3 = 6)\n",
        " * ''' / '''\tnp.divide\tDivision (e.g., 3 / 2 = 1.5)\n",
        " * ''' // '''\tnp.floor_divide\tFloor division (e.g., 3 // 2 = 1)\n",
        " * ''' ** '''\tnp.power\tExponentiation (e.g., 2 ** 3 = 8)\n",
        " * ''' % '''\tnp.mod\tModulus/remainder (e.g., 9 % 4 = 1)"
      ]
    },
    {
      "cell_type": "markdown",
      "metadata": {
        "id": "FQeYBFjoJGHm",
        "colab_type": "text"
      },
      "source": [
        "* 절댓값"
      ]
    },
    {
      "cell_type": "code",
      "metadata": {
        "id": "doGF7lkzJHjw",
        "colab_type": "code",
        "colab": {}
      },
      "source": [
        "x = np.array([-2, -1, 0, 1, 2])\n",
        "abs(x)"
      ],
      "execution_count": 0,
      "outputs": []
    },
    {
      "cell_type": "code",
      "metadata": {
        "id": "njq-JbZZJI7q",
        "colab_type": "code",
        "colab": {}
      },
      "source": [
        "np.absolute(x)"
      ],
      "execution_count": 0,
      "outputs": []
    },
    {
      "cell_type": "code",
      "metadata": {
        "id": "pnXzurNlJJq7",
        "colab_type": "code",
        "colab": {}
      },
      "source": [
        "np.abs(x)"
      ],
      "execution_count": 0,
      "outputs": []
    },
    {
      "cell_type": "markdown",
      "metadata": {
        "id": "B2t6SbgAJIrH",
        "colab_type": "text"
      },
      "source": [
        "* 삼각함수"
      ]
    },
    {
      "cell_type": "code",
      "metadata": {
        "id": "jEFYXLDHJL_K",
        "colab_type": "code",
        "colab": {}
      },
      "source": [
        "theta = np.linspace(0, np.pi, 3)"
      ],
      "execution_count": 0,
      "outputs": []
    },
    {
      "cell_type": "code",
      "metadata": {
        "id": "ehNCKWn3JN5W",
        "colab_type": "code",
        "colab": {}
      },
      "source": [
        "x = [-1, 0, 1]\n",
        "print(\"x         = \", x)\n",
        "print(\"arcsin(x) = \", np.arcsin(x))\n",
        "print(\"arccos(x) = \", np.arccos(x))\n",
        "print(\"arctan(x) = \", np.arctan(x))"
      ],
      "execution_count": 0,
      "outputs": []
    },
    {
      "cell_type": "markdown",
      "metadata": {
        "id": "mA-PHrbBJPBq",
        "colab_type": "text"
      },
      "source": [
        "* 지수함수와 로그"
      ]
    },
    {
      "cell_type": "code",
      "metadata": {
        "id": "Wvqe9cZeJPb0",
        "colab_type": "code",
        "colab": {}
      },
      "source": [
        "x = [1, 2, 3]\n",
        "print(\"x     =\", x)\n",
        "print(\"e^x   =\", np.exp(x))\n",
        "print(\"2^x   =\", np.exp2(x))\n",
        "print(\"3^x   =\", np.power(3, x))"
      ],
      "execution_count": 0,
      "outputs": []
    },
    {
      "cell_type": "code",
      "metadata": {
        "id": "9kXtH-IAJQYV",
        "colab_type": "code",
        "colab": {}
      },
      "source": [
        "x = [1, 2, 4, 10]\n",
        "print(\"x        =\", x)\n",
        "print(\"ln(x)    =\", np.log(x))\n",
        "print(\"log2(x)  =\", np.log2(x))\n",
        "print(\"log10(x) =\", np.log10(x))"
      ],
      "execution_count": 0,
      "outputs": []
    },
    {
      "cell_type": "code",
      "metadata": {
        "id": "2yMOIXrLJReP",
        "colab_type": "code",
        "colab": {}
      },
      "source": [
        "x = [0, 0.001, 0.01, 0.1]\n",
        "print(\"exp(x) - 1 =\", np.expm1(x))\n",
        "print(\"log(1 + x) =\", np.log1p(x))"
      ],
      "execution_count": 0,
      "outputs": []
    },
    {
      "cell_type": "markdown",
      "metadata": {
        "id": "RNyyfJkcJSwA",
        "colab_type": "text"
      },
      "source": [
        "# 기타 참고 자료\n",
        "* https://jakevdp.github.io/PythonDataScienceHandbook/index.html"
      ]
    }
  ]
}