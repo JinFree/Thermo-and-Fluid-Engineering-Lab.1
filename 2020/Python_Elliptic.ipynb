{
  "nbformat": 4,
  "nbformat_minor": 0,
  "metadata": {
    "colab": {
      "name": "Python_Elliptic.ipynb",
      "provenance": [],
      "authorship_tag": "ABX9TyP8n+STbj24B1vxcpSXFAwe",
      "include_colab_link": true
    },
    "kernelspec": {
      "name": "python3",
      "display_name": "Python 3"
    }
  },
  "cells": [
    {
      "cell_type": "markdown",
      "metadata": {
        "id": "view-in-github",
        "colab_type": "text"
      },
      "source": [
        "<a href=\"https://colab.research.google.com/github/JinFree/Thermo-and-Fluid-Engineering-Lab.1/blob/master/2020/Python_Elliptic.ipynb\" target=\"_parent\"><img src=\"https://colab.research.google.com/assets/colab-badge.svg\" alt=\"Open In Colab\"/></a>"
      ]
    },
    {
      "cell_type": "code",
      "metadata": {
        "id": "r3YNAi4x8Vjg",
        "colab_type": "code",
        "colab": {}
      },
      "source": [
        "import os\n",
        "import shutil\n",
        "import numpy as np"
      ],
      "execution_count": 0,
      "outputs": []
    },
    {
      "cell_type": "code",
      "metadata": {
        "id": "992yr0u98X9I",
        "colab_type": "code",
        "colab": {}
      },
      "source": [
        "class Elliptic:\n",
        "    enumerate(['Jacobi', 'PGS'])\n",
        "\n",
        "    def __init__(self):\n",
        "        self.Gx = 21\n",
        "        self.Gy = 41\n",
        "        self.GridSize = 0.05\n",
        "        self.T0 = 100\n",
        "        self.Ermax = 0.000001\n",
        "        self.T = np.random.randn(self.Gy, self.Gx)\n",
        "        self.Tnew = np.random.randn(self.Gy, self.Gx)\n",
        "        self.scheme = 'error'\n",
        "        self.Scheme_name = \"Error\"\n",
        "        self.Dirname = \"Error\"\n",
        "        self.iter = 0\n",
        "        return\n",
        "\n",
        "    def Scheme_Printer(self):\n",
        "        print(\"Solve {0}\".format(self.scheme))\n",
        "        self.Scheme_name = \"%s\"%self.scheme\n",
        "        return\n",
        "\n",
        "    def Dir_Write(self):\n",
        "        self.dirname = \"Elliptic,{0}\".format(self.Scheme_name)\n",
        "        path = os.getcwd()\n",
        "        self.dirname = os.path.join(path, self.dirname)\n",
        "        if os.path.isdir(self.dirname):\n",
        "            shutil.rmtree(self.dirname)  # 디렉토리가 존재하면 삭제하고 다시 계산# return # 디렉토리가 존재하면 덮어쓰기 #\n",
        "        os.mkdir(self.dirname)\n",
        "        return\n",
        "\n",
        "    def Para_Write(self):\n",
        "        filename = \"{0}/{1}, iter = {2}.csv\".format(self.dirname, self.Scheme_name, self.iter)\n",
        "        file = open(filename, 'w')\n",
        "        file.write(\"X,Y,Z,Temperature\\n\")\n",
        "        for i in range(self.Gy):\n",
        "            for j in range(self.Gx):\n",
        "                data = \"%3.3f,%3.3f,%3.3f,%3.3f\\n\" % \\\n",
        "                       (float(j*self.GridSize), float(i*self.GridSize), 0.0, self.T[i][j])\n",
        "                file.write(data)\n",
        "        file.close()\n",
        "        return\n",
        "\n",
        "    def Initial_Condition(self):\n",
        "        self.T = np.zeros((self.Gy, self.Gx))\n",
        "        self.Tnew = np.zeros((self.Gy, self.Gx))\n",
        "        return\n",
        "\n",
        "    def Boundary_Condition(self):\n",
        "        for i in range(self.Gy):\n",
        "            self.T[i][0] = 0\n",
        "            self.Tnew[i][0] = 0\n",
        "            self.T[i][self.Gx-1] = 0\n",
        "            self.Tnew[i][self.Gx-1] = 0\n",
        "        for i in range(self.Gx):\n",
        "            self.T[self.Gy-1][i] = 0\n",
        "            self.Tnew[self.Gy-1][i] = 0\n",
        "            self.T[0][i] = self.T0\n",
        "            self.Tnew[0][i] = self.T0\n",
        "        return\n",
        "\n",
        "    def CalErr(self):\n",
        "        error = 0\n",
        "        for i in range(1, self.Gy-1):\n",
        "            for j in range(1, self.Gx-1):\n",
        "                error += abs(self.Tnew[i][j] - self.T[i][j])\n",
        "        return error\n",
        "\n",
        "    def Memcpy(self):\n",
        "        self.T = self.Tnew.copy()\n",
        "        return\n",
        "\n",
        "    def Jacobi(self):\n",
        "        for i in range(1, self.Gy-1):\n",
        "            for j in range(1, self.Gx-1):\n",
        "                self.Tnew[i][j] = (self.T[i+1][j]+self.T[i-1][j]+self.T[i][j+1]+self.T[i][j-1])/4.0\n",
        "        return\n",
        "\n",
        "    def Jacobi_Solver(self):\n",
        "        self.iter = 0\n",
        "        error = 1.0\n",
        "        while error > self.Ermax:\n",
        "            self.Jacobi()\n",
        "            error = self.CalErr()\n",
        "            self.Memcpy()\n",
        "            self.iter += 1\n",
        "            print(\"\\rIteration = %d\"%self.iter, end=\"\")\n",
        "        return\n",
        "\n",
        "    def PGS(self):\n",
        "        for i in range(1, self.Gy-1):\n",
        "            for j in range(1, self.Gx-1):\n",
        "                self.Tnew[i][j] = (self.T[i+1][j]+self.Tnew[i-1][j]+self.T[i][j+1]+self.Tnew[i][j-1])/4.0\n",
        "        return\n",
        "\n",
        "    def PGS_Solver(self):\n",
        "        self.iter = 0\n",
        "        error = 1.0\n",
        "        while error > self.Ermax:\n",
        "            self.PGS()\n",
        "            error = self.CalErr()\n",
        "            self.Memcpy()\n",
        "            self.iter += 1\n",
        "            print(\"\\rIteration = %d\"%self.iter, end=\"\")\n",
        "        return\n",
        "\n",
        "    def Main(self, scheme):\n",
        "        self.scheme = scheme\n",
        "        self.Scheme_Printer()\n",
        "        self.Initial_Condition()\n",
        "        self.Boundary_Condition()\n",
        "        self.Dir_Write()\n",
        "        if scheme == 'Jacobi':\n",
        "            self.Jacobi_Solver()\n",
        "        elif scheme == 'PGS':\n",
        "            self.PGS_Solver()\n",
        "        self.Para_Write()\n",
        "        print()\n",
        "        return"
      ],
      "execution_count": 0,
      "outputs": []
    },
    {
      "cell_type": "code",
      "metadata": {
        "id": "NZU6mnWW8whU",
        "colab_type": "code",
        "colab": {}
      },
      "source": [
        "PyCompute = Elliptic()"
      ],
      "execution_count": 0,
      "outputs": []
    },
    {
      "cell_type": "code",
      "metadata": {
        "id": "n7j9VQqP85eH",
        "colab_type": "code",
        "colab": {
          "base_uri": "https://localhost:8080/",
          "height": 53
        },
        "outputId": "ad8c9139-1f01-4eb2-a27d-ba95ecdc6df3"
      },
      "source": [
        "PyCompute.Main('Jacobi')"
      ],
      "execution_count": 8,
      "outputs": [
        {
          "output_type": "stream",
          "text": [
            "Solve Jacobi\n",
            "Iteration = 2268\n"
          ],
          "name": "stdout"
        }
      ]
    },
    {
      "cell_type": "code",
      "metadata": {
        "id": "KPMy995D81Xl",
        "colab_type": "code",
        "colab": {
          "base_uri": "https://localhost:8080/",
          "height": 53
        },
        "outputId": "40afd54a-8d54-4cb6-c1c4-485a7ff52905"
      },
      "source": [
        "PyCompute.Main('PGS')"
      ],
      "execution_count": 9,
      "outputs": [
        {
          "output_type": "stream",
          "text": [
            "Solve PGS\n",
            "Iteration = 1170\n"
          ],
          "name": "stdout"
        }
      ]
    },
    {
      "cell_type": "code",
      "metadata": {
        "id": "xl_pKkBW82t1",
        "colab_type": "code",
        "colab": {}
      },
      "source": [
        "!zip -r -qq Elliptic,Jacobi.zip Elliptic,Jacobi\n",
        "!zip -r -qq Elliptic,PGS.zip Elliptic,PGS"
      ],
      "execution_count": 0,
      "outputs": []
    },
    {
      "cell_type": "code",
      "metadata": {
        "id": "91e1YS04-YoI",
        "colab_type": "code",
        "colab": {}
      },
      "source": [
        ""
      ],
      "execution_count": 0,
      "outputs": []
    }
  ]
}