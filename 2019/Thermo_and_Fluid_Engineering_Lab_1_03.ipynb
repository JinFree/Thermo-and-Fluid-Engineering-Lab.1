{
  "nbformat": 4,
  "nbformat_minor": 0,
  "metadata": {
    "colab": {
      "name": "Thermo_and_Fluid_Engineering_Lab_1_03.ipynb",
      "version": "0.3.2",
      "provenance": [],
      "include_colab_link": true
    },
    "kernelspec": {
      "name": "python3",
      "display_name": "Python 3"
    }
  },
  "cells": [
    {
      "cell_type": "markdown",
      "metadata": {
        "id": "view-in-github",
        "colab_type": "text"
      },
      "source": [
        "<a href=\"https://colab.research.google.com/github/JinFree/Thermo-and-Fluid-Engineering-Lab.1/blob/master/Thermo_and_Fluid_Engineering_Lab_1_03.ipynb\" target=\"_parent\"><img src=\"https://colab.research.google.com/assets/colab-badge.svg\" alt=\"Open In Colab\"/></a>"
      ]
    },
    {
      "cell_type": "markdown",
      "metadata": {
        "id": "-bNfo6UcGGVa",
        "colab_type": "text"
      },
      "source": [
        "# Numpy 기본"
      ]
    },
    {
      "cell_type": "markdown",
      "metadata": {
        "id": "Sa_8r7lUHLZB",
        "colab_type": "text"
      },
      "source": [
        "## Numpy의 기본 Array"
      ]
    },
    {
      "cell_type": "markdown",
      "metadata": {
        "id": "u4Kh8VmpHQW6",
        "colab_type": "text"
      },
      "source": [
        "* Array 선언 방법"
      ]
    },
    {
      "cell_type": "code",
      "metadata": {
        "id": "85w4XN_DGFvc",
        "colab_type": "code",
        "colab": {}
      },
      "source": [
        "import numpy as np\n",
        "np.random.seed(4452)  # 재현성을 위한 랜덤 시드 설정\n",
        "\n",
        "x1 = np.random.randint(10, size=6)  # 1차원 Array\n",
        "x2 = np.random.randint(10, size=(3, 4))  # 2차원 Array\n",
        "x3 = np.random.randint(10, size=(3, 4, 5))  # 3차원 Array"
      ],
      "execution_count": 0,
      "outputs": []
    },
    {
      "cell_type": "markdown",
      "metadata": {
        "id": "tEGvD6yRWNVU",
        "colab_type": "text"
      },
      "source": [
        "* Array의 기본 성질"
      ]
    },
    {
      "cell_type": "code",
      "metadata": {
        "id": "ZFHznnbmX56v",
        "colab_type": "code",
        "colab": {}
      },
      "source": [
        "print(\"x3 ndim: \", x3.ndim)\n",
        "print(\"x3 shape:\", x3.shape)\n",
        "print(\"x3 size: \", x3.size)\n",
        "print(\"dtype:\", x3.dtype)\n",
        "print(\"itemsize:\", x3.itemsize, \"bytes\")\n",
        "print(\"nbytes:\", x3.nbytes, \"bytes\")"
      ],
      "execution_count": 0,
      "outputs": []
    },
    {
      "cell_type": "markdown",
      "metadata": {
        "id": "cQReVTfUWehu",
        "colab_type": "text"
      },
      "source": [
        "## Array Index"
      ]
    },
    {
      "cell_type": "code",
      "metadata": {
        "id": "WM7SAg28WiFe",
        "colab_type": "code",
        "colab": {}
      },
      "source": [
        "print(x1)"
      ],
      "execution_count": 0,
      "outputs": []
    },
    {
      "cell_type": "code",
      "metadata": {
        "id": "2pe2XR15Wjmz",
        "colab_type": "code",
        "colab": {}
      },
      "source": [
        "x1[0]"
      ],
      "execution_count": 0,
      "outputs": []
    },
    {
      "cell_type": "code",
      "metadata": {
        "id": "AXS2uD67WqJl",
        "colab_type": "code",
        "colab": {}
      },
      "source": [
        "x1[4]"
      ],
      "execution_count": 0,
      "outputs": []
    },
    {
      "cell_type": "code",
      "metadata": {
        "id": "tTSRikTAWsz1",
        "colab_type": "code",
        "colab": {}
      },
      "source": [
        "x1[-1]"
      ],
      "execution_count": 0,
      "outputs": []
    },
    {
      "cell_type": "code",
      "metadata": {
        "id": "C7WvHbKpWuIW",
        "colab_type": "code",
        "colab": {}
      },
      "source": [
        "x2"
      ],
      "execution_count": 0,
      "outputs": []
    },
    {
      "cell_type": "code",
      "metadata": {
        "id": "GH0hxF1ZDXWK",
        "colab_type": "code",
        "colab": {}
      },
      "source": [
        "x2[0,0]"
      ],
      "execution_count": 0,
      "outputs": []
    },
    {
      "cell_type": "code",
      "metadata": {
        "id": "CJIKUInPDYyB",
        "colab_type": "code",
        "colab": {}
      },
      "source": [
        "x2[2]"
      ],
      "execution_count": 0,
      "outputs": []
    },
    {
      "cell_type": "code",
      "metadata": {
        "id": "S2OJJubBDalJ",
        "colab_type": "code",
        "colab": {}
      },
      "source": [
        "x2[2,0]"
      ],
      "execution_count": 0,
      "outputs": []
    },
    {
      "cell_type": "code",
      "metadata": {
        "id": "IZyxakWMDb3J",
        "colab_type": "code",
        "colab": {}
      },
      "source": [
        "x2[2,-1]"
      ],
      "execution_count": 0,
      "outputs": []
    },
    {
      "cell_type": "code",
      "metadata": {
        "id": "f3V4w5PgDd_5",
        "colab_type": "code",
        "colab": {}
      },
      "source": [
        "x2[0,0]=12\n",
        "x2"
      ],
      "execution_count": 0,
      "outputs": []
    },
    {
      "cell_type": "code",
      "metadata": {
        "id": "exluErgdDh8Z",
        "colab_type": "code",
        "colab": {}
      },
      "source": [
        "x2[0,0]=3.14159\n",
        "x2"
      ],
      "execution_count": 0,
      "outputs": []
    },
    {
      "cell_type": "markdown",
      "metadata": {
        "id": "3kLPFrBLDuBc",
        "colab_type": "text"
      },
      "source": [
        "## Array Slice (1)\n"
      ]
    },
    {
      "cell_type": "markdown",
      "metadata": {
        "id": "QlprOw68HuTF",
        "colab_type": "text"
      },
      "source": [
        "* x[시작:끝:간격]\n",
        "* 1차원인 경우 아래와 같음"
      ]
    },
    {
      "cell_type": "code",
      "metadata": {
        "id": "FltkcCLeDp45",
        "colab_type": "code",
        "colab": {}
      },
      "source": [
        "x = np.arange(10)\n",
        "x"
      ],
      "execution_count": 0,
      "outputs": []
    },
    {
      "cell_type": "code",
      "metadata": {
        "id": "cz51o_E7D4xh",
        "colab_type": "code",
        "colab": {}
      },
      "source": [
        "x[:5]"
      ],
      "execution_count": 0,
      "outputs": []
    },
    {
      "cell_type": "code",
      "metadata": {
        "id": "vojv2oxVD52y",
        "colab_type": "code",
        "colab": {}
      },
      "source": [
        "x[5:]"
      ],
      "execution_count": 0,
      "outputs": []
    },
    {
      "cell_type": "code",
      "metadata": {
        "id": "4Dc4gu52D7TJ",
        "colab_type": "code",
        "colab": {}
      },
      "source": [
        "x[4:7]"
      ],
      "execution_count": 0,
      "outputs": []
    },
    {
      "cell_type": "code",
      "metadata": {
        "id": "3RBJEfpwD9by",
        "colab_type": "code",
        "colab": {}
      },
      "source": [
        "x[::2]"
      ],
      "execution_count": 0,
      "outputs": []
    },
    {
      "cell_type": "code",
      "metadata": {
        "id": "Ry2GjVhSD-na",
        "colab_type": "code",
        "colab": {}
      },
      "source": [
        "x[1::2]"
      ],
      "execution_count": 0,
      "outputs": []
    },
    {
      "cell_type": "code",
      "metadata": {
        "id": "eXw90xzXELCD",
        "colab_type": "code",
        "colab": {}
      },
      "source": [
        "x[::-1]"
      ],
      "execution_count": 0,
      "outputs": []
    },
    {
      "cell_type": "code",
      "metadata": {
        "id": "OF1SA0gLEMki",
        "colab_type": "code",
        "colab": {}
      },
      "source": [
        "x[5::-2]"
      ],
      "execution_count": 0,
      "outputs": []
    },
    {
      "cell_type": "markdown",
      "metadata": {
        "id": "TcHWP5OfERi6",
        "colab_type": "text"
      },
      "source": [
        "## Array Slice (2)"
      ]
    },
    {
      "cell_type": "markdown",
      "metadata": {
        "id": "xy0gEKzuHxye",
        "colab_type": "text"
      },
      "source": [
        " * 다차원인 경우 아래와 같음"
      ]
    },
    {
      "cell_type": "code",
      "metadata": {
        "id": "URbd4PdpEOIj",
        "colab_type": "code",
        "colab": {}
      },
      "source": [
        "x2"
      ],
      "execution_count": 0,
      "outputs": []
    },
    {
      "cell_type": "code",
      "metadata": {
        "id": "ThOt2BV9EfV_",
        "colab_type": "code",
        "colab": {}
      },
      "source": [
        "x2[:2,:3]"
      ],
      "execution_count": 0,
      "outputs": []
    },
    {
      "cell_type": "code",
      "metadata": {
        "id": "4aEBD_3FEggC",
        "colab_type": "code",
        "colab": {}
      },
      "source": [
        "x2[:3,::2]"
      ],
      "execution_count": 0,
      "outputs": []
    },
    {
      "cell_type": "code",
      "metadata": {
        "id": "rYK-yKD4EiIa",
        "colab_type": "code",
        "colab": {}
      },
      "source": [
        "x2[::-1,::-1]"
      ],
      "execution_count": 0,
      "outputs": []
    },
    {
      "cell_type": "markdown",
      "metadata": {
        "id": "UM74ew5IEpq1",
        "colab_type": "text"
      },
      "source": [
        "## Array Slice (3)"
      ]
    },
    {
      "cell_type": "markdown",
      "metadata": {
        "id": "u0Ob9DUfH0lE",
        "colab_type": "text"
      },
      "source": [
        "* 특정 열 혹은 행 값 접근"
      ]
    },
    {
      "cell_type": "code",
      "metadata": {
        "id": "b_x4KaWAElkK",
        "colab_type": "code",
        "colab": {}
      },
      "source": [
        "x2[:,0]"
      ],
      "execution_count": 0,
      "outputs": []
    },
    {
      "cell_type": "code",
      "metadata": {
        "id": "HHaa14utExn7",
        "colab_type": "code",
        "colab": {}
      },
      "source": [
        "x2[0,:]"
      ],
      "execution_count": 0,
      "outputs": []
    },
    {
      "cell_type": "code",
      "metadata": {
        "id": "HPsQVVzpEztK",
        "colab_type": "code",
        "colab": {}
      },
      "source": [
        "x2[0]"
      ],
      "execution_count": 0,
      "outputs": []
    },
    {
      "cell_type": "markdown",
      "metadata": {
        "id": "FoOV10L8E4xv",
        "colab_type": "text"
      },
      "source": [
        "## Array Subarrays"
      ]
    },
    {
      "cell_type": "markdown",
      "metadata": {
        "id": "mK5izEI-H4TD",
        "colab_type": "text"
      },
      "source": [
        " * 주소를 참조하는 Subarrays"
      ]
    },
    {
      "cell_type": "code",
      "metadata": {
        "id": "7C6EvfbfE0iK",
        "colab_type": "code",
        "colab": {}
      },
      "source": [
        "x2"
      ],
      "execution_count": 0,
      "outputs": []
    },
    {
      "cell_type": "code",
      "metadata": {
        "id": "RPOYwh2eFAy5",
        "colab_type": "code",
        "colab": {}
      },
      "source": [
        "x2_sub = x2[:2, :2]\n",
        "x2_sub"
      ],
      "execution_count": 0,
      "outputs": []
    },
    {
      "cell_type": "code",
      "metadata": {
        "id": "WZaLT88rFCu5",
        "colab_type": "code",
        "colab": {}
      },
      "source": [
        "x2_sub[0,0] = 99\n",
        "x2_sub"
      ],
      "execution_count": 0,
      "outputs": []
    },
    {
      "cell_type": "code",
      "metadata": {
        "id": "elTuZUxQFHAZ",
        "colab_type": "code",
        "colab": {}
      },
      "source": [
        "x2"
      ],
      "execution_count": 0,
      "outputs": []
    },
    {
      "cell_type": "markdown",
      "metadata": {
        "id": "C_ls9yonFI5r",
        "colab_type": "text"
      },
      "source": [
        " * 데이터를 복사하는 Subarrays"
      ]
    },
    {
      "cell_type": "code",
      "metadata": {
        "id": "pgG2fnaPFHTC",
        "colab_type": "code",
        "colab": {}
      },
      "source": [
        "x2_sub_copy = x2[:2, :2].copy()\n",
        "print(x2_sub_copy)"
      ],
      "execution_count": 0,
      "outputs": []
    },
    {
      "cell_type": "code",
      "metadata": {
        "id": "uBsOTjqJFNyZ",
        "colab_type": "code",
        "colab": {}
      },
      "source": [
        "x2_sub_copy[0, 0] = 42\n",
        "print(x2_sub_copy)"
      ],
      "execution_count": 0,
      "outputs": []
    },
    {
      "cell_type": "code",
      "metadata": {
        "id": "CpVXshCbFPQS",
        "colab_type": "code",
        "colab": {}
      },
      "source": [
        "print(x2)"
      ],
      "execution_count": 0,
      "outputs": []
    },
    {
      "cell_type": "markdown",
      "metadata": {
        "id": "fjBcR-VmFS3X",
        "colab_type": "text"
      },
      "source": [
        "## Array Reshape"
      ]
    },
    {
      "cell_type": "code",
      "metadata": {
        "id": "2Kt6uQD_FQIB",
        "colab_type": "code",
        "colab": {}
      },
      "source": [
        "arange = np.arange(1,10)\n",
        "print(arange)\n",
        "grid = arange.reshape((3, 3))\n",
        "print(grid)"
      ],
      "execution_count": 0,
      "outputs": []
    },
    {
      "cell_type": "code",
      "metadata": {
        "id": "7h3yrWMzFdVI",
        "colab_type": "code",
        "colab": {}
      },
      "source": [
        "x = np.array([1, 2, 3])\n",
        "\n",
        "# row vector via reshape\n",
        "x.reshape((1, 3))"
      ],
      "execution_count": 0,
      "outputs": []
    },
    {
      "cell_type": "code",
      "metadata": {
        "id": "aOqCXEq7FfXa",
        "colab_type": "code",
        "colab": {}
      },
      "source": [
        "# row vector via newaxis\n",
        "x[np.newaxis, :]"
      ],
      "execution_count": 0,
      "outputs": []
    },
    {
      "cell_type": "code",
      "metadata": {
        "id": "QFSVwLLAFini",
        "colab_type": "code",
        "colab": {}
      },
      "source": [
        "# column vector via reshape\n",
        "x.reshape((3, 1))"
      ],
      "execution_count": 0,
      "outputs": []
    },
    {
      "cell_type": "code",
      "metadata": {
        "id": "PivSo_toFllj",
        "colab_type": "code",
        "colab": {}
      },
      "source": [
        "# column vector via newaxis\n",
        "x[:, np.newaxis]"
      ],
      "execution_count": 0,
      "outputs": []
    },
    {
      "cell_type": "markdown",
      "metadata": {
        "id": "dh86o_qeFqQ_",
        "colab_type": "text"
      },
      "source": [
        "## Array 붙이기"
      ]
    },
    {
      "cell_type": "code",
      "metadata": {
        "id": "OADaomUUFm3b",
        "colab_type": "code",
        "colab": {}
      },
      "source": [
        "x = np.array([1, 2, 3])\n",
        "y = np.array([3, 2, 1])\n",
        "np.concatenate([x, y])"
      ],
      "execution_count": 0,
      "outputs": []
    },
    {
      "cell_type": "code",
      "metadata": {
        "id": "tGaOVFyrGJ2O",
        "colab_type": "code",
        "colab": {}
      },
      "source": [
        "z = [99, 99, 99]\n",
        "print(np.concatenate([x, y, z]))"
      ],
      "execution_count": 0,
      "outputs": []
    },
    {
      "cell_type": "code",
      "metadata": {
        "id": "Oy9t_-nDGLOz",
        "colab_type": "code",
        "colab": {}
      },
      "source": [
        "grid = np.array([[1, 2, 3],\n",
        "                 [4, 5, 6]])"
      ],
      "execution_count": 0,
      "outputs": []
    },
    {
      "cell_type": "code",
      "metadata": {
        "id": "ZQqo3cIOGMni",
        "colab_type": "code",
        "colab": {}
      },
      "source": [
        "# concatenate along the first axis\n",
        "np.concatenate([grid, grid])"
      ],
      "execution_count": 0,
      "outputs": []
    },
    {
      "cell_type": "code",
      "metadata": {
        "id": "EVFsBW0jGYJt",
        "colab_type": "code",
        "colab": {}
      },
      "source": [
        "# concatenate along the specific axis (zero-indexed)\n",
        "np.concatenate([grid, grid], axis=0)"
      ],
      "execution_count": 0,
      "outputs": []
    },
    {
      "cell_type": "code",
      "metadata": {
        "id": "ZpjF6YrWGNeS",
        "colab_type": "code",
        "colab": {}
      },
      "source": [
        "# concatenate along the second axis (zero-indexed)\n",
        "np.concatenate([grid, grid], axis=1)"
      ],
      "execution_count": 0,
      "outputs": []
    },
    {
      "cell_type": "code",
      "metadata": {
        "id": "qpjnHRAjGOwK",
        "colab_type": "code",
        "colab": {}
      },
      "source": [
        "x = np.array([1, 2, 3])\n",
        "grid = np.array([[9, 8, 7],\n",
        "                 [6, 5, 4]])\n",
        "\n",
        "# vertically stack the arrays\n",
        "np.vstack([x, grid])"
      ],
      "execution_count": 0,
      "outputs": []
    },
    {
      "cell_type": "code",
      "metadata": {
        "id": "Y4TOPWTEGRJS",
        "colab_type": "code",
        "colab": {}
      },
      "source": [
        "# horizontally stack the arrays\n",
        "y = np.array([[99],\n",
        "              [99]])\n",
        "np.hstack([grid, y])"
      ],
      "execution_count": 0,
      "outputs": []
    },
    {
      "cell_type": "markdown",
      "metadata": {
        "id": "G4iapvh3GfNB",
        "colab_type": "text"
      },
      "source": [
        "## Array 나누기"
      ]
    },
    {
      "cell_type": "code",
      "metadata": {
        "id": "zXKrRiMXGej7",
        "colab_type": "code",
        "colab": {}
      },
      "source": [
        "x = [1, 2, 3, 99, 99, 3, 2, 1]\n",
        "x1, x2, x3 = np.split(x, [3, 5])\n",
        "print(x1, x2, x3)"
      ],
      "execution_count": 0,
      "outputs": []
    },
    {
      "cell_type": "code",
      "metadata": {
        "id": "KeK3MBoZGdWv",
        "colab_type": "code",
        "colab": {}
      },
      "source": [
        "grid = np.arange(16).reshape((4, 4))\n",
        "grid"
      ],
      "execution_count": 0,
      "outputs": []
    },
    {
      "cell_type": "code",
      "metadata": {
        "id": "NwdSqthPGnPj",
        "colab_type": "code",
        "colab": {}
      },
      "source": [
        "upper, lower = np.vsplit(grid, [2])\n",
        "print(upper)\n",
        "print(lower)"
      ],
      "execution_count": 0,
      "outputs": []
    },
    {
      "cell_type": "code",
      "metadata": {
        "id": "K-CIQEtzGoMD",
        "colab_type": "code",
        "colab": {}
      },
      "source": [
        "left, right = np.hsplit(grid, [2])\n",
        "print(left)\n",
        "print(right)"
      ],
      "execution_count": 0,
      "outputs": []
    },
    {
      "cell_type": "markdown",
      "metadata": {
        "colab_type": "text",
        "id": "xSP2r2U_hB9m"
      },
      "source": [
        "# Numpy Array 연산"
      ]
    },
    {
      "cell_type": "markdown",
      "metadata": {
        "id": "SAVS5LUKMM0P",
        "colab_type": "text"
      },
      "source": [
        "## 반복문 속도"
      ]
    },
    {
      "cell_type": "markdown",
      "metadata": {
        "id": "9Q0bZaIcPr_d",
        "colab_type": "text"
      },
      "source": [
        "* Python의 기본 연산은 느리게 작동함\n",
        "* C언어에서와 같이 반복문을 작성할 수는 있으나, 그 경우 연산 속도가 느림"
      ]
    },
    {
      "cell_type": "code",
      "metadata": {
        "id": "zOqodkw1IFB4",
        "colab_type": "code",
        "colab": {}
      },
      "source": [
        "import numpy as np\n",
        "np.random.seed(0)\n",
        "\n",
        "def compute_reciprocals(values):\n",
        "    output = np.empty(len(values))\n",
        "    for i in range(len(values)):\n",
        "        output[i] = 1.0 / values[i]\n",
        "    return output\n",
        "        \n",
        "values = np.random.randint(1, 10, size=5)\n",
        "compute_reciprocals(values)"
      ],
      "execution_count": 0,
      "outputs": []
    },
    {
      "cell_type": "markdown",
      "metadata": {
        "id": "6hHXBZX8Mh6e",
        "colab_type": "text"
      },
      "source": [
        "* ```%timeit```을 통해 연산시간을 특정할 수 있음\n",
        "\n"
      ]
    },
    {
      "cell_type": "code",
      "metadata": {
        "id": "TIV7MFmuMV1V",
        "colab_type": "code",
        "colab": {}
      },
      "source": [
        "big_array = np.random.randint(1, 100, size=1000000)\n",
        "%timeit compute_reciprocals(big_array)"
      ],
      "execution_count": 0,
      "outputs": []
    },
    {
      "cell_type": "markdown",
      "metadata": {
        "id": "xNpGjUeeM5BT",
        "colab_type": "text"
      },
      "source": [
        "## UFuncs"
      ]
    },
    {
      "cell_type": "markdown",
      "metadata": {
        "id": "avkNzfoBOMJN",
        "colab_type": "text"
      },
      "source": [
        "* Numpy에서는 Vectorized operation을 지원함"
      ]
    },
    {
      "cell_type": "code",
      "metadata": {
        "id": "iIDJSFv7MiR9",
        "colab_type": "code",
        "colab": {}
      },
      "source": [
        "print(compute_reciprocals(values))\n",
        "print(1.0 / values)"
      ],
      "execution_count": 0,
      "outputs": []
    },
    {
      "cell_type": "code",
      "metadata": {
        "id": "rBfYd6w5OUPF",
        "colab_type": "code",
        "colab": {}
      },
      "source": [
        "%timeit (1.0 / big_array)"
      ],
      "execution_count": 0,
      "outputs": []
    },
    {
      "cell_type": "code",
      "metadata": {
        "id": "C2nYwBHOOXmd",
        "colab_type": "code",
        "colab": {}
      },
      "source": [
        "x1 = np.arange(5) \n",
        "x2 = np.arange(1, 6)\n",
        "x3 = x1 / x2\n",
        "print(x1)\n",
        "print(x2)\n",
        "print(x3)"
      ],
      "execution_count": 0,
      "outputs": []
    },
    {
      "cell_type": "code",
      "metadata": {
        "id": "1LJJWM_EOlzd",
        "colab_type": "code",
        "colab": {}
      },
      "source": [
        "x = np.arange(9).reshape((3, 3))\n",
        "2 ** x"
      ],
      "execution_count": 0,
      "outputs": []
    },
    {
      "cell_type": "markdown",
      "metadata": {
        "id": "jXJSk3U1O0rk",
        "colab_type": "text"
      },
      "source": [
        "* Array 대수 연산"
      ]
    },
    {
      "cell_type": "code",
      "metadata": {
        "id": "zCA3A9lGOyK9",
        "colab_type": "code",
        "colab": {}
      },
      "source": [
        "x = np.arange(4)\n",
        "print(\"x     =\", x)\n",
        "print(\"x + 5 =\", x + 5)\n",
        "print(\"x - 5 =\", x - 5)\n",
        "print(\"x * 2 =\", x * 2)\n",
        "print(\"x / 2 =\", x / 2)\n",
        "print(\"x // 2 =\", x // 2)  # floor division\n",
        "print(\"-x     = \", -x)\n",
        "print(\"x ** 2 = \", x ** 2)\n",
        "print(\"x % 2  = \", x % 2)"
      ],
      "execution_count": 0,
      "outputs": []
    },
    {
      "cell_type": "code",
      "metadata": {
        "id": "eXJpE3LLO7Pd",
        "colab_type": "code",
        "colab": {}
      },
      "source": [
        "-(0.5*x + 1) ** 2"
      ],
      "execution_count": 0,
      "outputs": []
    },
    {
      "cell_type": "code",
      "metadata": {
        "id": "1bpUXjUFO9Pt",
        "colab_type": "code",
        "colab": {}
      },
      "source": [
        "np.add(x, 2)"
      ],
      "execution_count": 0,
      "outputs": []
    },
    {
      "cell_type": "markdown",
      "metadata": {
        "id": "4Iaoq9qpPHwR",
        "colab_type": "text"
      },
      "source": [
        "* **Operator Equivalent ufunc**\n",
        " * ''' + '''\tnp.add\tAddition (e.g., 1 + 1 = 2)\n",
        " * ''' - '''\tnp.subtract\tSubtraction (e.g., 3 - 2 = 1)\n",
        " * ''' - '''\tnp.negative\tUnary negation (e.g., -2)\n",
        " * ''' * '''\tnp.multiply\tMultiplication (e.g., 2 * 3 = 6)\n",
        " * ''' / '''\tnp.divide\tDivision (e.g., 3 / 2 = 1.5)\n",
        " * ''' // '''\tnp.floor_divide\tFloor division (e.g., 3 // 2 = 1)\n",
        " * ''' ** '''\tnp.power\tExponentiation (e.g., 2 ** 3 = 8)\n",
        " * ''' % '''\tnp.mod\tModulus/remainder (e.g., 9 % 4 = 1)"
      ]
    },
    {
      "cell_type": "markdown",
      "metadata": {
        "id": "eJYLgaHKPjMA",
        "colab_type": "text"
      },
      "source": [
        "* 절댓값"
      ]
    },
    {
      "cell_type": "code",
      "metadata": {
        "id": "ob4CJH1VPFMV",
        "colab_type": "code",
        "colab": {}
      },
      "source": [
        "x = np.array([-2, -1, 0, 1, 2])\n",
        "abs(x)"
      ],
      "execution_count": 0,
      "outputs": []
    },
    {
      "cell_type": "code",
      "metadata": {
        "id": "-cFiRoPtPxze",
        "colab_type": "code",
        "colab": {}
      },
      "source": [
        "np.absolute(x)"
      ],
      "execution_count": 0,
      "outputs": []
    },
    {
      "cell_type": "code",
      "metadata": {
        "id": "nl2K3GEvP0h-",
        "colab_type": "code",
        "colab": {}
      },
      "source": [
        "np.abs(x)"
      ],
      "execution_count": 0,
      "outputs": []
    },
    {
      "cell_type": "markdown",
      "metadata": {
        "id": "TYYujWCvP4_y",
        "colab_type": "text"
      },
      "source": [
        "* ufunc는 복소수도 다룰 수 있음"
      ]
    },
    {
      "cell_type": "code",
      "metadata": {
        "id": "8OFOO93sP2oF",
        "colab_type": "code",
        "colab": {}
      },
      "source": [
        "x = np.array([3 - 4j, 4 - 3j, 2 + 0j, 0 + 1j])\n",
        "np.abs(x)"
      ],
      "execution_count": 0,
      "outputs": []
    },
    {
      "cell_type": "markdown",
      "metadata": {
        "id": "E9x5ISCDP-nh",
        "colab_type": "text"
      },
      "source": [
        "* 삼각함수"
      ]
    },
    {
      "cell_type": "code",
      "metadata": {
        "id": "whXwKQvIP9dV",
        "colab_type": "code",
        "colab": {}
      },
      "source": [
        "theta = np.linspace(0, np.pi, 3)"
      ],
      "execution_count": 0,
      "outputs": []
    },
    {
      "cell_type": "code",
      "metadata": {
        "id": "tItddPMOQA6-",
        "colab_type": "code",
        "colab": {}
      },
      "source": [
        "print(\"theta      = \", theta)\n",
        "print(\"sin(theta) = \", np.sin(theta))\n",
        "print(\"cos(theta) = \", np.cos(theta))\n",
        "print(\"tan(theta) = \", np.tan(theta))"
      ],
      "execution_count": 0,
      "outputs": []
    },
    {
      "cell_type": "code",
      "metadata": {
        "id": "4duGNfVHQB8n",
        "colab_type": "code",
        "colab": {}
      },
      "source": [
        "x = [-1, 0, 1]\n",
        "print(\"x         = \", x)\n",
        "print(\"arcsin(x) = \", np.arcsin(x))\n",
        "print(\"arccos(x) = \", np.arccos(x))\n",
        "print(\"arctan(x) = \", np.arctan(x))"
      ],
      "execution_count": 0,
      "outputs": []
    },
    {
      "cell_type": "markdown",
      "metadata": {
        "id": "CKNAW4dPQngy",
        "colab_type": "text"
      },
      "source": [
        "* 지수함수와 로그"
      ]
    },
    {
      "cell_type": "code",
      "metadata": {
        "id": "Rczblk5iQmCN",
        "colab_type": "code",
        "colab": {}
      },
      "source": [
        "x = [1, 2, 3]\n",
        "print(\"x     =\", x)\n",
        "print(\"e^x   =\", np.exp(x))\n",
        "print(\"2^x   =\", np.exp2(x))\n",
        "print(\"3^x   =\", np.power(3, x))"
      ],
      "execution_count": 0,
      "outputs": []
    },
    {
      "cell_type": "code",
      "metadata": {
        "id": "hV_2CFm1QrDN",
        "colab_type": "code",
        "colab": {}
      },
      "source": [
        "x = [1, 2, 4, 10]\n",
        "print(\"x        =\", x)\n",
        "print(\"ln(x)    =\", np.log(x))\n",
        "print(\"log2(x)  =\", np.log2(x))\n",
        "print(\"log10(x) =\", np.log10(x))"
      ],
      "execution_count": 0,
      "outputs": []
    },
    {
      "cell_type": "code",
      "metadata": {
        "id": "U67Kf4hpQsTl",
        "colab_type": "code",
        "colab": {}
      },
      "source": [
        "x = [0, 0.001, 0.01, 0.1]\n",
        "print(\"exp(x) - 1 =\", np.expm1(x))\n",
        "print(\"log(1 + x) =\", np.log1p(x))"
      ],
      "execution_count": 0,
      "outputs": []
    },
    {
      "cell_type": "markdown",
      "metadata": {
        "colab_type": "text",
        "id": "UFE7QkYOg9tT"
      },
      "source": [
        "# 기타 참고 자료\n",
        "* https://jakevdp.github.io/PythonDataScienceHandbook/index.html"
      ]
    },
    {
      "cell_type": "markdown",
      "metadata": {
        "id": "glyOrVRjdAkj",
        "colab_type": "text"
      },
      "source": [
        "# 과제\n",
        "## 3번\n",
        "* 파일 - 새 Python3 노트를 통해 새 노트북을 만드시오.\n",
        "* Numpy를 활용하여 반복문을 사용하지 않고 구구단을 출력하는 함수를 만드시오.\n",
        " * 입력은 하나의 정수를 받으며, 출력은 해당 정수의 구구단을 한 줄로 출력함.\n",
        "* 파일 - Github에 사본 저장을 통해 1번 과제에서 복사한 저장소에 아래와 같은 이름으로 저장하시오.\n",
        " * 열유체공학실험-2016201278-HW03\n",
        " * 다른 제목인 경우 미제출 처리 될 수 있음."
      ]
    }
  ]
}