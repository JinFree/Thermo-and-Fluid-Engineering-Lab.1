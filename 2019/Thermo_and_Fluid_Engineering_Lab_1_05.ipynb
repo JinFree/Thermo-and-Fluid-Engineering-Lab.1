{
  "nbformat": 4,
  "nbformat_minor": 0,
  "metadata": {
    "colab": {
      "name": "Thermo_and_Fluid_Engineering_Lab_1_05.ipynb",
      "version": "0.3.2",
      "provenance": [],
      "toc_visible": true,
      "include_colab_link": true
    },
    "kernelspec": {
      "name": "python3",
      "display_name": "Python 3"
    }
  },
  "cells": [
    {
      "cell_type": "markdown",
      "metadata": {
        "id": "view-in-github",
        "colab_type": "text"
      },
      "source": [
        "<a href=\"https://colab.research.google.com/github/JinFree/Thermo-and-Fluid-Engineering-Lab.1/blob/master/Thermo_and_Fluid_Engineering_Lab_1_05.ipynb\" target=\"_parent\"><img src=\"https://colab.research.google.com/assets/colab-badge.svg\" alt=\"Open In Colab\"/></a>"
      ]
    },
    {
      "cell_type": "markdown",
      "metadata": {
        "id": "QcjNWcVc8bv7",
        "colab_type": "text"
      },
      "source": [
        "# Matplotlib"
      ]
    },
    {
      "cell_type": "markdown",
      "metadata": {
        "id": "A25s3jU8bcLn",
        "colab_type": "text"
      },
      "source": [
        "## Matplotlib Import"
      ]
    },
    {
      "cell_type": "code",
      "metadata": {
        "id": "Q3RDE5spbamJ",
        "colab_type": "code",
        "colab": {}
      },
      "source": [
        "import matplotlib as mpl\n",
        "import matplotlib.pyplot as plt"
      ],
      "execution_count": 0,
      "outputs": []
    },
    {
      "cell_type": "markdown",
      "metadata": {
        "id": "wkHnLblZbddQ",
        "colab_type": "text"
      },
      "source": [
        "* Style Setting"
      ]
    },
    {
      "cell_type": "code",
      "metadata": {
        "id": "G7aF0LqbbgR3",
        "colab_type": "code",
        "colab": {}
      },
      "source": [
        "plt.style.use('classic')"
      ],
      "execution_count": 0,
      "outputs": []
    },
    {
      "cell_type": "markdown",
      "metadata": {
        "id": "NYVIzEAAueev",
        "colab_type": "text"
      },
      "source": [
        "* ipynb 상에서 출력을 보기 위한 명령행"
      ]
    },
    {
      "cell_type": "code",
      "metadata": {
        "id": "WvSPMBZVuiQZ",
        "colab_type": "code",
        "colab": {}
      },
      "source": [
        "%matplotlib inline"
      ],
      "execution_count": 0,
      "outputs": []
    },
    {
      "cell_type": "markdown",
      "metadata": {
        "id": "x9fN_NVtuIya",
        "colab_type": "text"
      },
      "source": [
        "### 스크립트 내에서 Plotting"
      ]
    },
    {
      "cell_type": "code",
      "metadata": {
        "id": "T7ta2HUTuP41",
        "colab_type": "code",
        "colab": {}
      },
      "source": [
        "import matplotlib.pyplot as plt\n",
        "import numpy as np\n",
        "\n",
        "x = np.linspace(0, 10, 100)\n",
        "\n",
        "plt.plot(x, np.sin(x))\n",
        "plt.plot(x, np.cos(x))\n",
        "\n",
        "plt.show()"
      ],
      "execution_count": 0,
      "outputs": []
    },
    {
      "cell_type": "code",
      "metadata": {
        "id": "aBMhi8McumTi",
        "colab_type": "code",
        "colab": {}
      },
      "source": [
        "import numpy as np\n",
        "x = np.linspace(0, 10, 100)\n",
        "\n",
        "fig = plt.figure()\n",
        "plt.plot(x, np.sin(x), '-')\n",
        "plt.plot(x, np.cos(x), '--');"
      ],
      "execution_count": 0,
      "outputs": []
    },
    {
      "cell_type": "markdown",
      "metadata": {
        "id": "-b31siWeuPYr",
        "colab_type": "text"
      },
      "source": [
        "### Figure를 File로 저장하는 방법\n",
        "* savefig()"
      ]
    },
    {
      "cell_type": "code",
      "metadata": {
        "id": "xLV1nbXUuwF9",
        "colab_type": "code",
        "colab": {}
      },
      "source": [
        "fig.savefig('my_figure.png')"
      ],
      "execution_count": 0,
      "outputs": []
    },
    {
      "cell_type": "markdown",
      "metadata": {
        "id": "wLGXCDg-uzbW",
        "colab_type": "text"
      },
      "source": [
        "* 위 코드 실행 시 \"파일\"탭을 통해 현 위치에 이미지파일이 생성된 것을 확인할 수 있음."
      ]
    },
    {
      "cell_type": "code",
      "metadata": {
        "id": "1iV81Ji2u6fA",
        "colab_type": "code",
        "colab": {}
      },
      "source": [
        "!ls -lh my_figure.png"
      ],
      "execution_count": 0,
      "outputs": []
    },
    {
      "cell_type": "markdown",
      "metadata": {
        "id": "-IUbw28vvAIS",
        "colab_type": "text"
      },
      "source": [
        "## Plot을 위한 Interface"
      ]
    },
    {
      "cell_type": "markdown",
      "metadata": {
        "id": "aBLATU0jvII-",
        "colab_type": "text"
      },
      "source": [
        "### Matlab 스타일"
      ]
    },
    {
      "cell_type": "code",
      "metadata": {
        "id": "WmuRaPjevLz1",
        "colab_type": "code",
        "colab": {}
      },
      "source": [
        "plt.figure()  # create a plot figure\n",
        "\n",
        "# create the first of two panels and set current axis\n",
        "plt.subplot(2, 1, 1) # (rows, columns, panel number)\n",
        "plt.plot(x, np.sin(x))\n",
        "\n",
        "# create the second panel and set current axis\n",
        "plt.subplot(2, 1, 2)\n",
        "plt.plot(x, np.cos(x));"
      ],
      "execution_count": 0,
      "outputs": []
    },
    {
      "cell_type": "markdown",
      "metadata": {
        "id": "ZKusHyi1vOs6",
        "colab_type": "text"
      },
      "source": [
        "### Python 스타일"
      ]
    },
    {
      "cell_type": "code",
      "metadata": {
        "id": "kyFUrSPPvQjx",
        "colab_type": "code",
        "colab": {}
      },
      "source": [
        "# First create a grid of plots\n",
        "# ax will be an array of two Axes objects\n",
        "fig, ax = plt.subplots(2)\n",
        "\n",
        "# Call plot() method on the appropriate object\n",
        "ax[0].plot(x, np.sin(x))\n",
        "ax[1].plot(x, np.cos(x));"
      ],
      "execution_count": 0,
      "outputs": []
    },
    {
      "cell_type": "markdown",
      "metadata": {
        "id": "O_2fUmVPvWnh",
        "colab_type": "text"
      },
      "source": [
        "# Line Plots"
      ]
    },
    {
      "cell_type": "markdown",
      "metadata": {
        "id": "Y4jNlr7HvckP",
        "colab_type": "text"
      },
      "source": [
        "* 기본적인 y = f(x) 형태의 함수를 출력하는 방법 실습"
      ]
    },
    {
      "cell_type": "code",
      "metadata": {
        "id": "1WF5VttcvbRe",
        "colab_type": "code",
        "colab": {}
      },
      "source": [
        "%matplotlib inline\n",
        "import matplotlib.pyplot as plt\n",
        "plt.style.use('seaborn-whitegrid')\n",
        "import numpy as np"
      ],
      "execution_count": 0,
      "outputs": []
    },
    {
      "cell_type": "markdown",
      "metadata": {
        "id": "ZdxZvfjTvjPJ",
        "colab_type": "text"
      },
      "source": [
        "* 모든 Matplotlib에서의 plot은 figure와 axex를 생성하는 것으로 plotting을 시작할 수 있음."
      ]
    },
    {
      "cell_type": "code",
      "metadata": {
        "id": "1UttMOZ9viUe",
        "colab_type": "code",
        "colab": {}
      },
      "source": [
        "fig = plt.figure()\n",
        "ax = plt.axes()"
      ],
      "execution_count": 0,
      "outputs": []
    },
    {
      "cell_type": "code",
      "metadata": {
        "id": "i4l--qLDv8V0",
        "colab_type": "code",
        "colab": {}
      },
      "source": [
        "fig = plt.figure()\n",
        "ax = plt.axes()\n",
        "\n",
        "x = np.linspace(0, 10, 1000)\n",
        "ax.plot(x, np.sin(x));"
      ],
      "execution_count": 0,
      "outputs": []
    },
    {
      "cell_type": "code",
      "metadata": {
        "id": "1Q3X2n7Pv_mT",
        "colab_type": "code",
        "colab": {}
      },
      "source": [
        "plt.plot(x, np.sin(x));"
      ],
      "execution_count": 0,
      "outputs": []
    },
    {
      "cell_type": "markdown",
      "metadata": {
        "id": "vGK-jHh9wJGW",
        "colab_type": "text"
      },
      "source": [
        "* 만약 하나의 figure로 여러개의 선을 그리고자 하는 경우 아래와 같이 사용할 수 있음"
      ]
    },
    {
      "cell_type": "code",
      "metadata": {
        "id": "wysEPBEnwN1B",
        "colab_type": "code",
        "colab": {}
      },
      "source": [
        "plt.plot(x, np.sin(x))\n",
        "plt.plot(x, np.cos(x));"
      ],
      "execution_count": 0,
      "outputs": []
    },
    {
      "cell_type": "markdown",
      "metadata": {
        "id": "V3JTy9TKwP5U",
        "colab_type": "text"
      },
      "source": [
        "## Plot 조정: 선 색과 선 스타일"
      ]
    },
    {
      "cell_type": "markdown",
      "metadata": {
        "id": "00b4I4EtwVye",
        "colab_type": "text"
      },
      "source": [
        "* 선의 색을 조정하는 다양한 방법은 아래와 같음"
      ]
    },
    {
      "cell_type": "code",
      "metadata": {
        "id": "_J0-4tAmwZjL",
        "colab_type": "code",
        "colab": {}
      },
      "source": [
        "plt.plot(x, np.sin(x - 0), color='blue')        # specify color by name\n",
        "plt.plot(x, np.sin(x - 1), color='g')           # short color code (rgbcmyk)\n",
        "plt.plot(x, np.sin(x - 2), color='0.75')        # Grayscale between 0 and 1\n",
        "plt.plot(x, np.sin(x - 3), color='#FFDD44')     # Hex code (RRGGBB from 00 to FF)\n",
        "plt.plot(x, np.sin(x - 4), color=(1.0,0.2,0.3)) # RGB tuple, values 0 to 1\n",
        "plt.plot(x, np.sin(x - 5), color='chartreuse'); # all HTML color names supported"
      ],
      "execution_count": 0,
      "outputs": []
    },
    {
      "cell_type": "markdown",
      "metadata": {
        "id": "xoBPKprlwd-C",
        "colab_type": "text"
      },
      "source": [
        "* 선의 스타일을 조정하는 다양한 방법은 아래와 같음"
      ]
    },
    {
      "cell_type": "code",
      "metadata": {
        "id": "i_XChtL4whpW",
        "colab_type": "code",
        "colab": {}
      },
      "source": [
        "plt.plot(x, x + 0, linestyle='solid')\n",
        "plt.plot(x, x + 1, linestyle='dashed')\n",
        "plt.plot(x, x + 2, linestyle='dashdot')\n",
        "plt.plot(x, x + 3, linestyle='dotted');\n",
        "\n",
        "# For short, you can use the following codes:\n",
        "plt.plot(x, x + 4, linestyle='-')  # solid\n",
        "plt.plot(x, x + 5, linestyle='--') # dashed\n",
        "plt.plot(x, x + 6, linestyle='-.') # dashdot\n",
        "plt.plot(x, x + 7, linestyle=':');  # dotted"
      ],
      "execution_count": 0,
      "outputs": []
    },
    {
      "cell_type": "markdown",
      "metadata": {
        "id": "TqO3RCGKwlYY",
        "colab_type": "text"
      },
      "source": [
        "* 선의 색과 스타일 모두를 동시에 조정하는 방법은 아래와 같음"
      ]
    },
    {
      "cell_type": "code",
      "metadata": {
        "id": "CPM87S_ywpqv",
        "colab_type": "code",
        "colab": {}
      },
      "source": [
        "plt.plot(x, x + 0, '-g')  # solid green\n",
        "plt.plot(x, x + 1, '--c') # dashed cyan\n",
        "plt.plot(x, x + 2, '-.k') # dashdot black\n",
        "plt.plot(x, x + 3, ':r');  # dotted red"
      ],
      "execution_count": 0,
      "outputs": []
    },
    {
      "cell_type": "markdown",
      "metadata": {
        "id": "XDxhXB5RwsIJ",
        "colab_type": "text"
      },
      "source": [
        "## Plot에서 축 조절"
      ]
    },
    {
      "cell_type": "markdown",
      "metadata": {
        "id": "MWQ38NfBwwDY",
        "colab_type": "text"
      },
      "source": [
        "* plot은 기본적으로 데이터가 존재하는 영역만큼만 딱 맞게 나오나, 해당 영역을 조절할 수 있음"
      ]
    },
    {
      "cell_type": "code",
      "metadata": {
        "id": "b3-j5k09w1_S",
        "colab_type": "code",
        "colab": {}
      },
      "source": [
        "plt.plot(x, np.sin(x))\n",
        "\n",
        "plt.xlim(-1, 11)\n",
        "plt.ylim(-1.5, 1.5);"
      ],
      "execution_count": 0,
      "outputs": []
    },
    {
      "cell_type": "markdown",
      "metadata": {
        "id": "tFZN--8jw5IS",
        "colab_type": "text"
      },
      "source": [
        "* 만약 plot axis를 거꾸로 보이고자 하는 경우 아래와 같이 사용할 수 있음."
      ]
    },
    {
      "cell_type": "code",
      "metadata": {
        "id": "S-5EoCEEw_qY",
        "colab_type": "code",
        "colab": {}
      },
      "source": [
        "plt.plot(x, np.sin(x))\n",
        "\n",
        "plt.xlim(10, 0)\n",
        "plt.ylim(1.2, -1.2);"
      ],
      "execution_count": 0,
      "outputs": []
    },
    {
      "cell_type": "markdown",
      "metadata": {
        "id": "z_GrQCtYxDO6",
        "colab_type": "text"
      },
      "source": [
        "* xlim과 ylim을 사용하지 않고 아래와 같이 한 줄로도 표현할 수 있음"
      ]
    },
    {
      "cell_type": "code",
      "metadata": {
        "id": "FmXYMCw8xHH7",
        "colab_type": "code",
        "colab": {}
      },
      "source": [
        "plt.plot(x, np.sin(x))\n",
        "plt.axis([-1, 11, -1.5, 1.5]);"
      ],
      "execution_count": 0,
      "outputs": []
    },
    {
      "cell_type": "markdown",
      "metadata": {
        "id": "7p55ZJTpxJr8",
        "colab_type": "text"
      },
      "source": [
        "* 다시 데이터가 존재하는 영역만 표현하고자 하는 경우 아래와 같이 표현할 수 있음."
      ]
    },
    {
      "cell_type": "code",
      "metadata": {
        "id": "DNPYpkjfxPQv",
        "colab_type": "code",
        "colab": {}
      },
      "source": [
        "plt.plot(x, np.sin(x))\n",
        "plt.axis('tight');"
      ],
      "execution_count": 0,
      "outputs": []
    },
    {
      "cell_type": "markdown",
      "metadata": {
        "id": "ctOnX2QTxRTo",
        "colab_type": "text"
      },
      "source": [
        "* 데이터의 가로축과 세로축의 격자간격을 동일하게 보고자 하는 경우 아래와 같이 표현할 수 있음."
      ]
    },
    {
      "cell_type": "code",
      "metadata": {
        "id": "tad6BIaexeRe",
        "colab_type": "code",
        "colab": {}
      },
      "source": [
        "plt.plot(x, np.sin(x))\n",
        "plt.axis('equal');"
      ],
      "execution_count": 0,
      "outputs": []
    },
    {
      "cell_type": "markdown",
      "metadata": {
        "id": "6487Ohd0xf_L",
        "colab_type": "text"
      },
      "source": [
        "## Plot labeling"
      ]
    },
    {
      "cell_type": "markdown",
      "metadata": {
        "id": "tHqejvnnxoCx",
        "colab_type": "text"
      },
      "source": [
        "* Plot에 제목을 붙이고 각 축 별 이름을 붙이는 경우 아래와 같이 활용할 수 있음."
      ]
    },
    {
      "cell_type": "code",
      "metadata": {
        "id": "epUyLQyJxu1_",
        "colab_type": "code",
        "colab": {}
      },
      "source": [
        "plt.plot(x, np.sin(x))\n",
        "plt.title(\"A Sine Curve\")\n",
        "plt.xlabel(\"x\")\n",
        "plt.ylabel(\"sin(x)\");"
      ],
      "execution_count": 0,
      "outputs": []
    },
    {
      "cell_type": "markdown",
      "metadata": {
        "id": "NXxEBQIQxy24",
        "colab_type": "text"
      },
      "source": [
        "* Plot 내 개별 선에 제목을 붙이고 범례를 표현하고자 하는 경우 아래와 같이 할 수 있음"
      ]
    },
    {
      "cell_type": "code",
      "metadata": {
        "id": "jE6W2vKSx4QO",
        "colab_type": "code",
        "colab": {}
      },
      "source": [
        "plt.plot(x, np.sin(x), '-g', label='sin(x)')\n",
        "plt.plot(x, np.cos(x), ':b', label='cos(x)')\n",
        "plt.axis('equal')\n",
        "\n",
        "plt.legend();"
      ],
      "execution_count": 0,
      "outputs": []
    },
    {
      "cell_type": "markdown",
      "metadata": {
        "id": "uoGuk3vex-kL",
        "colab_type": "text"
      },
      "source": [
        "# Scatter plots"
      ]
    },
    {
      "cell_type": "code",
      "metadata": {
        "id": "eS74qxJJyBy1",
        "colab_type": "code",
        "colab": {}
      },
      "source": [
        "%matplotlib inline\n",
        "import matplotlib.pyplot as plt\n",
        "plt.style.use('seaborn-whitegrid')\n",
        "import numpy as np"
      ],
      "execution_count": 0,
      "outputs": []
    },
    {
      "cell_type": "markdown",
      "metadata": {
        "id": "_C8VW4BryDCL",
        "colab_type": "text"
      },
      "source": [
        "## plt.plot을 활용한 scatter plots"
      ]
    },
    {
      "cell_type": "code",
      "metadata": {
        "id": "WzCIqCOFyGqY",
        "colab_type": "code",
        "colab": {}
      },
      "source": [
        "x = np.linspace(0, 10, 30)\n",
        "y = np.sin(x)\n",
        "\n",
        "plt.plot(x, y, 'o', color='black');"
      ],
      "execution_count": 0,
      "outputs": []
    },
    {
      "cell_type": "markdown",
      "metadata": {
        "id": "UYucMY3ayesj",
        "colab_type": "text"
      },
      "source": [
        "* plot의 세 번째 인자를 통해 scatter plot과 line plot중 어떤 것을 할 것인지 정할 수 있음."
      ]
    },
    {
      "cell_type": "code",
      "metadata": {
        "id": "AxvQ3eNmyXFu",
        "colab_type": "code",
        "colab": {}
      },
      "source": [
        "rng = np.random.RandomState(0)\n",
        "for marker in ['o', '.', ',', 'x', '+', 'v', '^', '<', '>', 's', 'd']:\n",
        "    plt.plot(rng.rand(5), rng.rand(5), marker,\n",
        "             label=\"marker='{0}'\".format(marker))\n",
        "plt.legend(numpoints=1)\n",
        "plt.xlim(0, 1.8);"
      ],
      "execution_count": 0,
      "outputs": []
    },
    {
      "cell_type": "markdown",
      "metadata": {
        "id": "j5titYN8yKPj",
        "colab_type": "text"
      },
      "source": [
        "* scatter plot과 line plot을 동시에 하는 방법은 아래와 같음"
      ]
    },
    {
      "cell_type": "code",
      "metadata": {
        "id": "8LrhT7EYyqgR",
        "colab_type": "code",
        "colab": {}
      },
      "source": [
        "plt.plot(x, y, '-ok');"
      ],
      "execution_count": 0,
      "outputs": []
    },
    {
      "cell_type": "markdown",
      "metadata": {
        "id": "qfyrTRorys9r",
        "colab_type": "text"
      },
      "source": [
        "* plot에 아래와 같이 다양한 설정 방법이 있음"
      ]
    },
    {
      "cell_type": "code",
      "metadata": {
        "id": "h6voOP32yw_9",
        "colab_type": "code",
        "colab": {}
      },
      "source": [
        "plt.plot(x, y, '-p', color='gray',\n",
        "         markersize=15, linewidth=4,\n",
        "         markerfacecolor='white',\n",
        "         markeredgecolor='gray',\n",
        "         markeredgewidth=2)\n",
        "plt.ylim(-1.2, 1.2);"
      ],
      "execution_count": 0,
      "outputs": []
    },
    {
      "cell_type": "markdown",
      "metadata": {
        "id": "i9PMiUC3yyzC",
        "colab_type": "text"
      },
      "source": [
        "## plt.scatter를 활용한 scatter plots"
      ]
    },
    {
      "cell_type": "code",
      "metadata": {
        "id": "BnJkBmHny3bM",
        "colab_type": "code",
        "colab": {}
      },
      "source": [
        "plt.scatter(x, y, marker='o');"
      ],
      "execution_count": 0,
      "outputs": []
    },
    {
      "cell_type": "markdown",
      "metadata": {
        "id": "9aScRLSRy7Cu",
        "colab_type": "text"
      },
      "source": [
        "* plt.plot와 다르게 plt.scatter는 각 점 별로 크기나 색상 등 다양한 설정을 할 수 있음"
      ]
    },
    {
      "cell_type": "code",
      "metadata": {
        "id": "E6GlVX4jzC5O",
        "colab_type": "code",
        "colab": {}
      },
      "source": [
        "rng = np.random.RandomState(0)\n",
        "x = rng.randn(100)\n",
        "y = rng.randn(100)\n",
        "colors = rng.rand(100)\n",
        "sizes = 1000 * rng.rand(100)\n",
        "\n",
        "plt.scatter(x, y, c=colors, s=sizes, alpha=0.3,\n",
        "            cmap='viridis')\n",
        "plt.colorbar();  # show color scale"
      ],
      "execution_count": 0,
      "outputs": []
    },
    {
      "cell_type": "markdown",
      "metadata": {
        "id": "g0ZipmcToXlo",
        "colab_type": "text"
      },
      "source": [
        "# Density and Contour Plots"
      ]
    },
    {
      "cell_type": "code",
      "metadata": {
        "id": "gCy6aRhrsGXC",
        "colab_type": "code",
        "colab": {}
      },
      "source": [
        "%matplotlib inline\n",
        "import matplotlib.pyplot as plt\n",
        "plt.style.use('seaborn-white')\n",
        "import numpy as np"
      ],
      "execution_count": 0,
      "outputs": []
    },
    {
      "cell_type": "markdown",
      "metadata": {
        "id": "7wqWNl-4sFhD",
        "colab_type": "text"
      },
      "source": [
        "## 3차원 함수의 Visualize"
      ]
    },
    {
      "cell_type": "markdown",
      "metadata": {
        "id": "7iktN1rZsRHP",
        "colab_type": "text"
      },
      "source": [
        "* z = f(x, y)의 등고선을 plotting을 해볼 것임."
      ]
    },
    {
      "cell_type": "code",
      "metadata": {
        "id": "H99Rn1C2sdiS",
        "colab_type": "code",
        "colab": {}
      },
      "source": [
        "def f(x, y):\n",
        "    return np.sin(x) ** 10 + np.cos(10 + y * x) * np.cos(x)"
      ],
      "execution_count": 0,
      "outputs": []
    },
    {
      "cell_type": "code",
      "metadata": {
        "id": "GETcg2iksf91",
        "colab_type": "code",
        "colab": {}
      },
      "source": [
        "x = np.linspace(0, 5, 50)\n",
        "y = np.linspace(0, 5, 40)\n",
        "\n",
        "X, Y = np.meshgrid(x, y)\n",
        "Z = f(X, Y)"
      ],
      "execution_count": 0,
      "outputs": []
    },
    {
      "cell_type": "code",
      "metadata": {
        "id": "uD2zmsqrsgyg",
        "colab_type": "code",
        "colab": {}
      },
      "source": [
        "plt.contour(X, Y, Z, colors='black');"
      ],
      "execution_count": 0,
      "outputs": []
    },
    {
      "cell_type": "markdown",
      "metadata": {
        "id": "W97dYY4oslg1",
        "colab_type": "text"
      },
      "source": [
        "* 음수는 점선으로, 양수는 실선으로 표현됨.\n",
        "* cmap 인자를 통해 색을 바꿀 수 있음\n",
        "* 아래 코드를 통해 z값을 20 간격으로 등고선을 그릴 수 있음"
      ]
    },
    {
      "cell_type": "code",
      "metadata": {
        "id": "ifiuVeduswJT",
        "colab_type": "code",
        "colab": {}
      },
      "source": [
        "plt.contour(X, Y, Z, 20, cmap='RdGy');"
      ],
      "execution_count": 0,
      "outputs": []
    },
    {
      "cell_type": "markdown",
      "metadata": {
        "id": "6OlJ7GBktLVw",
        "colab_type": "text"
      },
      "source": [
        "* 아래 plt.cm.의 마지막 .에 커서를 둔 후 탭을 누르면 matplotlib에서 등고선을 그리기 위해 활용 가능한 다양한 색 설정을 볼 수 있음"
      ]
    },
    {
      "cell_type": "code",
      "metadata": {
        "id": "cD1rx7yas_3L",
        "colab_type": "code",
        "colab": {}
      },
      "source": [
        "plt.cm."
      ],
      "execution_count": 0,
      "outputs": []
    },
    {
      "cell_type": "markdown",
      "metadata": {
        "id": "D3o2JTf6tbHf",
        "colab_type": "text"
      },
      "source": [
        "* plt.contourf()를 통해 등고선 사이에 색을 채울 수 있음\n",
        "* plt.colorbar()를 통해 값에 따른 색 범위를 볼 수 있음."
      ]
    },
    {
      "cell_type": "code",
      "metadata": {
        "id": "fOuI7wmTtaGi",
        "colab_type": "code",
        "colab": {}
      },
      "source": [
        "plt.contourf(X, Y, Z, 20, cmap='RdGy')\n",
        "plt.colorbar();"
      ],
      "execution_count": 0,
      "outputs": []
    },
    {
      "cell_type": "markdown",
      "metadata": {
        "id": "HU2FPpakt0Dh",
        "colab_type": "text"
      },
      "source": [
        "* plt.imshow()를 통해 보간되지 않은 격자 데이터의 값을 그릴 수 있음"
      ]
    },
    {
      "cell_type": "code",
      "metadata": {
        "id": "RatuuttOt4vx",
        "colab_type": "code",
        "colab": {}
      },
      "source": [
        "plt.imshow(Z, extent=[0, 5, 0, 5], origin='lower',\n",
        "           cmap='RdGy')\n",
        "plt.colorbar()\n",
        "plt.axis(aspect='image');"
      ],
      "execution_count": 0,
      "outputs": []
    },
    {
      "cell_type": "markdown",
      "metadata": {
        "id": "YMxCiFLEuh6Z",
        "colab_type": "text"
      },
      "source": [
        "* alpha를 활용하여 투명도를 조절할 수 있음.\n",
        "* plt.clabel을 통해 등고선에 값을 표현할 수 있음"
      ]
    },
    {
      "cell_type": "code",
      "metadata": {
        "id": "OoSmeLK9ufaE",
        "colab_type": "code",
        "colab": {}
      },
      "source": [
        "contours = plt.contour(X, Y, Z, 3, colors='black')\n",
        "plt.clabel(contours, inline=True, fontsize=8)\n",
        "\n",
        "plt.imshow(Z, extent=[0, 5, 0, 5], origin='lower',\n",
        "           cmap='RdGy', alpha=0.5)\n",
        "plt.colorbar();"
      ],
      "execution_count": 0,
      "outputs": []
    },
    {
      "cell_type": "markdown",
      "metadata": {
        "id": "hZjjpaguutc7",
        "colab_type": "text"
      },
      "source": [
        "# Histograms, Binnings, and Density"
      ]
    },
    {
      "cell_type": "markdown",
      "metadata": {
        "id": "dT911SPr2NDl",
        "colab_type": "text"
      },
      "source": [
        "## 1차원 히스토그램"
      ]
    },
    {
      "cell_type": "code",
      "metadata": {
        "id": "rYkJTd7_v5Fu",
        "colab_type": "code",
        "colab": {}
      },
      "source": [
        "%matplotlib inline\n",
        "import numpy as np\n",
        "import matplotlib.pyplot as plt\n",
        "plt.style.use('seaborn-white')"
      ],
      "execution_count": 0,
      "outputs": []
    },
    {
      "cell_type": "code",
      "metadata": {
        "id": "eJAW5A_Pv6z2",
        "colab_type": "code",
        "colab": {}
      },
      "source": [
        "data = np.random.randn(1000)\n",
        "plt.hist(data);"
      ],
      "execution_count": 0,
      "outputs": []
    },
    {
      "cell_type": "markdown",
      "metadata": {
        "id": "prtE-XVox6Si",
        "colab_type": "text"
      },
      "source": [
        "* hist()함수는 히스토그램을 보여주기 위한 다양한 옵션이 있음"
      ]
    },
    {
      "cell_type": "code",
      "metadata": {
        "id": "-WJPMbmAx2zX",
        "colab_type": "code",
        "colab": {}
      },
      "source": [
        "plt.hist(data, bins=30, density=True, alpha=0.5,\n",
        "         histtype='stepfilled', color='steelblue',\n",
        "         edgecolor='none');"
      ],
      "execution_count": 0,
      "outputs": []
    },
    {
      "cell_type": "markdown",
      "metadata": {
        "id": "sB7avsJ6yDdB",
        "colab_type": "text"
      },
      "source": [
        "* histype='stepfilled'와 alpha 옵션을 사용하는 경우 여러개의 히스토그램을 한번에 볼 수 있음"
      ]
    },
    {
      "cell_type": "code",
      "metadata": {
        "id": "-vvUhHRyyR3n",
        "colab_type": "code",
        "colab": {}
      },
      "source": [
        "x1 = np.random.normal(0, 0.8, 1000)\n",
        "x2 = np.random.normal(-2, 1, 1000)\n",
        "x3 = np.random.normal(3, 2, 1000)\n",
        "\n",
        "kwargs = dict(histtype='stepfilled', alpha=0.3, density=True, bins=40)\n",
        "\n",
        "plt.hist(x1, **kwargs)\n",
        "plt.hist(x2, **kwargs)\n",
        "plt.hist(x3, **kwargs);"
      ],
      "execution_count": 0,
      "outputs": []
    },
    {
      "cell_type": "markdown",
      "metadata": {
        "id": "NgFNSS7t0acZ",
        "colab_type": "text"
      },
      "source": [
        "* 단순하게 히스토그램을 계산하고자 하는 경우에는 np.histogram을 사용할 수 있음"
      ]
    },
    {
      "cell_type": "code",
      "metadata": {
        "id": "KBm7z4-x0ivC",
        "colab_type": "code",
        "colab": {}
      },
      "source": [
        "counts, bin_edges = np.histogram(data, bins=5)\n",
        "print(counts)"
      ],
      "execution_count": 0,
      "outputs": []
    },
    {
      "cell_type": "markdown",
      "metadata": {
        "id": "ttFBVhv50mgS",
        "colab_type": "text"
      },
      "source": [
        "## 2차원 히스토그램"
      ]
    },
    {
      "cell_type": "code",
      "metadata": {
        "id": "RBGKHIFn0sxb",
        "colab_type": "code",
        "colab": {}
      },
      "source": [
        "mean = [0, 0]\n",
        "cov = [[1, 1], [1, 2]]\n",
        "x, y = np.random.multivariate_normal(mean, cov, 10000).T"
      ],
      "execution_count": 0,
      "outputs": []
    },
    {
      "cell_type": "markdown",
      "metadata": {
        "id": "HtF4viUQ0px4",
        "colab_type": "text"
      },
      "source": [
        "* plt.hist2d를 통해 2차원 히스토그램을 그릴 수 있음"
      ]
    },
    {
      "cell_type": "code",
      "metadata": {
        "id": "0VrtiqeL00Wx",
        "colab_type": "code",
        "colab": {}
      },
      "source": [
        "plt.hist2d(x, y, bins=30, cmap='Blues')\n",
        "cb = plt.colorbar()\n",
        "cb.set_label('counts in bin')"
      ],
      "execution_count": 0,
      "outputs": []
    },
    {
      "cell_type": "markdown",
      "metadata": {
        "id": "holDARXX120f",
        "colab_type": "text"
      },
      "source": [
        "* plt.hist 대신 np.histogram을 쓸 수 있듯, plt.hist2d 대신 np.histogram2d를 사용할 수 있음."
      ]
    },
    {
      "cell_type": "code",
      "metadata": {
        "id": "ybf_6hWN1_zZ",
        "colab_type": "code",
        "colab": {}
      },
      "source": [
        "counts, xedges, yedges = np.histogram2d(x, y, bins=30)"
      ],
      "execution_count": 0,
      "outputs": []
    },
    {
      "cell_type": "markdown",
      "metadata": {
        "id": "3sT9-gLa2JsS",
        "colab_type": "text"
      },
      "source": [
        "### 육각 형태의 2차원 히스토그램"
      ]
    },
    {
      "cell_type": "markdown",
      "metadata": {
        "id": "pO-7D9062Wzp",
        "colab_type": "text"
      },
      "source": [
        "* plt.hexbin을 통해 사용할 수 있음"
      ]
    },
    {
      "cell_type": "code",
      "metadata": {
        "id": "bG2-iK602bHO",
        "colab_type": "code",
        "colab": {}
      },
      "source": [
        "plt.hexbin(x, y, gridsize=30, cmap='Blues')\n",
        "cb = plt.colorbar(label='count in bin')"
      ],
      "execution_count": 0,
      "outputs": []
    },
    {
      "cell_type": "markdown",
      "metadata": {
        "id": "irRA0gp52hVG",
        "colab_type": "text"
      },
      "source": [
        "# Matplotlib을 활용한 3차원 Plot"
      ]
    },
    {
      "cell_type": "markdown",
      "metadata": {
        "id": "Qxt7EsbJ2n4f",
        "colab_type": "text"
      },
      "source": [
        "* mplot3d를 임포트해야만 함"
      ]
    },
    {
      "cell_type": "code",
      "metadata": {
        "id": "8BPDtPyx2lHi",
        "colab_type": "code",
        "colab": {}
      },
      "source": [
        "from mpl_toolkits import mplot3d"
      ],
      "execution_count": 0,
      "outputs": []
    },
    {
      "cell_type": "markdown",
      "metadata": {
        "id": "rb4rU9-R2t3F",
        "colab_type": "text"
      },
      "source": [
        "* mplot3d가 임포트된 후, projection='3d' 인자를 통해 3차원 plot이 가능해짐"
      ]
    },
    {
      "cell_type": "code",
      "metadata": {
        "id": "xJqxmLD621U3",
        "colab_type": "code",
        "colab": {}
      },
      "source": [
        "%matplotlib inline\n",
        "import numpy as np\n",
        "import matplotlib.pyplot as plt"
      ],
      "execution_count": 0,
      "outputs": []
    },
    {
      "cell_type": "code",
      "metadata": {
        "id": "Mhs7-dUP228c",
        "colab_type": "code",
        "colab": {}
      },
      "source": [
        "fig = plt.figure()\n",
        "ax = plt.axes(projection='3d')"
      ],
      "execution_count": 0,
      "outputs": []
    },
    {
      "cell_type": "markdown",
      "metadata": {
        "id": "WWAL96Nt3Ydb",
        "colab_type": "text"
      },
      "source": [
        "## 3차원 점과 선 plot"
      ]
    },
    {
      "cell_type": "markdown",
      "metadata": {
        "id": "rtfYECAk4xJB",
        "colab_type": "text"
      },
      "source": [
        "* ax.plot3D와 ax.scatter3D를 활용하면 선과 점을 plotting할 수 있음"
      ]
    },
    {
      "cell_type": "code",
      "metadata": {
        "id": "pxJoIihI4zPM",
        "colab_type": "code",
        "colab": {}
      },
      "source": [
        "ax = plt.axes(projection='3d')\n",
        "\n",
        "# Data for a three-dimensional line\n",
        "zline = np.linspace(0, 15, 1000)\n",
        "xline = np.sin(zline)\n",
        "yline = np.cos(zline)\n",
        "ax.plot3D(xline, yline, zline, 'gray')\n",
        "\n",
        "# Data for three-dimensional scattered points\n",
        "zdata = 15 * np.random.random(100)\n",
        "xdata = np.sin(zdata) + 0.1 * np.random.randn(100)\n",
        "ydata = np.cos(zdata) + 0.1 * np.random.randn(100)\n",
        "ax.scatter3D(xdata, ydata, zdata, c=zdata, cmap='Greens');"
      ],
      "execution_count": 0,
      "outputs": []
    },
    {
      "cell_type": "markdown",
      "metadata": {
        "id": "PntFyvVo5eGC",
        "colab_type": "text"
      },
      "source": [
        "## 3차원 등고선 plot"
      ]
    },
    {
      "cell_type": "markdown",
      "metadata": {
        "id": "Urv3kTuV5hMI",
        "colab_type": "text"
      },
      "source": [
        "* ax.counter3D를 통해서 그릴 수 있음"
      ]
    },
    {
      "cell_type": "code",
      "metadata": {
        "id": "YXRwhRxJ5nM6",
        "colab_type": "code",
        "colab": {}
      },
      "source": [
        "def f(x, y):\n",
        "    return np.sin(np.sqrt(x ** 2 + y ** 2))\n",
        "\n",
        "x = np.linspace(-6, 6, 30)\n",
        "y = np.linspace(-6, 6, 30)\n",
        "\n",
        "X, Y = np.meshgrid(x, y)\n",
        "Z = f(X, Y)"
      ],
      "execution_count": 0,
      "outputs": []
    },
    {
      "cell_type": "code",
      "metadata": {
        "id": "CoNw35RT5nFz",
        "colab_type": "code",
        "colab": {}
      },
      "source": [
        "fig = plt.figure()\n",
        "ax = plt.axes(projection='3d')\n",
        "ax.contour3D(X, Y, Z, 50, cmap='binary')\n",
        "ax.set_xlabel('x')\n",
        "ax.set_ylabel('y')\n",
        "ax.set_zlabel('z');"
      ],
      "execution_count": 0,
      "outputs": []
    },
    {
      "cell_type": "markdown",
      "metadata": {
        "id": "YG5d5DDs5sIP",
        "colab_type": "text"
      },
      "source": [
        "* 시점을 바꾸기 위해서는 ax.view_init를 통해 바꿀 수 있음\n",
        "* 아래 코드를 통해 xy평면에서 60도 각도를 올리고 z축에서 35도 돌린 시점으로 바꾼 그래프를 그리게 됨"
      ]
    },
    {
      "cell_type": "code",
      "metadata": {
        "id": "2_pbk5Vk59fW",
        "colab_type": "code",
        "colab": {}
      },
      "source": [
        "ax.view_init(60, 35)\n",
        "fig"
      ],
      "execution_count": 0,
      "outputs": []
    },
    {
      "cell_type": "markdown",
      "metadata": {
        "id": "0Y9f8s516AZZ",
        "colab_type": "text"
      },
      "source": [
        "### Wireframe과 평면 Plot"
      ]
    },
    {
      "cell_type": "markdown",
      "metadata": {
        "id": "7sLW7t3S6KYo",
        "colab_type": "text"
      },
      "source": [
        "* Wireframe"
      ]
    },
    {
      "cell_type": "code",
      "metadata": {
        "id": "LF1jxkXv6NQf",
        "colab_type": "code",
        "colab": {}
      },
      "source": [
        "fig = plt.figure()\n",
        "ax = plt.axes(projection='3d')\n",
        "ax.plot_wireframe(X, Y, Z, color='black')\n",
        "ax.set_title('wireframe');"
      ],
      "execution_count": 0,
      "outputs": []
    },
    {
      "cell_type": "markdown",
      "metadata": {
        "id": "8lFgQWN96OuC",
        "colab_type": "text"
      },
      "source": [
        "* Surface"
      ]
    },
    {
      "cell_type": "code",
      "metadata": {
        "id": "c9HSwmgD6P_t",
        "colab_type": "code",
        "colab": {}
      },
      "source": [
        "ax = plt.axes(projection='3d')\n",
        "ax.plot_surface(X, Y, Z, rstride=1, cstride=1,\n",
        "                cmap='viridis', edgecolor='none')\n",
        "ax.set_title('surface');"
      ],
      "execution_count": 0,
      "outputs": []
    },
    {
      "cell_type": "markdown",
      "metadata": {
        "id": "VBYXadgM6SEa",
        "colab_type": "text"
      },
      "source": [
        "* 아래와 같은 방식으로 r, theta 좌표계에서 그려진 3차원 평면을 plotting할 수 있음"
      ]
    },
    {
      "cell_type": "code",
      "metadata": {
        "id": "vMLWxjty6qYW",
        "colab_type": "code",
        "colab": {}
      },
      "source": [
        "r = np.linspace(0, 6, 20)\n",
        "theta = np.linspace(-0.9 * np.pi, 0.8 * np.pi, 40)\n",
        "r, theta = np.meshgrid(r, theta)\n",
        "\n",
        "X = r * np.sin(theta)\n",
        "Y = r * np.cos(theta)\n",
        "Z = f(X, Y)\n",
        "\n",
        "ax = plt.axes(projection='3d')\n",
        "ax.plot_surface(X, Y, Z, rstride=1, cstride=1,\n",
        "                cmap='viridis', edgecolor='none');"
      ],
      "execution_count": 0,
      "outputs": []
    },
    {
      "cell_type": "markdown",
      "metadata": {
        "id": "MZPw6FbDBZoW",
        "colab_type": "text"
      },
      "source": [
        "### 다른 형태의 Plot"
      ]
    },
    {
      "cell_type": "markdown",
      "metadata": {
        "id": "yDt1rWhgBj0a",
        "colab_type": "text"
      },
      "source": [
        "* 데이터가 균일하게 있지 않고 랜덤하게 있을 때"
      ]
    },
    {
      "cell_type": "code",
      "metadata": {
        "id": "9h00qsKBBiZ0",
        "colab_type": "code",
        "colab": {}
      },
      "source": [
        "theta = 2 * np.pi * np.random.random(1000)\n",
        "r = 6 * np.random.random(1000)\n",
        "x = np.ravel(r * np.sin(theta))\n",
        "y = np.ravel(r * np.cos(theta))\n",
        "z = f(x, y)"
      ],
      "execution_count": 0,
      "outputs": []
    },
    {
      "cell_type": "code",
      "metadata": {
        "id": "F9h7EoKoBpGG",
        "colab_type": "code",
        "colab": {}
      },
      "source": [
        "ax = plt.axes(projection='3d')\n",
        "ax.scatter(x, y, z, c=z, cmap='viridis', linewidth=0.5);"
      ],
      "execution_count": 0,
      "outputs": []
    },
    {
      "cell_type": "markdown",
      "metadata": {
        "id": "nquwTtO0Brjt",
        "colab_type": "text"
      },
      "source": [
        "* 랜덤하게 분포한 데이터를 표면을 그리고자 하는 경우, ax.plot_trisurf를 사용할 수 있음"
      ]
    },
    {
      "cell_type": "code",
      "metadata": {
        "id": "726kbYXcByqI",
        "colab_type": "code",
        "colab": {}
      },
      "source": [
        "ax = plt.axes(projection='3d')\n",
        "ax.plot_trisurf(x, y, z,\n",
        "                cmap='viridis', edgecolor='none');"
      ],
      "execution_count": 0,
      "outputs": []
    },
    {
      "cell_type": "markdown",
      "metadata": {
        "id": "7Ly-awNBbfMp",
        "colab_type": "text"
      },
      "source": [
        "# 과제\n",
        "## 5번\n",
        "* 파일 - 새 Python3 노트를 통해 새 노트북을 만드시오.\n",
        "* 아래 작성된 코드 셀을 복사한 후 ## FIXME ## 부분을 수정하여 x, y, z의 3d plot을 출력하시오.\n",
        "* 파일 - Github에 사본 저장을 통해 1번 과제에서 복사한 저장소에 아래와 같은 이름으로 저장하시오.\n",
        " * 열유체공학실험-2016201278-HW05\n",
        " * 다른 제목인 경우 미제출 처리 될 수 있음."
      ]
    },
    {
      "cell_type": "code",
      "metadata": {
        "id": "z2Il1Ot6bne2",
        "colab_type": "code",
        "colab": {}
      },
      "source": [
        "def homework05():\n",
        "    theta = 2 * np.pi * np.random.random(1000)\n",
        "    r = 6 * np.random.random(1000)\n",
        "    x = np.ravel(r * np.sin(theta))\n",
        "    y = np.ravel(r * np.cos(theta))\n",
        "    z = np.exp(-0.1*x**2-0.1*y**2)\n",
        "    return x, y, z\n",
        "\n",
        "x, y, z = homework05()\n",
        "\n",
        "ax = plt.axes(projection='3d')\n",
        "# TODO\n",
        "# 아래 ax.plot_trisurf 함수 내부 인자를 완성하시오.\n",
        "ax.plot_trisurf(## FIXME ##);\n",
        "ax.set_xlim(-5, 5); ax.set_ylim(-5, 5); ax.set_zlim(0, 1);"
      ],
      "execution_count": 0,
      "outputs": []
    }
  ]
}