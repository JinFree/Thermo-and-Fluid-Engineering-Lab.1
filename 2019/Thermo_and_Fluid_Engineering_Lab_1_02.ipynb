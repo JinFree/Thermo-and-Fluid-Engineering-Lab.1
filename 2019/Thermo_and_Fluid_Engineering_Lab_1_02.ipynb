{
  "nbformat": 4,
  "nbformat_minor": 0,
  "metadata": {
    "colab": {
      "name": "Thermo and Fluid Engineering Lab. 1_02.ipynb",
      "version": "0.3.2",
      "provenance": [],
      "collapsed_sections": [],
      "include_colab_link": true
    },
    "kernelspec": {
      "name": "python3",
      "display_name": "Python 3"
    }
  },
  "cells": [
    {
      "cell_type": "markdown",
      "metadata": {
        "id": "view-in-github",
        "colab_type": "text"
      },
      "source": [
        "<a href=\"https://colab.research.google.com/github/JinFree/Thermo-and-Fluid-Engineering-Lab.1/blob/master/Thermo_and_Fluid_Engineering_Lab_1_02.ipynb\" target=\"_parent\"><img src=\"https://colab.research.google.com/assets/colab-badge.svg\" alt=\"Open In Colab\"/></a>"
      ]
    },
    {
      "cell_type": "markdown",
      "metadata": {
        "id": "i6hlWHk-QEWU",
        "colab_type": "text"
      },
      "source": [
        "# Python을 활용한 수치해법"
      ]
    },
    {
      "cell_type": "markdown",
      "metadata": {
        "id": "U9fzz_ob07KH",
        "colab_type": "text"
      },
      "source": [
        "## Python에서의 기본 데이터 형식"
      ]
    },
    {
      "cell_type": "markdown",
      "metadata": {
        "id": "vFcFa-BA0_X5",
        "colab_type": "text"
      },
      "source": [
        "* C언어와는 다르게, Python에서는 변수를 선언하면서 자료형을 명시할 필요가 없음.\n",
        "* 예를 들어, C언어에서 for문을 통해 등차수열의 합을 구하는 코드는 아래와 같음.\n",
        "```\n",
        "/* C Code */ \n",
        "int result = 0;\n",
        "for( int i = 1 ; i < 51 ; i++)\n",
        "{\n",
        "    result += i;\n",
        "}\n",
        "```\n"
      ]
    },
    {
      "cell_type": "markdown",
      "metadata": {
        "id": "rsqs2PMd2Piv",
        "colab_type": "text"
      },
      "source": [
        "* Python에서 for문을 통해 등차수열의 합을 구하는 코드는 아래와 같음."
      ]
    },
    {
      "cell_type": "code",
      "metadata": {
        "id": "was-Hf48P7dP",
        "colab_type": "code",
        "colab": {}
      },
      "source": [
        "# Python Code\n",
        "result = 0\n",
        "for i in range(1, 51):\n",
        "    result += i"
      ],
      "execution_count": 0,
      "outputs": []
    },
    {
      "cell_type": "markdown",
      "metadata": {
        "id": "T44mMwFx2kWc",
        "colab_type": "text"
      },
      "source": [
        "* C언어에서는 변수를 선언하면서 자료형을 명시하기 때문에 한번 선언한 변수의 자료형을 바꿀 수 없음\n",
        "* 그러나 Python에서는 변수의 자료형을 바꾸는 것이 가능함"
      ]
    },
    {
      "cell_type": "code",
      "metadata": {
        "id": "I6-745tw2x3Z",
        "colab_type": "code",
        "colab": {}
      },
      "source": [
        "var_A = \"Python\"\n",
        "print(var_A)\n",
        "var_A = 22200114\n",
        "print(var_A)\n",
        "var_A -= 114\n",
        "print(var_A)"
      ],
      "execution_count": 0,
      "outputs": []
    },
    {
      "cell_type": "markdown",
      "metadata": {
        "id": "fazutyhnP5Ju",
        "colab_type": "text"
      },
      "source": [
        "* 리스트\n",
        " * C++에서의 std::vector와 유사함\n",
        " * 단 C++에서의 std::vector는 vector 내에 들어가는 데이터 형을 지정해서 초기화하지만 Python에서는 하나의 리스트 내에 다양한 데이터 형을 넣을 수 있음"
      ]
    },
    {
      "cell_type": "code",
      "metadata": {
        "id": "2PAmXzJjS3UI",
        "colab_type": "code",
        "colab": {}
      },
      "source": [
        "list_A = list(range(10))\n",
        "print(list_A)"
      ],
      "execution_count": 0,
      "outputs": []
    },
    {
      "cell_type": "code",
      "metadata": {
        "id": "lG0XEqhqS-uI",
        "colab_type": "code",
        "colab": {}
      },
      "source": [
        "print(type(list_A))\n",
        "print(type(list_A[0]))"
      ],
      "execution_count": 0,
      "outputs": []
    },
    {
      "cell_type": "code",
      "metadata": {
        "id": "k438jyL4TLSS",
        "colab_type": "code",
        "colab": {}
      },
      "source": [
        "list_B = [str(var_A) for var_A in list_A]\n",
        "print(list_B)\n",
        "print(type(list_B))\n",
        "print(type(list_B[0]))"
      ],
      "execution_count": 0,
      "outputs": []
    },
    {
      "cell_type": "code",
      "metadata": {
        "id": "42SanFtpTYqn",
        "colab_type": "code",
        "colab": {}
      },
      "source": [
        "list_C = [True, '2', 3.0, 4]\n",
        "print([type(var_C) for var_C in list_C])"
      ],
      "execution_count": 0,
      "outputs": []
    },
    {
      "cell_type": "markdown",
      "metadata": {
        "id": "FZtX1Wek3Ic9",
        "colab_type": "text"
      },
      "source": [
        "* Array\n",
        " * Python에서 제공하는 내부 데이터 형식을 고정하는 자료형"
      ]
    },
    {
      "cell_type": "code",
      "metadata": {
        "id": "0kKQbZ53Mb8r",
        "colab_type": "code",
        "colab": {}
      },
      "source": [
        "import array\n",
        "list_A = list(range(10))\n",
        "array_A = array.array('i', list_A) # 여기서 i는 정수 자료형임을 의미\n",
        "print(array_A)"
      ],
      "execution_count": 0,
      "outputs": []
    },
    {
      "cell_type": "markdown",
      "metadata": {
        "id": "nAW8Sx4ZMqR3",
        "colab_type": "text"
      },
      "source": [
        "## Numpy\n",
        "* Python을 활용한 수치연산을 위한 라이브러리\n",
        " * Python에서 Numpy를 잘 활용하면 Matlab과 유사하게 사용할 수 있음."
      ]
    },
    {
      "cell_type": "code",
      "metadata": {
        "id": "HR8KHW8ZM1_C",
        "colab_type": "code",
        "colab": {}
      },
      "source": [
        "import numpy as np\n",
        "np.array([1, 2, 3, 4, 5])"
      ],
      "execution_count": 0,
      "outputs": []
    },
    {
      "cell_type": "markdown",
      "metadata": {
        "id": "kyyFqq3wM_gs",
        "colab_type": "text"
      },
      "source": [
        " * Python list와는 다르게 numpy array 내부의 데이터 형은 전부 동일함"
      ]
    },
    {
      "cell_type": "code",
      "metadata": {
        "id": "NYXiX1qaM765",
        "colab_type": "code",
        "colab": {}
      },
      "source": [
        "np.array([3.14, 4, 2, 4])"
      ],
      "execution_count": 0,
      "outputs": []
    },
    {
      "cell_type": "markdown",
      "metadata": {
        "id": "sSOQ1yO5NLdD",
        "colab_type": "text"
      },
      "source": [
        " * numpy array는 데이터의 형태를 명시적으로 지정할 수 있음"
      ]
    },
    {
      "cell_type": "code",
      "metadata": {
        "id": "4Sb_q5e4NQ52",
        "colab_type": "code",
        "colab": {}
      },
      "source": [
        "np.array([1, 2, 3, 4], dtype='float32')"
      ],
      "execution_count": 0,
      "outputs": []
    },
    {
      "cell_type": "markdown",
      "metadata": {
        "id": "Tvu4rg_sNVdl",
        "colab_type": "text"
      },
      "source": [
        " * numpy array는 명시적으로 다차원 데이터를 보관할 수 있음"
      ]
    },
    {
      "cell_type": "code",
      "metadata": {
        "id": "r0ySNH9oNecK",
        "colab_type": "code",
        "colab": {}
      },
      "source": [
        "np.array([range(i, i + 3) for i in [2, 4, 6]])"
      ],
      "execution_count": 0,
      "outputs": []
    },
    {
      "cell_type": "markdown",
      "metadata": {
        "id": "7_YoCoMnNx1o",
        "colab_type": "text"
      },
      "source": [
        "  * Numpy array 생성 방법\n",
        " "
      ]
    },
    {
      "cell_type": "code",
      "metadata": {
        "id": "FZ8qC8xSOAMe",
        "colab_type": "code",
        "colab": {}
      },
      "source": [
        "# 0으로 가득 찬 길이가 10인 정수 array 생성\n",
        "np.zeros(10, dtype=int)"
      ],
      "execution_count": 0,
      "outputs": []
    },
    {
      "cell_type": "code",
      "metadata": {
        "id": "QzgceYt9UAkO",
        "colab_type": "code",
        "colab": {}
      },
      "source": [
        "# 1로 찬 3x5 실수 array 생성\n",
        "np.ones((3, 5), dtype=float)"
      ],
      "execution_count": 0,
      "outputs": []
    },
    {
      "cell_type": "code",
      "metadata": {
        "id": "E18U3B1YUMx6",
        "colab_type": "code",
        "colab": {}
      },
      "source": [
        "# 3.14로 찬 3x5 array 생성\n",
        "np.full((3, 5), 3.14)"
      ],
      "execution_count": 0,
      "outputs": []
    },
    {
      "cell_type": "code",
      "metadata": {
        "id": "qVNP_jCTUTp0",
        "colab_type": "code",
        "colab": {}
      },
      "source": [
        "# array를 규칙에 맞춰서 생성\n",
        "# 0으로 시작해서 2 간격으로 20까지 (20 미포함)\n",
        "np.arange(0, 20, 2)"
      ],
      "execution_count": 0,
      "outputs": []
    },
    {
      "cell_type": "code",
      "metadata": {
        "id": "5Yv6OP6OUjtq",
        "colab_type": "code",
        "colab": {}
      },
      "source": [
        "# 0에서 1사이에 균등하게 5개의 원소를 가진 array 생성\n",
        "np.linspace(0, 1, 5)"
      ],
      "execution_count": 0,
      "outputs": []
    },
    {
      "cell_type": "code",
      "metadata": {
        "id": "ZK7S06MyUzlA",
        "colab_type": "code",
        "colab": {}
      },
      "source": [
        "# 0에서 1 사이의 값을 랜덤하게 사용하여 3x3 array 생성\n",
        "np.random.random((3,3))"
      ],
      "execution_count": 0,
      "outputs": []
    },
    {
      "cell_type": "code",
      "metadata": {
        "id": "GRuuxkHFhVv-",
        "colab_type": "code",
        "colab": {}
      },
      "source": [
        "# 평균이 0이고 분산이 1인 분포에서 랜덤하게 값을 추출하여 3x3 array 생성\n",
        "np.random.normal(0, 1, (3, 3))"
      ],
      "execution_count": 0,
      "outputs": []
    },
    {
      "cell_type": "code",
      "metadata": {
        "id": "uNEfB4gmhy49",
        "colab_type": "code",
        "colab": {}
      },
      "source": [
        "# [0. 10) 사이에서 랜덤하게 정수를 추출하여 3x3 array 생성\n",
        "np.random.randint(0, 10, (3, 3))"
      ],
      "execution_count": 0,
      "outputs": []
    },
    {
      "cell_type": "code",
      "metadata": {
        "id": "3rAZJ-8mh-75",
        "colab_type": "code",
        "colab": {}
      },
      "source": [
        "# 3x3 identity 행렬 생성\n",
        "np.eye(3)"
      ],
      "execution_count": 0,
      "outputs": []
    },
    {
      "cell_type": "markdown",
      "metadata": {
        "id": "nSkA6ByiiL2o",
        "colab_type": "text"
      },
      "source": [
        " * Numpy Data Types\n",
        "  * bool_: Boolean (True or False) stored as a byte\n",
        "  * int_: Default integer type (same as C long; normally either int64 or int32)\n",
        "  * intc: Identical to C int (normally int32 or int64)\n",
        "  * intp: Integer used for indexing (same as C ssize_t; normally either int32 or int64)\n",
        "  * int8: Byte (-128 to 127)\n",
        "  * int16: Integer (-32768 to 32767)\n",
        "  * int32: Integer (-2147483648 to 2147483647)\n",
        "  * int64: Integer (-9223372036854775808 to 9223372036854775807)\n",
        "  * uint8: Unsigned integer (0 to 255)\n",
        "  * uint16: Unsigned integer (0 to 65535)\n",
        "  * uint32: Unsigned integer (0 to 4294967295)\n",
        "  * uint64: Unsigned integer (0 to 18446744073709551615)\n",
        "  * float_: Shorthand for float64.\n",
        "  * float16: Half precision float: sign bit, 5 bits exponent, 10 bits mantissa\n",
        "  * float32: Single precision float: sign bit, 8 bits exponent, 23 bits mantissa\n",
        "  * float64: Double precision float: sign bit, 11 bits exponent, 52 bits mantissa\n",
        "  * complex_: Shorthand for complex128.\n",
        "  * complex64: Complex number, represented by two 32-bit floats\n",
        "  * complex128: Complex number, represented by two 64-bit floats"
      ]
    },
    {
      "cell_type": "markdown",
      "metadata": {
        "id": "3RK1j1qbzE6v",
        "colab_type": "text"
      },
      "source": [
        "# 과제\n",
        "## 1번\n",
        "* Github에 회원가입한 후 아래의 저장소를 fork하시오.\n",
        " * https://github.com/JinFree/Thermo-and-Fluid-Engineering-Lab.1\n",
        "\n",
        "## 2번\n",
        "* 파일 - 새 Python3 노트를 통해 새 노트북을 만드시오.\n",
        "* Python을 활용하여 구구단을 출력하는 함수를 만드시오.\n",
        " * 입력은 하나의 정수를 받으며, 출력은 해당 정수의 구구단을 총 9줄로 출력함.\n",
        "* 파일 - Github에 사본 저장을 통해 1번 과제에서 복사한 저장소에 아래와 같은 이름으로 저장하시오.\n",
        " * 열유체공학실험-2016201278-HW02\n",
        " * 다른 제목인 경우 미제출 처리 될 수 있음.\n",
        "* 아래 이메일로 Github Profile 주소를 보내시오.\n",
        " * 주소: domeano@naver.com\n",
        " * 제목: 열유체공학실험-2016201278-왕진영\n",
        " * 내용: https://github.com/JinFree\n",
        " * 다른 제목인 경우 미제출 처리 될 수 있음."
      ]
    },
    {
      "cell_type": "code",
      "metadata": {
        "id": "8HxKcWBRjly7",
        "colab_type": "code",
        "colab": {}
      },
      "source": [
        ""
      ],
      "execution_count": 0,
      "outputs": []
    }
  ]
}