{
  "nbformat": 4,
  "nbformat_minor": 0,
  "metadata": {
    "colab": {
      "name": "Thermo and Fluid Engineering Lab. 1_01.ipynb",
      "version": "0.3.2",
      "provenance": [],
      "include_colab_link": true
    },
    "kernelspec": {
      "name": "python3",
      "display_name": "Python 3"
    }
  },
  "cells": [
    {
      "cell_type": "markdown",
      "metadata": {
        "id": "view-in-github",
        "colab_type": "text"
      },
      "source": [
        "<a href=\"https://colab.research.google.com/github/JinFree/Thermo-and-Fluid-Engineering-Lab.1/blob/master/Thermo_and_Fluid_Engineering_Lab_1_01.ipynb\" target=\"_parent\"><img src=\"https://colab.research.google.com/assets/colab-badge.svg\" alt=\"Open In Colab\"/></a>"
      ]
    },
    {
      "cell_type": "markdown",
      "metadata": {
        "id": "fQieq6mtz4sb",
        "colab_type": "text"
      },
      "source": [
        "# 이상환교수님 열유체공학실험\n",
        "##수업 관련 문의\n",
        "* 연구실: [공업센터 본관 116호 병렬연산연구실](http://vortex.hanyang.ac.kr)\n",
        "* 왕진영: ytrqwe12@gmail.com\n",
        "* 김민오: domeano@naver.com\n",
        "\n",
        "##성적\n",
        "* 출석: 20%\n",
        "* 과제: 80%\n",
        "\n",
        "##실습환경\n",
        "* Python3\n",
        "* Google Colab\n",
        "* Google Drive\n",
        "* Github"
      ]
    },
    {
      "cell_type": "markdown",
      "metadata": {
        "id": "LvYMQnQU-aDf",
        "colab_type": "text"
      },
      "source": [
        "## Python3\n",
        "* 1991년에 귀도 반 로썸에 의해 만들어진 인터프리터형 프로그래밍 언어\n",
        "* C언어나 C++을 컴파일러형 언어, Matlab이나 Python을 인터프리터형 언어로 구분한다면 이해가 쉬워진다.\n",
        "### 문자열을 출력하는 코드의 비교\n",
        "* C언어의 경우\n",
        "\n",
        "```\n",
        "# <include>\n",
        "int main(void) {\n",
        "    print(\"Print C++\\n\");\n",
        "}\n",
        "```\n",
        "* Python의 경우\n",
        "\n",
        "\n",
        "```\n",
        "print(\"Print Python\")\n",
        "```\n"
      ]
    },
    {
      "cell_type": "code",
      "metadata": {
        "id": "vG3vxNz8_CbZ",
        "colab_type": "code",
        "colab": {}
      },
      "source": [
        "print(\"Print Python\")"
      ],
      "execution_count": 0,
      "outputs": []
    },
    {
      "cell_type": "markdown",
      "metadata": {
        "id": "eXm7cCe2AbPG",
        "colab_type": "text"
      },
      "source": [
        "### Python에서의 함수 작성 및 함수 활용 예시"
      ]
    },
    {
      "cell_type": "code",
      "metadata": {
        "id": "Y3pK5RkZAk8t",
        "colab_type": "code",
        "colab": {}
      },
      "source": [
        "def function(num_a, num_b):\n",
        "    if num_a > 20:\n",
        "        print(\"num_a is larger than 20\")\n",
        "        return num_a\n",
        "    elif num_a == 10:\n",
        "        return num_a * num_b\n",
        "    else:\n",
        "        result = 0\n",
        "        for i in range(num_a):\n",
        "            result = result + num_b\n",
        "        return result\n",
        "\n",
        "a = 10\n",
        "b = 20\n",
        "result = function(a, b)\n",
        "print(result)"
      ],
      "execution_count": 0,
      "outputs": []
    },
    {
      "cell_type": "markdown",
      "metadata": {
        "id": "txW7Ff276uI6",
        "colab_type": "text"
      },
      "source": [
        "## Google Colab\n",
        "* 구글에서 제공하는 무료 Jupyter Notebook 계산 환경\n",
        "* [Colab 설명 링크](https://colab.research.google.com/notebooks/welcome.ipynb#recent=true)\n",
        "\n",
        "\n",
        "## Jupyter Notebook##\n",
        "* Python언어를 활용하여 코드를 작성하고 실행할 수 있는 대화형 환경\n",
        "* 전체 코드를 한번에 실행하는 것이 아니라, 각각의 셀로 나누어서 실행 가능\n"
      ]
    },
    {
      "cell_type": "markdown",
      "metadata": {
        "id": "GuJeT-FA8UL0",
        "colab_type": "text"
      },
      "source": [
        "## Google Drive\n",
        "* 구글의 클라우드 저장소\n",
        "* 기본 무료 15GB\n",
        "* 아래와 같은 방법으로 구글 드라이브를 Colab 환경에 마운트시킬 수 있다.\n",
        "* 이 때 경로는 /content/gdrive/'My Drive'"
      ]
    },
    {
      "cell_type": "code",
      "metadata": {
        "id": "lHT99jNcy4ID",
        "colab_type": "code",
        "colab": {}
      },
      "source": [
        "from google.colab import drive\n",
        "drive.mount('/content/gdrive')"
      ],
      "execution_count": 0,
      "outputs": []
    },
    {
      "cell_type": "markdown",
      "metadata": {
        "id": "c_BK8KfL87Qo",
        "colab_type": "text"
      },
      "source": [
        "## [Github](https://github.com/)\n",
        "* 코드의 버전을 관리하면서 코드를 공유할 수 있는 웹사이트\n",
        "* 100MB 이하의 파일은 개수 무제한으로 올릴 수 있음\n",
        "* 다양한 파일의 버전을 관리할 수 있음\n",
        "* 아래와 같은 방법으로 특정 github 저장소를 colab의 로컬 환경에 저장할 수 있다."
      ]
    },
    {
      "cell_type": "code",
      "metadata": {
        "id": "iMRd4PU799PQ",
        "colab_type": "code",
        "colab": {}
      },
      "source": [
        "!git clone https://github.com/JinFree/Thermo-and-Fluid-Engineering-Lab.1"
      ],
      "execution_count": 0,
      "outputs": []
    }
  ]
}