{
  "nbformat": 4,
  "nbformat_minor": 0,
  "metadata": {
    "colab": {
      "name": "Thermo_and_Fluid_Engineering_Lab_1_06.ipynb",
      "version": "0.3.2",
      "provenance": [],
      "toc_visible": true,
      "include_colab_link": true
    },
    "kernelspec": {
      "name": "python3",
      "display_name": "Python 3"
    }
  },
  "cells": [
    {
      "cell_type": "markdown",
      "metadata": {
        "id": "view-in-github",
        "colab_type": "text"
      },
      "source": [
        "<a href=\"https://colab.research.google.com/github/JinFree/Thermo-and-Fluid-Engineering-Lab.1/blob/master/Thermo_and_Fluid_Engineering_Lab_1_06.ipynb\" target=\"_parent\"><img src=\"https://colab.research.google.com/assets/colab-badge.svg\" alt=\"Open In Colab\"/></a>"
      ]
    },
    {
      "cell_type": "markdown",
      "metadata": {
        "id": "9PhjDR2q7633",
        "colab_type": "text"
      },
      "source": [
        "# Scipy"
      ]
    },
    {
      "cell_type": "markdown",
      "metadata": {
        "id": "J1NH0aYKGyAL",
        "colab_type": "text"
      },
      "source": [
        "## 선형대수 기본 연산"
      ]
    },
    {
      "cell_type": "markdown",
      "metadata": {
        "id": "CqjbdK1YG0Dt",
        "colab_type": "text"
      },
      "source": [
        "* scipy는 거의 항상 numpy와 같이 사용된다.\n",
        "* 선형대수 연산을 지원하는 scipy.linalg 모듈을 불러온다"
      ]
    },
    {
      "cell_type": "code",
      "metadata": {
        "id": "K09z1DbCG7xi",
        "colab_type": "code",
        "colab": {}
      },
      "source": [
        "import numpy as np\n",
        "from scipy.linalg import *      # 선형대수 라이브러리 "
      ],
      "execution_count": 0,
      "outputs": []
    },
    {
      "cell_type": "markdown",
      "metadata": {
        "id": "YbGVhVq5HCRr",
        "colab_type": "text"
      },
      "source": [
        "* 행렬은 np.array()함수를 활용한다."
      ]
    },
    {
      "cell_type": "code",
      "metadata": {
        "id": "RpYwDMFIG9T6",
        "colab_type": "code",
        "colab": {}
      },
      "source": [
        "arr = np.array([[1, 2],[3, 4]])\n",
        "arr"
      ],
      "execution_count": 0,
      "outputs": []
    },
    {
      "cell_type": "markdown",
      "metadata": {
        "id": "xKiOcFw5HCEg",
        "colab_type": "text"
      },
      "source": [
        "* 행렬식의 계산은 det() 함수를 활용한다."
      ]
    },
    {
      "cell_type": "code",
      "metadata": {
        "id": "HLtJVzgwHMAR",
        "colab_type": "code",
        "colab": {}
      },
      "source": [
        "det(arr)"
      ],
      "execution_count": 0,
      "outputs": []
    },
    {
      "cell_type": "markdown",
      "metadata": {
        "id": "v2dnW9W3HOcs",
        "colab_type": "text"
      },
      "source": [
        "* 역행렬은 inv()함수를 활용한다."
      ]
    },
    {
      "cell_type": "code",
      "metadata": {
        "id": "sh0vPON3HNRx",
        "colab_type": "code",
        "colab": {}
      },
      "source": [
        "iarr = inv(arr)\n",
        "iarr"
      ],
      "execution_count": 0,
      "outputs": []
    },
    {
      "cell_type": "markdown",
      "metadata": {
        "id": "0nFWEw5jHTqD",
        "colab_type": "text"
      },
      "source": [
        "* 행렬의 곱셈은 아래와 같이 작성한다\n",
        " * np.dot(A, B)"
      ]
    },
    {
      "cell_type": "code",
      "metadata": {
        "id": "DKahFNbDHTJx",
        "colab_type": "code",
        "colab": {}
      },
      "source": [
        "np.dot( arr, iarr )"
      ],
      "execution_count": 0,
      "outputs": []
    },
    {
      "cell_type": "markdown",
      "metadata": {
        "id": "ASmhTnYFHdgr",
        "colab_type": "text"
      },
      "source": [
        "## 행렬로 연립방정식 풀이"
      ]
    },
    {
      "cell_type": "markdown",
      "metadata": {
        "id": "hEugqwVrHmvY",
        "colab_type": "text"
      },
      "source": [
        "* 아래의 연립방정식을 풀이한다.\n",
        "\\begin{equation}\n",
        "3x + 2y = 2\n",
        "\\end{equation}\n",
        "\\begin{equation}\n",
        "x - y = 4\n",
        "\\end{equation}\n",
        "\\begin{equation}\n",
        "5y + z = -1\n",
        "\\end{equation}"
      ]
    },
    {
      "cell_type": "code",
      "metadata": {
        "id": "iAGxxF4THcC4",
        "colab_type": "code",
        "colab": {}
      },
      "source": [
        "A = np.array([[3, 2, 0], [1, -1, 0], [0, 5, 1]])\n",
        "b = np.array([2, 4, -1])      # 열벡터\n",
        "x = solve(A, b)\n",
        "x"
      ],
      "execution_count": 0,
      "outputs": []
    },
    {
      "cell_type": "markdown",
      "metadata": {
        "id": "wmBX2dwzH12J",
        "colab_type": "text"
      },
      "source": [
        "* 정답여부를 확인한다."
      ]
    },
    {
      "cell_type": "code",
      "metadata": {
        "id": "qwe_NqByH1BZ",
        "colab_type": "code",
        "colab": {}
      },
      "source": [
        "np.dot( A, x )"
      ],
      "execution_count": 0,
      "outputs": []
    },
    {
      "cell_type": "markdown",
      "metadata": {
        "id": "aYuIz8hkH-wF",
        "colab_type": "text"
      },
      "source": [
        "## 비선형 방정식의 해 구하기"
      ]
    },
    {
      "cell_type": "markdown",
      "metadata": {
        "id": "aS6-p_SYIDHz",
        "colab_type": "text"
      },
      "source": [
        "* 아래 방정식의 해를 구한다.\n",
        "\\begin{equation}\n",
        "x = e^{-x}\n",
        "\\end{equation}"
      ]
    },
    {
      "cell_type": "code",
      "metadata": {
        "id": "68dgoIssH-Bz",
        "colab_type": "code",
        "colab": {}
      },
      "source": [
        "import matplotlib.pyplot as plt\n",
        "%matplotlib inline \n",
        "x = np.linspace(-1,1,101)   \n",
        "y = np.exp( -x )\n",
        "plt.plot( x, y )\n",
        "plt.plot( x, x )\n",
        "plt.show()"
      ],
      "execution_count": 0,
      "outputs": []
    },
    {
      "cell_type": "markdown",
      "metadata": {
        "id": "Z8Lg2ypkIJuQ",
        "colab_type": "text"
      },
      "source": [
        "* 그래프를 통해서 보면 위와 같다.\n",
        "* 0.5 근처에서 해가 존재함을 알 수 있다."
      ]
    },
    {
      "cell_type": "markdown",
      "metadata": {
        "id": "HRjwMK2-IR_L",
        "colab_type": "text"
      },
      "source": [
        "* 비선형 방정식을 풀기 위하여 scipy.optimize 모듈을 불러온다"
      ]
    },
    {
      "cell_type": "code",
      "metadata": {
        "id": "OQESwhvLIMEq",
        "colab_type": "code",
        "colab": {}
      },
      "source": [
        "from math import *                    # 일반적인 수학 함수를 사용하려면 필요하다.\n",
        "from scipy.optimize import fsolve     # fsolve( ) 함수를 도입한다."
      ],
      "execution_count": 0,
      "outputs": []
    },
    {
      "cell_type": "markdown",
      "metadata": {
        "id": "YAT4pgg0KFJx",
        "colab_type": "text"
      },
      "source": [
        "* 방정식을 f(x) = 0 형태로 하여 함수로 정의한다."
      ]
    },
    {
      "cell_type": "code",
      "metadata": {
        "id": "YzL2qehRKExK",
        "colab_type": "code",
        "colab": {}
      },
      "source": [
        "def f(x):\n",
        "    return x - exp(-x)"
      ],
      "execution_count": 0,
      "outputs": []
    },
    {
      "cell_type": "markdown",
      "metadata": {
        "id": "2stbEh2IKdLU",
        "colab_type": "text"
      },
      "source": [
        "* 해를 구한다.\n",
        "* fsolve(함수, 초기값)"
      ]
    },
    {
      "cell_type": "code",
      "metadata": {
        "id": "a_kt52mUKc26",
        "colab_type": "code",
        "colab": {}
      },
      "source": [
        "fsolve( f, 0.5 )"
      ],
      "execution_count": 0,
      "outputs": []
    },
    {
      "cell_type": "markdown",
      "metadata": {
        "id": "e83jLIeeKh_Q",
        "colab_type": "text"
      },
      "source": [
        "## 함수의 최소값"
      ]
    },
    {
      "cell_type": "markdown",
      "metadata": {
        "id": "ChBihku0KrJu",
        "colab_type": "text"
      },
      "source": [
        "* scipt.optimize모듈의 fmin_bfgz()함수로 최소값을 구한다."
      ]
    },
    {
      "cell_type": "code",
      "metadata": {
        "id": "DwMmLibxKg4S",
        "colab_type": "code",
        "colab": {}
      },
      "source": [
        "from scipy.optimize import fmin_bfgs"
      ],
      "execution_count": 0,
      "outputs": []
    },
    {
      "cell_type": "markdown",
      "metadata": {
        "id": "iWKIDKMYKw-z",
        "colab_type": "text"
      },
      "source": [
        "* 아래 식의 최소값을 구한다.\n",
        "\\begin{equation}\n",
        "f(x) = x^2 + 10sin(x)\n",
        "\\end{equation}\n",
        "* 파이썬 함수로 정의한 후 함수의 형태를 그래프로 그려본다."
      ]
    },
    {
      "cell_type": "code",
      "metadata": {
        "id": "FzrcmgZnKwvr",
        "colab_type": "code",
        "colab": {}
      },
      "source": [
        "def f(x):\n",
        "    return x**2 + 10*np.sin(x)\n",
        "\n",
        "x = np.arange(-10, 10, 0.1)\n",
        "plt.plot(x, f(x))\n",
        "plt.show()"
      ],
      "execution_count": 0,
      "outputs": []
    },
    {
      "cell_type": "markdown",
      "metadata": {
        "id": "gExtBBmrK5na",
        "colab_type": "text"
      },
      "source": [
        "* fmin_bfgs()함수의 인자로 최소화할 함수의 이름과 x의 시작점을 넘겨준다."
      ]
    },
    {
      "cell_type": "code",
      "metadata": {
        "id": "EICTRRVUK4oi",
        "colab_type": "code",
        "colab": {}
      },
      "source": [
        "fmin_bfgs( f, 0 )"
      ],
      "execution_count": 0,
      "outputs": []
    },
    {
      "cell_type": "markdown",
      "metadata": {
        "id": "ShuiFm3YLBQK",
        "colab_type": "text"
      },
      "source": [
        "* fmin_bfgs() 함수는 국부 최소점을 찾는 기능만 있으므로, 초기값에 따라 결과가 달라질 수 있다.\n",
        "* x=3을 시작점으로 하면 아래와 같다."
      ]
    },
    {
      "cell_type": "code",
      "metadata": {
        "id": "2z--caOhLAHU",
        "colab_type": "code",
        "colab": {}
      },
      "source": [
        "fmin_bfgs( f, 3 )"
      ],
      "execution_count": 0,
      "outputs": []
    },
    {
      "cell_type": "markdown",
      "metadata": {
        "id": "PhApGCDyLPaQ",
        "colab_type": "text"
      },
      "source": [
        "## 수치 적분"
      ]
    },
    {
      "cell_type": "markdown",
      "metadata": {
        "id": "jRYGz-LiLRmu",
        "colab_type": "text"
      },
      "source": [
        "* scipy.integrate 모듈의 quad() 함수를 이용하여 수치 적분을 계산한다.\n",
        "* 아래 정적분을 계산한다.\n",
        "\\begin{equation}\n",
        "\\int_{0}^{1}x^2dx\n",
        "\\end{equation}"
      ]
    },
    {
      "cell_type": "code",
      "metadata": {
        "id": "nqT8-ppxLOxL",
        "colab_type": "code",
        "colab": {}
      },
      "source": [
        "from scipy.integrate import quad\n",
        "def f(x):\n",
        "    return x*x\n",
        "quad( f, 0, 1 )"
      ],
      "execution_count": 0,
      "outputs": []
    },
    {
      "cell_type": "markdown",
      "metadata": {
        "id": "lN80_5QaL5vZ",
        "colab_type": "text"
      },
      "source": [
        "* 첫번째 반환값이 수치적분의 결과값\n",
        "* 두번째 반환값은 추정오차이다."
      ]
    },
    {
      "cell_type": "markdown",
      "metadata": {
        "id": "K8gpLHNhMK5P",
        "colab_type": "text"
      },
      "source": [
        "* 피적분 함수를 numpy를 함수를 활용한 수학식으로 표현할 수 있다.\n",
        "* exp(-x)를 0부터 무한대까지 적분하는 코드는 아래와 같다."
      ]
    },
    {
      "cell_type": "code",
      "metadata": {
        "id": "kn1GKo6ZL1h8",
        "colab_type": "code",
        "colab": {}
      },
      "source": [
        "def f(x):\n",
        "    return np.exp(-x)\n",
        "F, err = quad( f, 0, np.inf )\n",
        "print(F)"
      ],
      "execution_count": 0,
      "outputs": []
    },
    {
      "cell_type": "markdown",
      "metadata": {
        "id": "BqCzJb-kMdC6",
        "colab_type": "text"
      },
      "source": [
        "## 선형 회귀법: 최소제곱법"
      ]
    },
    {
      "cell_type": "markdown",
      "metadata": {
        "id": "wr4EqMRwNN03",
        "colab_type": "text"
      },
      "source": [
        "* scipy.stats 모듈의 linregress(x, y)함수를 사용하여 회귀 직선의 기울기와 절편을 구할 수 있따."
      ]
    },
    {
      "cell_type": "code",
      "metadata": {
        "id": "YePJ7lmdL2Mi",
        "colab_type": "code",
        "colab": {}
      },
      "source": [
        "import numpy as np\n",
        "from scipy.stats import linregress\n",
        "\n",
        "x = np.linspace(0, 4, 5)\n",
        "y = [ 0, 2.1, 4.2, 5.9, 8.3 ] \n",
        "slope, intercept, r_value, p_value, std_err = linregress(x, y)\n",
        "\n",
        "print(\"slope = %8.3f\" % slope)\n",
        "print(\"intercept = %8.3f\" % intercept)"
      ],
      "execution_count": 0,
      "outputs": []
    },
    {
      "cell_type": "markdown",
      "metadata": {
        "id": "fmlwVvwsNoVJ",
        "colab_type": "text"
      },
      "source": [
        "* 회귀 직선과 데이터를 그려서 비교한다."
      ]
    },
    {
      "cell_type": "code",
      "metadata": {
        "id": "R6A1HSC4Nnwb",
        "colab_type": "code",
        "colab": {}
      },
      "source": [
        "yfit = intercept + slope * x  \n",
        "\n",
        "plt.plot(x, y, 'o', label='data')\n",
        "plt.plot(x, yfit, 'r', label='fitted line')\n",
        "plt.legend()\n",
        "plt.xlabel('x')\n",
        "plt.ylabel('y')\n",
        "plt.show()"
      ],
      "execution_count": 0,
      "outputs": []
    },
    {
      "cell_type": "markdown",
      "metadata": {
        "id": "k6lk1QPiNsTU",
        "colab_type": "text"
      },
      "source": [
        "## 비선형 회귀법: Levenberg-Marquardt 알고리즘"
      ]
    },
    {
      "cell_type": "markdown",
      "metadata": {
        "id": "4mZ8sqwWNw3d",
        "colab_type": "text"
      },
      "source": [
        "* 아래 주어진 데이터를 비선형 회귀법으로 얻는 예제이다."
      ]
    },
    {
      "cell_type": "code",
      "metadata": {
        "id": "XBqo0gIrNrT7",
        "colab_type": "code",
        "colab": {}
      },
      "source": [
        "ndata = 101\n",
        "\n",
        "x = np.linspace(-5,5,ndata)\n",
        "y = 0.6*x + 5* np.exp(-0.2* x**2 ) + np.random.rand(ndata) \n",
        "plt.plot(x,y,'o')"
      ],
      "execution_count": 0,
      "outputs": []
    },
    {
      "cell_type": "markdown",
      "metadata": {
        "id": "YAiZ4PatN7As",
        "colab_type": "text"
      },
      "source": [
        "* Levenberg-Marquardt 알고리즘을 사용하여 최적의 곡선을 구한다.\n",
        "* scipy.optimize 모듈의 curve_fit()함수를 이용한다.\n",
        "* 원하는 형태의 곡선에 대한 수식을 함수로 정의한다.\n",
        "* 함수의 수식을 표현할 떄, numpy 함수를 사용한다.\n",
        "\\begin{equation}\n",
        "y = a x + b e^{-c  x^2}\n",
        "\\end{equation}\n",
        "* 위와 같이 가정하며, a, b, c는 비선형 회귀에 의해 결정될 값이다."
      ]
    },
    {
      "cell_type": "code",
      "metadata": {
        "id": "Ev6IbVTdN6C7",
        "colab_type": "code",
        "colab": {}
      },
      "source": [
        "# non-linear least square method using Levenberg-Marquardt algorithm  \n",
        "from scipy.optimize import curve_fit\n",
        "\n",
        "def func(x, a, b, c):\n",
        "    return a*x + b*np.exp(-c* x**2 )   "
      ],
      "execution_count": 0,
      "outputs": []
    },
    {
      "cell_type": "markdown",
      "metadata": {
        "id": "6Z4Fo0nKOcFb",
        "colab_type": "text"
      },
      "source": [
        "* 변수의 초기값을 설정하고 curve_fit 함수를 호출한다.\n",
        "* 첫번째로 반환되는 변수 popt가 최적화된 변수에 대한 리스트이다."
      ]
    },
    {
      "cell_type": "code",
      "metadata": {
        "id": "dXPiyIXTOarl",
        "colab_type": "code",
        "colab": {}
      },
      "source": [
        "p0ini = [0, 0, 0]            # initial values of parameters for fitting function\n",
        "popt, pcov = curve_fit( func, x, y, p0 = p0ini )      \n",
        "\n",
        "print( popt )"
      ],
      "execution_count": 0,
      "outputs": []
    },
    {
      "cell_type": "markdown",
      "metadata": {
        "id": "uVAScUAtTg8p",
        "colab_type": "text"
      },
      "source": [
        "* 구해진 변수로 최적화된 곡선을 예측하고, 원래의 데이터와 비교한다."
      ]
    },
    {
      "cell_type": "code",
      "metadata": {
        "id": "NRSnHmAFTfiF",
        "colab_type": "code",
        "colab": {}
      },
      "source": [
        "yfit = func( x, *popt )       # 매개변수를 함수의 인자 a, b, c 로 전달하여 계산한다.\n",
        "\n",
        "plt.plot( x, y, 'o', label='data')\n",
        "plt.plot( x, yfit, 'r', label='fitted curve')\n",
        "plt.legend()\n",
        "plt.xlabel('x')\n",
        "plt.ylabel('y')\n",
        "plt.show()"
      ],
      "execution_count": 0,
      "outputs": []
    },
    {
      "cell_type": "markdown",
      "metadata": {
        "id": "XDol0e8DTvbp",
        "colab_type": "text"
      },
      "source": [
        "## 상미분 방정식: 초기값 문제"
      ]
    },
    {
      "cell_type": "markdown",
      "metadata": {
        "id": "uzJkX7YOTy1K",
        "colab_type": "text"
      },
      "source": [
        "* scipy.integrate 모듈의 solve_ivp() 함수를 이용하여 상미분방정식의 초기값문제에 대한 수치해를 얻을 수 있다."
      ]
    },
    {
      "cell_type": "code",
      "metadata": {
        "id": "7y10q9mATuRd",
        "colab_type": "code",
        "colab": {}
      },
      "source": [
        "from scipy.integrate import solve_ivp"
      ],
      "execution_count": 0,
      "outputs": []
    },
    {
      "cell_type": "markdown",
      "metadata": {
        "id": "VkmPetZ1T6S5",
        "colab_type": "text"
      },
      "source": [
        "* 아래와 같은 일계 상미분방정식의 수치해를 구하는 경우를 실습한다.\n",
        "\\begin{equation}\n",
        "\\frac{dy}{dt}=0.5y\n",
        "\\end{equation}\n",
        "* 도함수를 함수 형식으로 정의한다."
      ]
    },
    {
      "cell_type": "code",
      "metadata": {
        "id": "4TDCQzquUFVu",
        "colab_type": "code",
        "colab": {}
      },
      "source": [
        "def dydt(t, y) : \n",
        "    return -0.5 * y"
      ],
      "execution_count": 0,
      "outputs": []
    },
    {
      "cell_type": "markdown",
      "metadata": {
        "id": "5MF7vzwiUGZa",
        "colab_type": "text"
      },
      "source": [
        "* 초기값 y(0) = 1 에 대하여, t = 10까지 수치해를 구한다."
      ]
    },
    {
      "cell_type": "code",
      "metadata": {
        "id": "BAOtJu6yUOas",
        "colab_type": "code",
        "colab": {}
      },
      "source": [
        "t0 = 0\n",
        "tend = 10\n",
        "y0 = 1\n",
        "\n",
        "sol = solve_ivp( dydt, (t0, tend), (y0,), t_eval=np.linspace(t0,tend,21) )"
      ],
      "execution_count": 0,
      "outputs": []
    },
    {
      "cell_type": "markdown",
      "metadata": {
        "id": "DGbg7q2QUN7q",
        "colab_type": "text"
      },
      "source": [
        "* 초기값이 하나인 경우에도 입력 인자는 튜플이다.\n",
        "* 인자 t_eval은 선택사항으로, 수치해가 계산될 t의 간격을 명시할 수 있다.\n",
        "* 결과가 반환된 변수 sol에서 y와 방정식의 해 y는 아래와 같이 얻어진다."
      ]
    },
    {
      "cell_type": "code",
      "metadata": {
        "id": "cQWs-qqSUe0u",
        "colab_type": "code",
        "colab": {}
      },
      "source": [
        "sol.t"
      ],
      "execution_count": 0,
      "outputs": []
    },
    {
      "cell_type": "code",
      "metadata": {
        "id": "m573WJL5Uffb",
        "colab_type": "code",
        "colab": {}
      },
      "source": [
        "sol.y"
      ],
      "execution_count": 0,
      "outputs": []
    },
    {
      "cell_type": "markdown",
      "metadata": {
        "id": "RAzCmbzUUlzf",
        "colab_type": "text"
      },
      "source": [
        "* 결과를 그래프로 그린다.\n",
        "* sol.y는 2차원 배열이므로 첫번째 행을 인자로 넣는다."
      ]
    },
    {
      "cell_type": "code",
      "metadata": {
        "id": "FCFVR0TFUgR1",
        "colab_type": "code",
        "colab": {}
      },
      "source": [
        "plt.plot( sol.t, sol.y[0] )\n",
        "plt.xlabel('t')\n",
        "plt.ylabel('y')\n",
        "plt.show()"
      ],
      "execution_count": 0,
      "outputs": []
    },
    {
      "cell_type": "markdown",
      "metadata": {
        "id": "_U4oGQgfVqSt",
        "colab_type": "text"
      },
      "source": [
        "## 이계 상미분방정식"
      ]
    },
    {
      "cell_type": "markdown",
      "metadata": {
        "id": "IhK2Kn1zW0rk",
        "colab_type": "text"
      },
      "source": [
        "* 아래 이계 미분방정식을 푸는 예제이다.\n",
        "\\begin{equation}\n",
        "y''+2y'+2y=cos(2t)\n",
        "\\end{equation}\n",
        "\\begin{equation}\n",
        "y(0) = 0\n",
        "\\end{equation}\n",
        "\\begin{equation}\n",
        " y'(0) = 0\n",
        "\\end{equation}\n",
        "* 이계 미분방정식은 연립 일계 미분방정식으로 변환할 수 있다.\n",
        " * 아래와 같이 치환하도록 한다.\n",
        " \\begin{equation}\n",
        "v(t) = y'(t)\n",
        "\\end{equation} \n",
        " * 최종적으로 아래와 같이 바꿀 수 있다.\n",
        "\\begin{equation}\n",
        "v' + 2v + 2y = cos(2)\n",
        "\\end{equation}\n",
        "\\begin{equation}y(0) = 0\n",
        "\\end{equation}\n",
        "\\begin{equation}v(0) = 0\n",
        "\\end{equation}"
      ]
    },
    {
      "cell_type": "code",
      "metadata": {
        "id": "rl3BIzPlUsa4",
        "colab_type": "code",
        "colab": {}
      },
      "source": [
        "def dYdt( t, Y ) :                              # Y[0] = y(t), Y[1] = v(t)\n",
        "    return  Y[1], -2*Y[1]-2*Y[0]+np.cos(2*t)    # y'(t), v'(t)\n",
        "\n",
        "# 초기값\n",
        "Y0 = ( 0, 0 )      # y(0)  v(0)\n",
        "\n",
        "t0 = 0\n",
        "tend = 10\n",
        "\n",
        "sol = solve_ivp( dYdt, (t0, tend), Y0, t_eval=np.linspace(t0,tend,101) )"
      ],
      "execution_count": 0,
      "outputs": []
    },
    {
      "cell_type": "code",
      "metadata": {
        "id": "9HR3hUODXSmO",
        "colab_type": "code",
        "colab": {}
      },
      "source": [
        "plt.plot( sol.t, sol.y[0] )\n",
        "plt.xlabel('t')\n",
        "plt.ylabel('y')\n",
        "plt.show()"
      ],
      "execution_count": 0,
      "outputs": []
    },
    {
      "cell_type": "markdown",
      "metadata": {
        "id": "Ll7az5nBXla5",
        "colab_type": "text"
      },
      "source": [
        "# 과제\n",
        "## 6번\n",
        "* 파일 - 새 Python3 노트를 통해 새 노트북을 만드시오.\n",
        "* 아래 작성된 코드 셀을 복사한 후 ## FIXME ## 부분을 수정하여 감쇠진동 상미분방정식의 그래프를 plot하시오.\n",
        "* 파일 - Github에 사본 저장을 통해 1번 과제에서 복사한 저장소에 아래와 같은 이름으로 저장하시오.\n",
        " * 열유체공학실험-2016201278-HW06\n",
        " * 다른 제목인 경우 미제출 처리 될 수 있음."
      ]
    },
    {
      "cell_type": "markdown",
      "metadata": {
        "id": "Tg-aI-QPIieh",
        "colab_type": "text"
      },
      "source": [
        "* 감쇠진동 상미분방정식\n",
        "\n",
        "\\begin{equation}\n",
        "4x'' + 1x' + 4x = 0\n",
        "\\end{equation}\n",
        "\\begin{equation}\n",
        "x(0) = 0\n",
        "\\end{equation}\n",
        "\\begin{equation}\n",
        "x'(0) = 0\n",
        "\\end{equation}\n",
        " * 위와 같을 떄 t = 0부터 t = 20까지의 위치를 그래프로 그리시오."
      ]
    },
    {
      "cell_type": "code",
      "metadata": {
        "colab_type": "code",
        "id": "6YIm_NduejeT",
        "colab": {}
      },
      "source": [
        "'''\n",
        "* 감쇠진동 상미분방정식\n",
        " * 4x'' + 1x' + 4x = 0\n",
        " * x(0) = 10\n",
        " * x'(0) = 0\n",
        "* 위와 같을 때 t = 0부터 t = 20까지의 위치를 그래프로 그리시오.\n",
        "'''\n",
        "\n",
        "def dXdt( t, X ) :                              \n",
        "    return  ## FIXME ##\n",
        "\n",
        "# 초기값\n",
        "X0 = ( 10, 0 ) \n",
        "\n",
        "t0 = 0\n",
        "tend = 20\n",
        "\n",
        "sol = solve_ivp( dXdt, (t0, tend), X0, t_eval=np.linspace(t0,tend,101) )\n",
        "plt.plot( sol.t, sol.y[0] )\n",
        "plt.xlabel('t')\n",
        "plt.ylabel('y')\n",
        "plt.show()"
      ],
      "execution_count": 0,
      "outputs": []
    },
    {
      "cell_type": "code",
      "metadata": {
        "id": "uxNlFll5dPOO",
        "colab_type": "code",
        "colab": {}
      },
      "source": [
        ""
      ],
      "execution_count": 0,
      "outputs": []
    }
  ]
}